{
  "nbformat": 4,
  "nbformat_minor": 0,
  "metadata": {
    "colab": {
      "name": "exam_score_with_keras.ipynb",
      "version": "0.3.2",
      "provenance": [],
      "collapsed_sections": []
    },
    "kernelspec": {
      "name": "python3",
      "display_name": "Python 3"
    }
  },
  "cells": [
    {
      "cell_type": "code",
      "metadata": {
        "id": "sd56V-_ZfoJ1",
        "colab_type": "code",
        "colab": {}
      },
      "source": [
        "import numpy as np\n",
        "from   sklearn.model_selection import train_test_split\n",
        "from   tensorflow              import keras\n",
        "from   tensorflow.keras        import layers\n",
        "from   keras.layers            import Dense, Dropout\n",
        "from   keras.models            import Sequential"
      ],
      "execution_count": 0,
      "outputs": []
    },
    {
      "cell_type": "code",
      "metadata": {
        "id": "zSgmRVrAgma0",
        "colab_type": "code",
        "colab": {}
      },
      "source": [
        "# X = (hours studying, hours sleeping), y = score on test\n",
        "X = np.array(([2, 9], [1, 5], [3, 6], [5, 10]), dtype=float) # input data\n",
        "y = np.array(([92], [86], [89], [98]), dtype=float) # output"
      ],
      "execution_count": 0,
      "outputs": []
    },
    {
      "cell_type": "code",
      "metadata": {
        "id": "EtISCe1ZgnmT",
        "colab_type": "code",
        "colab": {}
      },
      "source": [
        "# scale units\n",
        "y = y/100 # scaling output data (max test score is 100)"
      ],
      "execution_count": 0,
      "outputs": []
    },
    {
      "cell_type": "code",
      "metadata": {
        "id": "ImCSNx3_gpGJ",
        "colab_type": "code",
        "colab": {}
      },
      "source": [
        "TESTSIZE = 0.25\n",
        "X_train, X_test, y_train, y_test = train_test_split(X, y, test_size=TESTSIZE, random_state=0)"
      ],
      "execution_count": 0,
      "outputs": []
    },
    {
      "cell_type": "code",
      "metadata": {
        "id": "XhKRw1tKguRK",
        "colab_type": "code",
        "colab": {}
      },
      "source": [
        "NB_EPOCHS = 100  # num of epochs to test for\n",
        "BATCH_SIZE = 2   "
      ],
      "execution_count": 0,
      "outputs": []
    },
    {
      "cell_type": "code",
      "metadata": {
        "id": "SlHPp30KicT2",
        "colab_type": "code",
        "colab": {}
      },
      "source": [
        "#create model\n",
        "model = Sequential()\n",
        "\n",
        "#add model layers\n",
        "model.add(Dense(2, input_dim=2, activation='relu'))\n",
        "model.add(Dense(1, input_dim=2, activation='linear'))"
      ],
      "execution_count": 0,
      "outputs": []
    },
    {
      "cell_type": "code",
      "metadata": {
        "id": "zIRE4K-J6El-",
        "colab_type": "code",
        "colab": {}
      },
      "source": [
        "#compile model using mse as a measure of model performance\n",
        "model.compile(optimizer='adam', \n",
        "              loss='mean_squared_error')"
      ],
      "execution_count": 0,
      "outputs": []
    },
    {
      "cell_type": "code",
      "metadata": {
        "id": "H8AY5GMA7fcv",
        "colab_type": "code",
        "colab": {
          "base_uri": "https://localhost:8080/",
          "height": 204
        },
        "outputId": "87160b56-9cef-44c2-ed60-2470142bb796"
      },
      "source": [
        "model.summary()"
      ],
      "execution_count": 50,
      "outputs": [
        {
          "output_type": "stream",
          "text": [
            "_________________________________________________________________\n",
            "Layer (type)                 Output Shape              Param #   \n",
            "=================================================================\n",
            "dense_5 (Dense)              (None, 2)                 6         \n",
            "_________________________________________________________________\n",
            "dense_6 (Dense)              (None, 1)                 3         \n",
            "=================================================================\n",
            "Total params: 9\n",
            "Trainable params: 9\n",
            "Non-trainable params: 0\n",
            "_________________________________________________________________\n"
          ],
          "name": "stdout"
        }
      ]
    },
    {
      "cell_type": "code",
      "metadata": {
        "id": "LYpCuxWH6KJY",
        "colab_type": "code",
        "colab": {
          "base_uri": "https://localhost:8080/",
          "height": 1000
        },
        "outputId": "037ebf07-5833-4d71-e95f-27b270ed2af2"
      },
      "source": [
        "#train model\n",
        "model.fit(X_train,\n",
        "          y_train, \n",
        "          validation_data = (X_test, y_test),\n",
        "          nb_epoch=NB_EPOCHS,\n",
        "          batch_size=BATCH_SIZE,\n",
        "          verbose = 1)"
      ],
      "execution_count": 51,
      "outputs": [
        {
          "output_type": "stream",
          "text": [
            "/usr/local/lib/python3.6/dist-packages/ipykernel_launcher.py:6: UserWarning: The `nb_epoch` argument in `fit` has been renamed `epochs`.\n",
            "  \n"
          ],
          "name": "stderr"
        },
        {
          "output_type": "stream",
          "text": [
            "Train on 3 samples, validate on 1 samples\n",
            "Epoch 1/100\n",
            "3/3 [==============================] - 0s 146ms/step - loss: 0.0033 - acc: 0.0000e+00 - val_loss: 2.0195e-06 - val_acc: 0.0000e+00\n",
            "Epoch 2/100\n",
            "3/3 [==============================] - 0s 2ms/step - loss: 0.0032 - acc: 0.0000e+00 - val_loss: 4.6600e-06 - val_acc: 0.0000e+00\n",
            "Epoch 3/100\n",
            "3/3 [==============================] - 0s 2ms/step - loss: 0.0032 - acc: 0.0000e+00 - val_loss: 7.9498e-06 - val_acc: 0.0000e+00\n",
            "Epoch 4/100\n",
            "3/3 [==============================] - 0s 2ms/step - loss: 0.0031 - acc: 0.0000e+00 - val_loss: 1.2232e-05 - val_acc: 0.0000e+00\n",
            "Epoch 5/100\n",
            "3/3 [==============================] - 0s 2ms/step - loss: 0.0031 - acc: 0.0000e+00 - val_loss: 1.9359e-05 - val_acc: 0.0000e+00\n",
            "Epoch 6/100\n",
            "3/3 [==============================] - 0s 2ms/step - loss: 0.0030 - acc: 0.0000e+00 - val_loss: 2.9803e-05 - val_acc: 0.0000e+00\n",
            "Epoch 7/100\n",
            "3/3 [==============================] - 0s 2ms/step - loss: 0.0030 - acc: 0.0000e+00 - val_loss: 4.2957e-05 - val_acc: 0.0000e+00\n",
            "Epoch 8/100\n",
            "3/3 [==============================] - 0s 2ms/step - loss: 0.0029 - acc: 0.0000e+00 - val_loss: 6.1163e-05 - val_acc: 0.0000e+00\n",
            "Epoch 9/100\n",
            "3/3 [==============================] - 0s 3ms/step - loss: 0.0029 - acc: 0.0000e+00 - val_loss: 8.2907e-05 - val_acc: 0.0000e+00\n",
            "Epoch 10/100\n",
            "3/3 [==============================] - 0s 4ms/step - loss: 0.0028 - acc: 0.0000e+00 - val_loss: 1.0809e-04 - val_acc: 0.0000e+00\n",
            "Epoch 11/100\n",
            "3/3 [==============================] - 0s 4ms/step - loss: 0.0028 - acc: 0.0000e+00 - val_loss: 1.3529e-04 - val_acc: 0.0000e+00\n",
            "Epoch 12/100\n",
            "3/3 [==============================] - 0s 3ms/step - loss: 0.0027 - acc: 0.0000e+00 - val_loss: 1.6777e-04 - val_acc: 0.0000e+00\n",
            "Epoch 13/100\n",
            "3/3 [==============================] - 0s 2ms/step - loss: 0.0027 - acc: 0.0000e+00 - val_loss: 2.0267e-04 - val_acc: 0.0000e+00\n",
            "Epoch 14/100\n",
            "3/3 [==============================] - 0s 3ms/step - loss: 0.0026 - acc: 0.0000e+00 - val_loss: 2.3942e-04 - val_acc: 0.0000e+00\n",
            "Epoch 15/100\n",
            "3/3 [==============================] - 0s 2ms/step - loss: 0.0026 - acc: 0.0000e+00 - val_loss: 2.7760e-04 - val_acc: 0.0000e+00\n",
            "Epoch 16/100\n",
            "3/3 [==============================] - 0s 3ms/step - loss: 0.0026 - acc: 0.0000e+00 - val_loss: 3.1684e-04 - val_acc: 0.0000e+00\n",
            "Epoch 17/100\n",
            "3/3 [==============================] - 0s 3ms/step - loss: 0.0026 - acc: 0.0000e+00 - val_loss: 3.5497e-04 - val_acc: 0.0000e+00\n",
            "Epoch 18/100\n",
            "3/3 [==============================] - 0s 3ms/step - loss: 0.0025 - acc: 0.0000e+00 - val_loss: 3.8617e-04 - val_acc: 0.0000e+00\n",
            "Epoch 19/100\n",
            "3/3 [==============================] - 0s 2ms/step - loss: 0.0025 - acc: 0.0000e+00 - val_loss: 4.1719e-04 - val_acc: 0.0000e+00\n",
            "Epoch 20/100\n",
            "3/3 [==============================] - 0s 3ms/step - loss: 0.0025 - acc: 0.0000e+00 - val_loss: 4.5383e-04 - val_acc: 0.0000e+00\n",
            "Epoch 21/100\n",
            "3/3 [==============================] - 0s 3ms/step - loss: 0.0025 - acc: 0.0000e+00 - val_loss: 4.9441e-04 - val_acc: 0.0000e+00\n",
            "Epoch 22/100\n",
            "3/3 [==============================] - 0s 3ms/step - loss: 0.0024 - acc: 0.0000e+00 - val_loss: 5.2509e-04 - val_acc: 0.0000e+00\n",
            "Epoch 23/100\n",
            "3/3 [==============================] - 0s 2ms/step - loss: 0.0024 - acc: 0.0000e+00 - val_loss: 5.6118e-04 - val_acc: 0.0000e+00\n",
            "Epoch 24/100\n",
            "3/3 [==============================] - 0s 3ms/step - loss: 0.0024 - acc: 0.0000e+00 - val_loss: 5.9495e-04 - val_acc: 0.0000e+00\n",
            "Epoch 25/100\n",
            "3/3 [==============================] - 0s 2ms/step - loss: 0.0024 - acc: 0.0000e+00 - val_loss: 6.3252e-04 - val_acc: 0.0000e+00\n",
            "Epoch 26/100\n",
            "3/3 [==============================] - 0s 2ms/step - loss: 0.0024 - acc: 0.0000e+00 - val_loss: 6.5863e-04 - val_acc: 0.0000e+00\n",
            "Epoch 27/100\n",
            "3/3 [==============================] - 0s 3ms/step - loss: 0.0024 - acc: 0.0000e+00 - val_loss: 6.9022e-04 - val_acc: 0.0000e+00\n",
            "Epoch 28/100\n",
            "3/3 [==============================] - 0s 3ms/step - loss: 0.0024 - acc: 0.0000e+00 - val_loss: 7.2530e-04 - val_acc: 0.0000e+00\n",
            "Epoch 29/100\n",
            "3/3 [==============================] - 0s 3ms/step - loss: 0.0024 - acc: 0.0000e+00 - val_loss: 7.4838e-04 - val_acc: 0.0000e+00\n",
            "Epoch 30/100\n",
            "3/3 [==============================] - 0s 2ms/step - loss: 0.0024 - acc: 0.0000e+00 - val_loss: 7.7681e-04 - val_acc: 0.0000e+00\n",
            "Epoch 31/100\n",
            "3/3 [==============================] - 0s 4ms/step - loss: 0.0024 - acc: 0.0000e+00 - val_loss: 8.0182e-04 - val_acc: 0.0000e+00\n",
            "Epoch 32/100\n",
            "3/3 [==============================] - 0s 3ms/step - loss: 0.0024 - acc: 0.0000e+00 - val_loss: 8.2284e-04 - val_acc: 0.0000e+00\n",
            "Epoch 33/100\n",
            "3/3 [==============================] - 0s 3ms/step - loss: 0.0024 - acc: 0.0000e+00 - val_loss: 8.3262e-04 - val_acc: 0.0000e+00\n",
            "Epoch 34/100\n",
            "3/3 [==============================] - 0s 3ms/step - loss: 0.0024 - acc: 0.0000e+00 - val_loss: 8.4084e-04 - val_acc: 0.0000e+00\n",
            "Epoch 35/100\n",
            "3/3 [==============================] - 0s 4ms/step - loss: 0.0024 - acc: 0.0000e+00 - val_loss: 8.4009e-04 - val_acc: 0.0000e+00\n",
            "Epoch 36/100\n",
            "3/3 [==============================] - 0s 3ms/step - loss: 0.0024 - acc: 0.0000e+00 - val_loss: 8.4797e-04 - val_acc: 0.0000e+00\n",
            "Epoch 37/100\n",
            "3/3 [==============================] - 0s 3ms/step - loss: 0.0024 - acc: 0.0000e+00 - val_loss: 8.4614e-04 - val_acc: 0.0000e+00\n",
            "Epoch 38/100\n",
            "3/3 [==============================] - 0s 3ms/step - loss: 0.0024 - acc: 0.0000e+00 - val_loss: 8.3745e-04 - val_acc: 0.0000e+00\n",
            "Epoch 39/100\n",
            "3/3 [==============================] - 0s 2ms/step - loss: 0.0024 - acc: 0.0000e+00 - val_loss: 8.3877e-04 - val_acc: 0.0000e+00\n",
            "Epoch 40/100\n",
            "3/3 [==============================] - 0s 3ms/step - loss: 0.0024 - acc: 0.0000e+00 - val_loss: 8.3278e-04 - val_acc: 0.0000e+00\n",
            "Epoch 41/100\n",
            "3/3 [==============================] - 0s 3ms/step - loss: 0.0024 - acc: 0.0000e+00 - val_loss: 8.3662e-04 - val_acc: 0.0000e+00\n",
            "Epoch 42/100\n",
            "3/3 [==============================] - 0s 3ms/step - loss: 0.0024 - acc: 0.0000e+00 - val_loss: 8.4073e-04 - val_acc: 0.0000e+00\n",
            "Epoch 43/100\n",
            "3/3 [==============================] - 0s 3ms/step - loss: 0.0024 - acc: 0.0000e+00 - val_loss: 8.5231e-04 - val_acc: 0.0000e+00\n",
            "Epoch 44/100\n",
            "3/3 [==============================] - 0s 2ms/step - loss: 0.0024 - acc: 0.0000e+00 - val_loss: 8.5449e-04 - val_acc: 0.0000e+00\n",
            "Epoch 45/100\n",
            "3/3 [==============================] - 0s 3ms/step - loss: 0.0024 - acc: 0.0000e+00 - val_loss: 8.6515e-04 - val_acc: 0.0000e+00\n",
            "Epoch 46/100\n",
            "3/3 [==============================] - 0s 3ms/step - loss: 0.0024 - acc: 0.0000e+00 - val_loss: 8.8180e-04 - val_acc: 0.0000e+00\n",
            "Epoch 47/100\n",
            "3/3 [==============================] - 0s 3ms/step - loss: 0.0024 - acc: 0.0000e+00 - val_loss: 8.8696e-04 - val_acc: 0.0000e+00\n",
            "Epoch 48/100\n",
            "3/3 [==============================] - 0s 3ms/step - loss: 0.0024 - acc: 0.0000e+00 - val_loss: 8.8317e-04 - val_acc: 0.0000e+00\n",
            "Epoch 49/100\n",
            "3/3 [==============================] - 0s 3ms/step - loss: 0.0024 - acc: 0.0000e+00 - val_loss: 8.8069e-04 - val_acc: 0.0000e+00\n",
            "Epoch 50/100\n",
            "3/3 [==============================] - 0s 2ms/step - loss: 0.0024 - acc: 0.0000e+00 - val_loss: 8.8653e-04 - val_acc: 0.0000e+00\n",
            "Epoch 51/100\n",
            "3/3 [==============================] - 0s 2ms/step - loss: 0.0024 - acc: 0.0000e+00 - val_loss: 8.8374e-04 - val_acc: 0.0000e+00\n",
            "Epoch 52/100\n",
            "3/3 [==============================] - 0s 2ms/step - loss: 0.0024 - acc: 0.0000e+00 - val_loss: 8.8921e-04 - val_acc: 0.0000e+00\n",
            "Epoch 53/100\n",
            "3/3 [==============================] - 0s 2ms/step - loss: 0.0024 - acc: 0.0000e+00 - val_loss: 8.8535e-04 - val_acc: 0.0000e+00\n",
            "Epoch 54/100\n",
            "3/3 [==============================] - 0s 2ms/step - loss: 0.0024 - acc: 0.0000e+00 - val_loss: 8.7485e-04 - val_acc: 0.0000e+00\n",
            "Epoch 55/100\n",
            "3/3 [==============================] - 0s 2ms/step - loss: 0.0024 - acc: 0.0000e+00 - val_loss: 8.7492e-04 - val_acc: 0.0000e+00\n",
            "Epoch 56/100\n",
            "3/3 [==============================] - 0s 2ms/step - loss: 0.0024 - acc: 0.0000e+00 - val_loss: 8.8349e-04 - val_acc: 0.0000e+00\n",
            "Epoch 57/100\n",
            "3/3 [==============================] - 0s 2ms/step - loss: 0.0024 - acc: 0.0000e+00 - val_loss: 8.9859e-04 - val_acc: 0.0000e+00\n",
            "Epoch 58/100\n",
            "3/3 [==============================] - 0s 2ms/step - loss: 0.0024 - acc: 0.0000e+00 - val_loss: 9.1110e-04 - val_acc: 0.0000e+00\n",
            "Epoch 59/100\n",
            "3/3 [==============================] - 0s 2ms/step - loss: 0.0024 - acc: 0.0000e+00 - val_loss: 9.2160e-04 - val_acc: 0.0000e+00\n",
            "Epoch 60/100\n",
            "3/3 [==============================] - 0s 2ms/step - loss: 0.0024 - acc: 0.0000e+00 - val_loss: 9.3854e-04 - val_acc: 0.0000e+00\n",
            "Epoch 61/100\n",
            "3/3 [==============================] - 0s 2ms/step - loss: 0.0024 - acc: 0.0000e+00 - val_loss: 9.6066e-04 - val_acc: 0.0000e+00\n",
            "Epoch 62/100\n",
            "3/3 [==============================] - 0s 2ms/step - loss: 0.0024 - acc: 0.0000e+00 - val_loss: 9.8692e-04 - val_acc: 0.0000e+00\n",
            "Epoch 63/100\n",
            "3/3 [==============================] - 0s 1ms/step - loss: 0.0024 - acc: 0.0000e+00 - val_loss: 0.0010 - val_acc: 0.0000e+00\n",
            "Epoch 64/100\n",
            "3/3 [==============================] - 0s 1ms/step - loss: 0.0024 - acc: 0.0000e+00 - val_loss: 0.0010 - val_acc: 0.0000e+00\n",
            "Epoch 65/100\n",
            "3/3 [==============================] - 0s 1ms/step - loss: 0.0024 - acc: 0.0000e+00 - val_loss: 0.0010 - val_acc: 0.0000e+00\n",
            "Epoch 66/100\n",
            "3/3 [==============================] - 0s 1ms/step - loss: 0.0024 - acc: 0.0000e+00 - val_loss: 0.0010 - val_acc: 0.0000e+00\n",
            "Epoch 67/100\n",
            "3/3 [==============================] - 0s 1ms/step - loss: 0.0024 - acc: 0.0000e+00 - val_loss: 0.0010 - val_acc: 0.0000e+00\n",
            "Epoch 68/100\n",
            "3/3 [==============================] - 0s 1ms/step - loss: 0.0024 - acc: 0.0000e+00 - val_loss: 0.0010 - val_acc: 0.0000e+00\n",
            "Epoch 69/100\n",
            "3/3 [==============================] - 0s 1ms/step - loss: 0.0024 - acc: 0.0000e+00 - val_loss: 0.0010 - val_acc: 0.0000e+00\n",
            "Epoch 70/100\n",
            "3/3 [==============================] - 0s 1ms/step - loss: 0.0024 - acc: 0.0000e+00 - val_loss: 0.0010 - val_acc: 0.0000e+00\n",
            "Epoch 71/100\n",
            "3/3 [==============================] - 0s 1ms/step - loss: 0.0024 - acc: 0.0000e+00 - val_loss: 0.0010 - val_acc: 0.0000e+00\n",
            "Epoch 72/100\n",
            "3/3 [==============================] - 0s 2ms/step - loss: 0.0024 - acc: 0.0000e+00 - val_loss: 0.0010 - val_acc: 0.0000e+00\n",
            "Epoch 73/100\n",
            "3/3 [==============================] - 0s 2ms/step - loss: 0.0024 - acc: 0.0000e+00 - val_loss: 0.0010 - val_acc: 0.0000e+00\n",
            "Epoch 74/100\n",
            "3/3 [==============================] - 0s 2ms/step - loss: 0.0024 - acc: 0.0000e+00 - val_loss: 0.0010 - val_acc: 0.0000e+00\n",
            "Epoch 75/100\n",
            "3/3 [==============================] - 0s 3ms/step - loss: 0.0024 - acc: 0.0000e+00 - val_loss: 0.0010 - val_acc: 0.0000e+00\n",
            "Epoch 76/100\n",
            "3/3 [==============================] - 0s 2ms/step - loss: 0.0024 - acc: 0.0000e+00 - val_loss: 0.0010 - val_acc: 0.0000e+00\n",
            "Epoch 77/100\n",
            "3/3 [==============================] - 0s 2ms/step - loss: 0.0024 - acc: 0.0000e+00 - val_loss: 9.9658e-04 - val_acc: 0.0000e+00\n",
            "Epoch 78/100\n",
            "3/3 [==============================] - 0s 5ms/step - loss: 0.0024 - acc: 0.0000e+00 - val_loss: 9.8874e-04 - val_acc: 0.0000e+00\n",
            "Epoch 79/100\n",
            "3/3 [==============================] - 0s 3ms/step - loss: 0.0024 - acc: 0.0000e+00 - val_loss: 9.7297e-04 - val_acc: 0.0000e+00\n",
            "Epoch 80/100\n",
            "3/3 [==============================] - 0s 3ms/step - loss: 0.0024 - acc: 0.0000e+00 - val_loss: 9.6003e-04 - val_acc: 0.0000e+00\n",
            "Epoch 81/100\n",
            "3/3 [==============================] - 0s 3ms/step - loss: 0.0024 - acc: 0.0000e+00 - val_loss: 9.5747e-04 - val_acc: 0.0000e+00\n",
            "Epoch 82/100\n",
            "3/3 [==============================] - 0s 3ms/step - loss: 0.0024 - acc: 0.0000e+00 - val_loss: 9.5483e-04 - val_acc: 0.0000e+00\n",
            "Epoch 83/100\n",
            "3/3 [==============================] - 0s 4ms/step - loss: 0.0024 - acc: 0.0000e+00 - val_loss: 9.5261e-04 - val_acc: 0.0000e+00\n",
            "Epoch 84/100\n",
            "3/3 [==============================] - 0s 3ms/step - loss: 0.0024 - acc: 0.0000e+00 - val_loss: 9.5887e-04 - val_acc: 0.0000e+00\n",
            "Epoch 85/100\n",
            "3/3 [==============================] - 0s 3ms/step - loss: 0.0024 - acc: 0.0000e+00 - val_loss: 9.6339e-04 - val_acc: 0.0000e+00\n",
            "Epoch 86/100\n",
            "3/3 [==============================] - 0s 4ms/step - loss: 0.0024 - acc: 0.0000e+00 - val_loss: 9.6597e-04 - val_acc: 0.0000e+00\n",
            "Epoch 87/100\n",
            "3/3 [==============================] - 0s 5ms/step - loss: 0.0024 - acc: 0.0000e+00 - val_loss: 9.5921e-04 - val_acc: 0.0000e+00\n",
            "Epoch 88/100\n",
            "3/3 [==============================] - 0s 3ms/step - loss: 0.0024 - acc: 0.0000e+00 - val_loss: 9.6132e-04 - val_acc: 0.0000e+00\n",
            "Epoch 89/100\n",
            "3/3 [==============================] - 0s 5ms/step - loss: 0.0024 - acc: 0.0000e+00 - val_loss: 9.5431e-04 - val_acc: 0.0000e+00\n",
            "Epoch 90/100\n",
            "3/3 [==============================] - 0s 4ms/step - loss: 0.0024 - acc: 0.0000e+00 - val_loss: 9.5712e-04 - val_acc: 0.0000e+00\n",
            "Epoch 91/100\n",
            "3/3 [==============================] - 0s 6ms/step - loss: 0.0024 - acc: 0.0000e+00 - val_loss: 9.6743e-04 - val_acc: 0.0000e+00\n",
            "Epoch 92/100\n",
            "3/3 [==============================] - 0s 3ms/step - loss: 0.0024 - acc: 0.0000e+00 - val_loss: 9.7520e-04 - val_acc: 0.0000e+00\n",
            "Epoch 93/100\n",
            "3/3 [==============================] - 0s 2ms/step - loss: 0.0024 - acc: 0.0000e+00 - val_loss: 9.8080e-04 - val_acc: 0.0000e+00\n",
            "Epoch 94/100\n",
            "3/3 [==============================] - 0s 3ms/step - loss: 0.0024 - acc: 0.0000e+00 - val_loss: 9.8501e-04 - val_acc: 0.0000e+00\n",
            "Epoch 95/100\n",
            "3/3 [==============================] - 0s 3ms/step - loss: 0.0024 - acc: 0.0000e+00 - val_loss: 9.9590e-04 - val_acc: 0.0000e+00\n",
            "Epoch 96/100\n",
            "3/3 [==============================] - 0s 6ms/step - loss: 0.0024 - acc: 0.0000e+00 - val_loss: 9.9543e-04 - val_acc: 0.0000e+00\n",
            "Epoch 97/100\n",
            "3/3 [==============================] - 0s 5ms/step - loss: 0.0024 - acc: 0.0000e+00 - val_loss: 0.0010 - val_acc: 0.0000e+00\n",
            "Epoch 98/100\n",
            "3/3 [==============================] - 0s 5ms/step - loss: 0.0024 - acc: 0.0000e+00 - val_loss: 0.0010 - val_acc: 0.0000e+00\n",
            "Epoch 99/100\n",
            "3/3 [==============================] - 0s 3ms/step - loss: 0.0024 - acc: 0.0000e+00 - val_loss: 0.0010 - val_acc: 0.0000e+00\n",
            "Epoch 100/100\n",
            "3/3 [==============================] - 0s 2ms/step - loss: 0.0024 - acc: 0.0000e+00 - val_loss: 0.0010 - val_acc: 0.0000e+00\n"
          ],
          "name": "stdout"
        },
        {
          "output_type": "execute_result",
          "data": {
            "text/plain": [
              "<keras.callbacks.History at 0x7f805eb3d5f8>"
            ]
          },
          "metadata": {
            "tags": []
          },
          "execution_count": 51
        }
      ]
    },
    {
      "cell_type": "code",
      "metadata": {
        "id": "ay5DVSMp7GJ7",
        "colab_type": "code",
        "colab": {
          "base_uri": "https://localhost:8080/",
          "height": 34
        },
        "outputId": "ceafade9-8879-4c1e-edf4-002b2ecf62ff"
      },
      "source": [
        ""
      ],
      "execution_count": 44,
      "outputs": [
        {
          "output_type": "stream",
          "text": [
            "acc: 0.00%\n"
          ],
          "name": "stdout"
        }
      ]
    }
  ]
}