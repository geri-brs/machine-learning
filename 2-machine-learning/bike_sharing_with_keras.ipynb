{
  "nbformat": 4,
  "nbformat_minor": 0,
  "metadata": {
    "colab": {
      "name": "bike_sharing_with_keras.ipynb",
      "version": "0.3.2",
      "provenance": [],
      "collapsed_sections": []
    },
    "kernelspec": {
      "name": "python3",
      "display_name": "Python 3"
    }
  },
  "cells": [
    {
      "cell_type": "code",
      "metadata": {
        "id": "MGZ_F6svzizb",
        "colab_type": "code",
        "outputId": "6aeee854-43f7-4b14-f860-c551b2b68c04",
        "colab": {
          "base_uri": "https://localhost:8080/",
          "height": 35
        }
      },
      "source": [
        "import seaborn           as sns\n",
        "import numpy             as np\n",
        "import pandas            as pd\n",
        "import matplotlib.pyplot as plt\n",
        "import tensorflow        as tf\n",
        "from   tensorflow                import keras\n",
        "from   tensorflow.keras          import layers\n",
        "from   sklearn.model_selection   import train_test_split\n",
        "from   sklearn.feature_selection import SelectKBest\n",
        "from   sklearn.feature_selection import chi2\n",
        "from   keras.models              import Sequential\n",
        "from   keras.layers              import Dense, Dropout\n",
        "from   keras.optimizers          import SGD\n",
        "from   keras.callbacks           import EarlyStopping"
      ],
      "execution_count": 0,
      "outputs": [
        {
          "output_type": "stream",
          "text": [
            "Using TensorFlow backend.\n"
          ],
          "name": "stderr"
        }
      ]
    },
    {
      "cell_type": "code",
      "metadata": {
        "id": "MIRq1cL6zqLm",
        "colab_type": "code",
        "outputId": "d0c9d556-e0c4-4c32-81cc-803f8cec961d",
        "colab": {
          "resources": {
            "http://localhost:8080/nbextensions/google.colab/files.js": {
              "data": "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",
              "ok": true,
              "headers": [
                [
                  "content-type",
                  "application/javascript"
                ]
              ],
              "status": 200,
              "status_text": ""
            }
          },
          "base_uri": "https://localhost:8080/",
          "height": 40
        }
      },
      "source": [
        "# Upload dataset\n",
        "from google.colab import files\n",
        "uploaded = files.upload()"
      ],
      "execution_count": 0,
      "outputs": [
        {
          "output_type": "display_data",
          "data": {
            "text/html": [
              "\n",
              "     <input type=\"file\" id=\"files-2dab62c1-c49e-4d70-bfbb-abe70e4ebd66\" name=\"files[]\" multiple disabled />\n",
              "     <output id=\"result-2dab62c1-c49e-4d70-bfbb-abe70e4ebd66\">\n",
              "      Upload widget is only available when the cell has been executed in the\n",
              "      current browser session. Please rerun this cell to enable.\n",
              "      </output>\n",
              "      <script src=\"/nbextensions/google.colab/files.js\"></script> "
            ],
            "text/plain": [
              "<IPython.core.display.HTML object>"
            ]
          },
          "metadata": {
            "tags": []
          }
        }
      ]
    },
    {
      "cell_type": "code",
      "metadata": {
        "id": "S4IIsOKUzsis",
        "colab_type": "code",
        "colab": {}
      },
      "source": [
        "# Load hours dataset\n",
        "path = \"./hour.csv\"\n",
        "dataset = pd.read_csv(path)"
      ],
      "execution_count": 0,
      "outputs": []
    },
    {
      "cell_type": "code",
      "metadata": {
        "id": "nfxunmkJK0Ao",
        "colab_type": "code",
        "outputId": "0a089bfe-d642-4fd0-f551-6f1e13a4153b",
        "colab": {
          "base_uri": "https://localhost:8080/",
          "height": 323
        }
      },
      "source": [
        "for i in dataset.columns.values:\n",
        "  print(i, dataset[i].dtype)"
      ],
      "execution_count": 0,
      "outputs": [
        {
          "output_type": "stream",
          "text": [
            "instant int64\n",
            "dteday object\n",
            "season int64\n",
            "yr int64\n",
            "mnth int64\n",
            "hr int64\n",
            "holiday int64\n",
            "weekday int64\n",
            "workingday int64\n",
            "weathersit int64\n",
            "temp float64\n",
            "atemp float64\n",
            "hum float64\n",
            "windspeed float64\n",
            "casual int64\n",
            "registered int64\n",
            "cnt int64\n"
          ],
          "name": "stdout"
        }
      ]
    },
    {
      "cell_type": "code",
      "metadata": {
        "id": "YBvSq5xLLt2O",
        "colab_type": "code",
        "outputId": "bbf28a3c-f38d-4182-c1f5-e4c85457463e",
        "colab": {
          "base_uri": "https://localhost:8080/",
          "height": 204
        }
      },
      "source": [
        "dataset.head()"
      ],
      "execution_count": 0,
      "outputs": [
        {
          "output_type": "execute_result",
          "data": {
            "text/html": [
              "<div>\n",
              "<style scoped>\n",
              "    .dataframe tbody tr th:only-of-type {\n",
              "        vertical-align: middle;\n",
              "    }\n",
              "\n",
              "    .dataframe tbody tr th {\n",
              "        vertical-align: top;\n",
              "    }\n",
              "\n",
              "    .dataframe thead th {\n",
              "        text-align: right;\n",
              "    }\n",
              "</style>\n",
              "<table border=\"1\" class=\"dataframe\">\n",
              "  <thead>\n",
              "    <tr style=\"text-align: right;\">\n",
              "      <th></th>\n",
              "      <th>instant</th>\n",
              "      <th>dteday</th>\n",
              "      <th>season</th>\n",
              "      <th>yr</th>\n",
              "      <th>mnth</th>\n",
              "      <th>hr</th>\n",
              "      <th>holiday</th>\n",
              "      <th>weekday</th>\n",
              "      <th>workingday</th>\n",
              "      <th>weathersit</th>\n",
              "      <th>temp</th>\n",
              "      <th>atemp</th>\n",
              "      <th>hum</th>\n",
              "      <th>windspeed</th>\n",
              "      <th>casual</th>\n",
              "      <th>registered</th>\n",
              "      <th>cnt</th>\n",
              "    </tr>\n",
              "  </thead>\n",
              "  <tbody>\n",
              "    <tr>\n",
              "      <th>0</th>\n",
              "      <td>1</td>\n",
              "      <td>2011-01-01</td>\n",
              "      <td>1</td>\n",
              "      <td>0</td>\n",
              "      <td>1</td>\n",
              "      <td>0</td>\n",
              "      <td>0</td>\n",
              "      <td>6</td>\n",
              "      <td>0</td>\n",
              "      <td>1</td>\n",
              "      <td>0.24</td>\n",
              "      <td>0.2879</td>\n",
              "      <td>0.81</td>\n",
              "      <td>0.0</td>\n",
              "      <td>3</td>\n",
              "      <td>13</td>\n",
              "      <td>16</td>\n",
              "    </tr>\n",
              "    <tr>\n",
              "      <th>1</th>\n",
              "      <td>2</td>\n",
              "      <td>2011-01-01</td>\n",
              "      <td>1</td>\n",
              "      <td>0</td>\n",
              "      <td>1</td>\n",
              "      <td>1</td>\n",
              "      <td>0</td>\n",
              "      <td>6</td>\n",
              "      <td>0</td>\n",
              "      <td>1</td>\n",
              "      <td>0.22</td>\n",
              "      <td>0.2727</td>\n",
              "      <td>0.80</td>\n",
              "      <td>0.0</td>\n",
              "      <td>8</td>\n",
              "      <td>32</td>\n",
              "      <td>40</td>\n",
              "    </tr>\n",
              "    <tr>\n",
              "      <th>2</th>\n",
              "      <td>3</td>\n",
              "      <td>2011-01-01</td>\n",
              "      <td>1</td>\n",
              "      <td>0</td>\n",
              "      <td>1</td>\n",
              "      <td>2</td>\n",
              "      <td>0</td>\n",
              "      <td>6</td>\n",
              "      <td>0</td>\n",
              "      <td>1</td>\n",
              "      <td>0.22</td>\n",
              "      <td>0.2727</td>\n",
              "      <td>0.80</td>\n",
              "      <td>0.0</td>\n",
              "      <td>5</td>\n",
              "      <td>27</td>\n",
              "      <td>32</td>\n",
              "    </tr>\n",
              "    <tr>\n",
              "      <th>3</th>\n",
              "      <td>4</td>\n",
              "      <td>2011-01-01</td>\n",
              "      <td>1</td>\n",
              "      <td>0</td>\n",
              "      <td>1</td>\n",
              "      <td>3</td>\n",
              "      <td>0</td>\n",
              "      <td>6</td>\n",
              "      <td>0</td>\n",
              "      <td>1</td>\n",
              "      <td>0.24</td>\n",
              "      <td>0.2879</td>\n",
              "      <td>0.75</td>\n",
              "      <td>0.0</td>\n",
              "      <td>3</td>\n",
              "      <td>10</td>\n",
              "      <td>13</td>\n",
              "    </tr>\n",
              "    <tr>\n",
              "      <th>4</th>\n",
              "      <td>5</td>\n",
              "      <td>2011-01-01</td>\n",
              "      <td>1</td>\n",
              "      <td>0</td>\n",
              "      <td>1</td>\n",
              "      <td>4</td>\n",
              "      <td>0</td>\n",
              "      <td>6</td>\n",
              "      <td>0</td>\n",
              "      <td>1</td>\n",
              "      <td>0.24</td>\n",
              "      <td>0.2879</td>\n",
              "      <td>0.75</td>\n",
              "      <td>0.0</td>\n",
              "      <td>0</td>\n",
              "      <td>1</td>\n",
              "      <td>1</td>\n",
              "    </tr>\n",
              "  </tbody>\n",
              "</table>\n",
              "</div>"
            ],
            "text/plain": [
              "   instant      dteday  season  yr  ...  windspeed  casual  registered  cnt\n",
              "0        1  2011-01-01       1   0  ...        0.0       3          13   16\n",
              "1        2  2011-01-01       1   0  ...        0.0       8          32   40\n",
              "2        3  2011-01-01       1   0  ...        0.0       5          27   32\n",
              "3        4  2011-01-01       1   0  ...        0.0       3          10   13\n",
              "4        5  2011-01-01       1   0  ...        0.0       0           1    1\n",
              "\n",
              "[5 rows x 17 columns]"
            ]
          },
          "metadata": {
            "tags": []
          },
          "execution_count": 16
        }
      ]
    },
    {
      "cell_type": "code",
      "metadata": {
        "id": "yymFnJzKzsgF",
        "colab_type": "code",
        "colab": {}
      },
      "source": [
        "def generate_dummies(df, dummy_column):\n",
        "    dummies = pd.get_dummies(df[dummy_column], prefix=dummy_column)\n",
        "    df = pd.concat([df, dummies], axis=1)\n",
        "    return df\n",
        "\n",
        "X = pd.DataFrame.copy(dataset)\n",
        "dummy_columns = [\"season\",     # season (1:springer, 2:summer, 3:fall, 4:winter)\n",
        "                 \"mnth\",        # month ( 1 to 12)\n",
        "                 \"hr\",          # hour (0 to 23)\n",
        "                 \"weekday\",     # weekday : day of the week\n",
        "                 \"weathersit\"   # weathersit : \n",
        "                                 # - 1: Clear, Few clouds, Partly cloudy, Partly cloudy\n",
        "                                 # - 2: Mist + Cloudy, Mist + Broken clouds, Mist + Few clouds, Mist\n",
        "                                 # - 3: Light Snow, Light Rain + Thunderstorm + Scattered clouds, Light Rain + Scattered clouds\n",
        "                                 # - 4: Heavy Rain + Ice Pallets + Thunderstorm + Mist, Snow + Fog\n",
        "                ]\n",
        "for dummy_column in dummy_columns:\n",
        "    X = generate_dummies(X, dummy_column)"
      ],
      "execution_count": 0,
      "outputs": []
    },
    {
      "cell_type": "code",
      "metadata": {
        "id": "SM2roqORzsdW",
        "colab_type": "code",
        "colab": {}
      },
      "source": [
        "for dummy_column in dummy_columns:\n",
        "  del X[dummy_column]"
      ],
      "execution_count": 0,
      "outputs": []
    },
    {
      "cell_type": "code",
      "metadata": {
        "id": "lVJzzy-azsaj",
        "colab_type": "code",
        "colab": {}
      },
      "source": [
        "del X[\"yr\"]\n",
        "del X[\"hum\"]\n",
        "del X[\"instant\"]\n",
        "del X[\"dteday\"]\n",
        "\n",
        "y = X[\"cnt\"]\n",
        "\n",
        "del X[\"cnt\"]\n",
        "del X[\"registered\"]\n",
        "del X[\"casual\"]"
      ],
      "execution_count": 0,
      "outputs": []
    },
    {
      "cell_type": "code",
      "metadata": {
        "id": "z0fAnJkXEDxg",
        "colab_type": "code",
        "outputId": "9016ec0b-74a6-43a1-a5a8-79ae99ca7f9d",
        "colab": {
          "base_uri": "https://localhost:8080/",
          "height": 161
        }
      },
      "source": [
        "X.head()\n",
        "print(X.columns.values)"
      ],
      "execution_count": 0,
      "outputs": [
        {
          "output_type": "stream",
          "text": [
            "['holiday' 'workingday' 'temp' 'atemp' 'windspeed' 'season_1' 'season_2'\n",
            " 'season_3' 'season_4' 'mnth_1' 'mnth_2' 'mnth_3' 'mnth_4' 'mnth_5'\n",
            " 'mnth_6' 'mnth_7' 'mnth_8' 'mnth_9' 'mnth_10' 'mnth_11' 'mnth_12' 'hr_0'\n",
            " 'hr_1' 'hr_2' 'hr_3' 'hr_4' 'hr_5' 'hr_6' 'hr_7' 'hr_8' 'hr_9' 'hr_10'\n",
            " 'hr_11' 'hr_12' 'hr_13' 'hr_14' 'hr_15' 'hr_16' 'hr_17' 'hr_18' 'hr_19'\n",
            " 'hr_20' 'hr_21' 'hr_22' 'hr_23' 'weekday_0' 'weekday_1' 'weekday_2'\n",
            " 'weekday_3' 'weekday_4' 'weekday_5' 'weekday_6' 'weathersit_1'\n",
            " 'weathersit_2' 'weathersit_3' 'weathersit_4']\n"
          ],
          "name": "stdout"
        }
      ]
    },
    {
      "cell_type": "code",
      "metadata": {
        "id": "4Y1-1b2VzsX3",
        "colab_type": "code",
        "outputId": "16c3b65b-c3d3-4825-d62d-35ec53a2f851",
        "colab": {
          "base_uri": "https://localhost:8080/",
          "height": 53
        }
      },
      "source": [
        "all_days = len(X) // 24\n",
        "print(\"Total observations\", len(X))\n",
        "print(\"Total number of days\", all_days)\n",
        "days_for_training = int(all_days * 0.7)\n",
        "\n",
        "X_train = X[0:days_for_training]\n",
        "X_test = X[days_for_training:]\n",
        "\n",
        "y_train = y[0:days_for_training]\n",
        "y_test= y[days_for_training:]"
      ],
      "execution_count": 0,
      "outputs": [
        {
          "output_type": "stream",
          "text": [
            "Total observations 17379\n",
            "Total number of days 724\n"
          ],
          "name": "stdout"
        }
      ]
    },
    {
      "cell_type": "code",
      "metadata": {
        "id": "6Fz0r7VMzsU9",
        "colab_type": "code",
        "outputId": "57bf6981-03be-43bd-d0ec-3e29f73120e1",
        "colab": {
          "base_uri": "https://localhost:8080/",
          "height": 161
        }
      },
      "source": [
        "print(\"Observations for training\", len(X_train))\n",
        "print(\"Observations for testing\", len(X_test))\n",
        "print(\"Some target values\", y.head())"
      ],
      "execution_count": 0,
      "outputs": [
        {
          "output_type": "stream",
          "text": [
            "Observations for training 506\n",
            "Observations for testing 16873\n",
            "Some target values 0    16\n",
            "1    40\n",
            "2    32\n",
            "3    13\n",
            "4     1\n",
            "Name: cnt, dtype: int64\n"
          ],
          "name": "stdout"
        }
      ]
    },
    {
      "cell_type": "code",
      "metadata": {
        "id": "Huh9p132IlI3",
        "colab_type": "code",
        "outputId": "f72b5fd9-afd8-46d3-8ecf-30cff02b5328",
        "colab": {
          "base_uri": "https://localhost:8080/",
          "height": 197
        }
      },
      "source": [
        "print(\"Sum of X_train columns: \", len(X_train.columns.values))\n",
        "print(\"Columns of X_train: \\n\", X_train.columns.values)"
      ],
      "execution_count": 0,
      "outputs": [
        {
          "output_type": "stream",
          "text": [
            "Sum of X_train columns:  56\n",
            "Columns of X_train: \n",
            " ['holiday' 'workingday' 'temp' 'atemp' 'windspeed' 'season_1' 'season_2'\n",
            " 'season_3' 'season_4' 'mnth_1' 'mnth_2' 'mnth_3' 'mnth_4' 'mnth_5'\n",
            " 'mnth_6' 'mnth_7' 'mnth_8' 'mnth_9' 'mnth_10' 'mnth_11' 'mnth_12' 'hr_0'\n",
            " 'hr_1' 'hr_2' 'hr_3' 'hr_4' 'hr_5' 'hr_6' 'hr_7' 'hr_8' 'hr_9' 'hr_10'\n",
            " 'hr_11' 'hr_12' 'hr_13' 'hr_14' 'hr_15' 'hr_16' 'hr_17' 'hr_18' 'hr_19'\n",
            " 'hr_20' 'hr_21' 'hr_22' 'hr_23' 'weekday_0' 'weekday_1' 'weekday_2'\n",
            " 'weekday_3' 'weekday_4' 'weekday_5' 'weekday_6' 'weathersit_1'\n",
            " 'weathersit_2' 'weathersit_3' 'weathersit_4']\n"
          ],
          "name": "stdout"
        }
      ]
    },
    {
      "cell_type": "code",
      "metadata": {
        "id": "LcvVtXCozsOk",
        "colab_type": "code",
        "outputId": "47700ddc-96a2-47c7-fa47-334648241438",
        "colab": {
          "base_uri": "https://localhost:8080/",
          "height": 323
        }
      },
      "source": [
        "#create model\n",
        "model = Sequential()\n",
        "\n",
        "#get number of columns in training data\n",
        "n_cols = X.shape[1]\n",
        "\n",
        "#add model layers\n",
        "model.add(Dense(29, activation='relu', kernel_initializer='normal', input_shape=(n_cols,)))\n",
        "model.add(Dropout(0.1, input_shape=(n_cols,)))\n",
        "model.add(Dense(29, activation='relu'))\n",
        "model.add(Dropout(0.1, input_shape=(n_cols,)))\n",
        "model.add(Dense(1, activation='linear'))\n",
        "model.summary()"
      ],
      "execution_count": 0,
      "outputs": [
        {
          "output_type": "stream",
          "text": [
            "_________________________________________________________________\n",
            "Layer (type)                 Output Shape              Param #   \n",
            "=================================================================\n",
            "dense_49 (Dense)             (None, 29)                1653      \n",
            "_________________________________________________________________\n",
            "dropout_19 (Dropout)         (None, 29)                0         \n",
            "_________________________________________________________________\n",
            "dense_50 (Dense)             (None, 29)                870       \n",
            "_________________________________________________________________\n",
            "dropout_20 (Dropout)         (None, 29)                0         \n",
            "_________________________________________________________________\n",
            "dense_51 (Dense)             (None, 1)                 30        \n",
            "=================================================================\n",
            "Total params: 2,553\n",
            "Trainable params: 2,553\n",
            "Non-trainable params: 0\n",
            "_________________________________________________________________\n"
          ],
          "name": "stdout"
        }
      ]
    },
    {
      "cell_type": "code",
      "metadata": {
        "id": "_qProfrpzsLM",
        "colab_type": "code",
        "colab": {}
      },
      "source": [
        "#compile model using mse as a measure of model performance\n",
        "model.compile(loss='mse',\n",
        "              optimizer='adam', \n",
        "              metrics=['mse','mae'])"
      ],
      "execution_count": 0,
      "outputs": []
    },
    {
      "cell_type": "code",
      "metadata": {
        "id": "IEZfQ9tE0atl",
        "colab_type": "code",
        "outputId": "3f4164dc-5bba-4e7e-c695-a74be9b223f6",
        "colab": {
          "base_uri": "https://localhost:8080/",
          "height": 1000
        }
      },
      "source": [
        "#set early stopping monitor so the model stops training when it won't improve anymore\n",
        "early_stopping_monitor = EarlyStopping(patience=10)\n",
        "\n",
        "#train model\n",
        "history = model.fit(X_train,\n",
        "                    y_train, \n",
        "                    validation_split = 0.2,\n",
        "                    validation_data = (X_test, y_test),\n",
        "                    epochs = 100,\n",
        "                    batch_size = 29,\n",
        "                    callbacks = [early_stopping_monitor],\n",
        "                    verbose = 1)"
      ],
      "execution_count": 0,
      "outputs": [
        {
          "output_type": "stream",
          "text": [
            "Train on 506 samples, validate on 16873 samples\n",
            "Epoch 1/100\n",
            "506/506 [==============================] - 0s 852us/step - loss: 699.1119 - mean_squared_error: 699.1119 - mean_absolute_error: 18.6451 - val_loss: 42421.0660 - val_mean_squared_error: 42421.0660 - val_mean_absolute_error: 139.7830\n",
            "Epoch 2/100\n",
            "506/506 [==============================] - 0s 848us/step - loss: 649.6111 - mean_squared_error: 649.6111 - mean_absolute_error: 17.7898 - val_loss: 42637.8033 - val_mean_squared_error: 42637.8033 - val_mean_absolute_error: 140.3694\n",
            "Epoch 3/100\n",
            "506/506 [==============================] - 0s 861us/step - loss: 641.3795 - mean_squared_error: 641.3795 - mean_absolute_error: 17.5177 - val_loss: 42250.9770 - val_mean_squared_error: 42250.9770 - val_mean_absolute_error: 139.4955\n",
            "Epoch 4/100\n",
            "506/506 [==============================] - 0s 854us/step - loss: 626.4565 - mean_squared_error: 626.4565 - mean_absolute_error: 17.5154 - val_loss: 42304.0554 - val_mean_squared_error: 42304.0554 - val_mean_absolute_error: 139.7235\n",
            "Epoch 5/100\n",
            "506/506 [==============================] - 0s 876us/step - loss: 643.6483 - mean_squared_error: 643.6483 - mean_absolute_error: 17.9127 - val_loss: 42141.5405 - val_mean_squared_error: 42141.5405 - val_mean_absolute_error: 139.4267\n",
            "Epoch 6/100\n",
            "506/506 [==============================] - 0s 911us/step - loss: 615.8000 - mean_squared_error: 615.8000 - mean_absolute_error: 17.5455 - val_loss: 42409.3922 - val_mean_squared_error: 42409.3922 - val_mean_absolute_error: 140.2052\n",
            "Epoch 7/100\n",
            "506/506 [==============================] - 0s 941us/step - loss: 599.5936 - mean_squared_error: 599.5936 - mean_absolute_error: 17.2112 - val_loss: 41795.8866 - val_mean_squared_error: 41795.8866 - val_mean_absolute_error: 138.7127\n",
            "Epoch 8/100\n",
            "506/506 [==============================] - 0s 979us/step - loss: 616.0634 - mean_squared_error: 616.0634 - mean_absolute_error: 17.7141 - val_loss: 42054.5527 - val_mean_squared_error: 42054.5527 - val_mean_absolute_error: 139.4815\n",
            "Epoch 9/100\n",
            "506/506 [==============================] - 1s 1ms/step - loss: 624.7529 - mean_squared_error: 624.7529 - mean_absolute_error: 17.0127 - val_loss: 42045.4291 - val_mean_squared_error: 42045.4291 - val_mean_absolute_error: 139.4934\n",
            "Epoch 10/100\n",
            "506/506 [==============================] - 1s 1ms/step - loss: 619.1389 - mean_squared_error: 619.1389 - mean_absolute_error: 17.1928 - val_loss: 41989.5773 - val_mean_squared_error: 41989.5773 - val_mean_absolute_error: 139.5216\n",
            "Epoch 11/100\n",
            "506/506 [==============================] - 1s 1ms/step - loss: 613.6573 - mean_squared_error: 613.6573 - mean_absolute_error: 17.3841 - val_loss: 42265.9490 - val_mean_squared_error: 42265.9490 - val_mean_absolute_error: 140.1311\n",
            "Epoch 12/100\n",
            "506/506 [==============================] - 1s 1ms/step - loss: 627.3541 - mean_squared_error: 627.3541 - mean_absolute_error: 17.1424 - val_loss: 41522.9788 - val_mean_squared_error: 41522.9788 - val_mean_absolute_error: 138.1790\n",
            "Epoch 13/100\n",
            "506/506 [==============================] - 1s 1ms/step - loss: 596.1772 - mean_squared_error: 596.1772 - mean_absolute_error: 16.8054 - val_loss: 42051.2738 - val_mean_squared_error: 42051.2738 - val_mean_absolute_error: 139.6716\n",
            "Epoch 14/100\n",
            "506/506 [==============================] - 1s 1ms/step - loss: 608.4938 - mean_squared_error: 608.4938 - mean_absolute_error: 17.1762 - val_loss: 41597.4678 - val_mean_squared_error: 41597.4678 - val_mean_absolute_error: 138.5723\n",
            "Epoch 15/100\n",
            "506/506 [==============================] - 1s 1ms/step - loss: 553.5052 - mean_squared_error: 553.5052 - mean_absolute_error: 16.4183 - val_loss: 41715.5325 - val_mean_squared_error: 41715.5325 - val_mean_absolute_error: 138.9168\n",
            "Epoch 16/100\n",
            "506/506 [==============================] - 1s 1ms/step - loss: 550.0793 - mean_squared_error: 550.0793 - mean_absolute_error: 16.3557 - val_loss: 41525.9395 - val_mean_squared_error: 41525.9395 - val_mean_absolute_error: 138.4563\n",
            "Epoch 17/100\n",
            "506/506 [==============================] - 1s 1ms/step - loss: 550.9080 - mean_squared_error: 550.9080 - mean_absolute_error: 16.4425 - val_loss: 41443.6050 - val_mean_squared_error: 41443.6050 - val_mean_absolute_error: 138.3609\n",
            "Epoch 18/100\n",
            "506/506 [==============================] - 1s 1ms/step - loss: 565.3023 - mean_squared_error: 565.3023 - mean_absolute_error: 16.4642 - val_loss: 41594.1981 - val_mean_squared_error: 41594.1981 - val_mean_absolute_error: 138.7391\n",
            "Epoch 19/100\n",
            "506/506 [==============================] - 0s 957us/step - loss: 533.6415 - mean_squared_error: 533.6415 - mean_absolute_error: 16.0358 - val_loss: 41245.5261 - val_mean_squared_error: 41245.5261 - val_mean_absolute_error: 137.9116\n",
            "Epoch 20/100\n",
            "506/506 [==============================] - 0s 883us/step - loss: 581.3733 - mean_squared_error: 581.3733 - mean_absolute_error: 16.6329 - val_loss: 41298.7130 - val_mean_squared_error: 41298.7130 - val_mean_absolute_error: 138.0524\n",
            "Epoch 21/100\n",
            "506/506 [==============================] - 0s 910us/step - loss: 528.0570 - mean_squared_error: 528.0570 - mean_absolute_error: 16.1046 - val_loss: 41421.6508 - val_mean_squared_error: 41421.6508 - val_mean_absolute_error: 138.3206\n",
            "Epoch 22/100\n",
            "506/506 [==============================] - 0s 903us/step - loss: 528.5820 - mean_squared_error: 528.5820 - mean_absolute_error: 16.0805 - val_loss: 41404.0238 - val_mean_squared_error: 41404.0238 - val_mean_absolute_error: 138.2821\n",
            "Epoch 23/100\n",
            "506/506 [==============================] - 0s 951us/step - loss: 538.0887 - mean_squared_error: 538.0887 - mean_absolute_error: 15.9935 - val_loss: 40900.1483 - val_mean_squared_error: 40900.1483 - val_mean_absolute_error: 137.1740\n",
            "Epoch 24/100\n",
            "506/506 [==============================] - 0s 933us/step - loss: 545.4552 - mean_squared_error: 545.4552 - mean_absolute_error: 16.3594 - val_loss: 41137.0197 - val_mean_squared_error: 41137.0197 - val_mean_absolute_error: 137.8331\n",
            "Epoch 25/100\n",
            "506/506 [==============================] - 0s 934us/step - loss: 494.3040 - mean_squared_error: 494.3040 - mean_absolute_error: 15.6004 - val_loss: 40923.6350 - val_mean_squared_error: 40923.6350 - val_mean_absolute_error: 137.2269\n",
            "Epoch 26/100\n",
            "506/506 [==============================] - 0s 939us/step - loss: 572.2348 - mean_squared_error: 572.2348 - mean_absolute_error: 16.5001 - val_loss: 40786.2854 - val_mean_squared_error: 40786.2854 - val_mean_absolute_error: 136.9031\n",
            "Epoch 27/100\n",
            "506/506 [==============================] - 0s 975us/step - loss: 537.9018 - mean_squared_error: 537.9018 - mean_absolute_error: 15.8836 - val_loss: 40771.2542 - val_mean_squared_error: 40771.2542 - val_mean_absolute_error: 137.0412\n",
            "Epoch 28/100\n",
            "506/506 [==============================] - 0s 884us/step - loss: 491.6556 - mean_squared_error: 491.6556 - mean_absolute_error: 15.4080 - val_loss: 41099.5613 - val_mean_squared_error: 41099.5613 - val_mean_absolute_error: 137.9337\n",
            "Epoch 29/100\n",
            "506/506 [==============================] - 0s 884us/step - loss: 513.9224 - mean_squared_error: 513.9224 - mean_absolute_error: 15.9991 - val_loss: 40754.1541 - val_mean_squared_error: 40754.1541 - val_mean_absolute_error: 137.0117\n",
            "Epoch 30/100\n",
            "506/506 [==============================] - 0s 904us/step - loss: 522.9673 - mean_squared_error: 522.9673 - mean_absolute_error: 15.6715 - val_loss: 41077.5478 - val_mean_squared_error: 41077.5478 - val_mean_absolute_error: 137.8499\n",
            "Epoch 31/100\n",
            "506/506 [==============================] - 0s 942us/step - loss: 563.7794 - mean_squared_error: 563.7794 - mean_absolute_error: 16.5176 - val_loss: 40774.3239 - val_mean_squared_error: 40774.3239 - val_mean_absolute_error: 137.0289\n",
            "Epoch 32/100\n",
            "506/506 [==============================] - 0s 916us/step - loss: 515.9625 - mean_squared_error: 515.9625 - mean_absolute_error: 15.8349 - val_loss: 41032.9386 - val_mean_squared_error: 41032.9386 - val_mean_absolute_error: 137.6958\n",
            "Epoch 33/100\n",
            "506/506 [==============================] - 0s 937us/step - loss: 482.1022 - mean_squared_error: 482.1022 - mean_absolute_error: 15.4450 - val_loss: 40588.2573 - val_mean_squared_error: 40588.2573 - val_mean_absolute_error: 136.6518\n",
            "Epoch 34/100\n",
            "506/506 [==============================] - 0s 952us/step - loss: 473.4600 - mean_squared_error: 473.4600 - mean_absolute_error: 15.3657 - val_loss: 40677.2640 - val_mean_squared_error: 40677.2640 - val_mean_absolute_error: 136.9720\n",
            "Epoch 35/100\n",
            "506/506 [==============================] - 0s 946us/step - loss: 507.5875 - mean_squared_error: 507.5875 - mean_absolute_error: 15.6388 - val_loss: 40427.1137 - val_mean_squared_error: 40427.1137 - val_mean_absolute_error: 136.3736\n",
            "Epoch 36/100\n",
            "506/506 [==============================] - 0s 933us/step - loss: 525.6703 - mean_squared_error: 525.6703 - mean_absolute_error: 15.9071 - val_loss: 40369.2677 - val_mean_squared_error: 40369.2677 - val_mean_absolute_error: 136.1523\n",
            "Epoch 37/100\n",
            "506/506 [==============================] - 0s 938us/step - loss: 528.8475 - mean_squared_error: 528.8475 - mean_absolute_error: 15.7188 - val_loss: 40289.4091 - val_mean_squared_error: 40289.4091 - val_mean_absolute_error: 136.0085\n",
            "Epoch 38/100\n",
            "506/506 [==============================] - 0s 943us/step - loss: 500.8752 - mean_squared_error: 500.8752 - mean_absolute_error: 15.9357 - val_loss: 40438.9686 - val_mean_squared_error: 40438.9686 - val_mean_absolute_error: 136.5156\n",
            "Epoch 39/100\n",
            "506/506 [==============================] - 0s 945us/step - loss: 480.9019 - mean_squared_error: 480.9019 - mean_absolute_error: 15.2161 - val_loss: 40379.4937 - val_mean_squared_error: 40379.4937 - val_mean_absolute_error: 136.3077\n",
            "Epoch 40/100\n",
            "506/506 [==============================] - 0s 948us/step - loss: 463.3227 - mean_squared_error: 463.3227 - mean_absolute_error: 15.1593 - val_loss: 40061.6535 - val_mean_squared_error: 40061.6535 - val_mean_absolute_error: 135.4903\n",
            "Epoch 41/100\n",
            "506/506 [==============================] - 0s 942us/step - loss: 478.8326 - mean_squared_error: 478.8326 - mean_absolute_error: 14.8718 - val_loss: 39829.6513 - val_mean_squared_error: 39829.6513 - val_mean_absolute_error: 134.9919\n",
            "Epoch 42/100\n",
            "506/506 [==============================] - 0s 944us/step - loss: 537.4346 - mean_squared_error: 537.4346 - mean_absolute_error: 15.9933 - val_loss: 40015.7863 - val_mean_squared_error: 40015.7863 - val_mean_absolute_error: 135.5284\n",
            "Epoch 43/100\n",
            "506/506 [==============================] - 0s 935us/step - loss: 469.7681 - mean_squared_error: 469.7681 - mean_absolute_error: 15.2521 - val_loss: 40087.1742 - val_mean_squared_error: 40087.1742 - val_mean_absolute_error: 135.7233\n",
            "Epoch 44/100\n",
            "506/506 [==============================] - 0s 940us/step - loss: 469.4631 - mean_squared_error: 469.4631 - mean_absolute_error: 15.0541 - val_loss: 39972.7583 - val_mean_squared_error: 39972.7583 - val_mean_absolute_error: 135.4550\n",
            "Epoch 45/100\n",
            "506/506 [==============================] - 0s 977us/step - loss: 441.4995 - mean_squared_error: 441.4995 - mean_absolute_error: 14.8910 - val_loss: 39829.4006 - val_mean_squared_error: 39829.4006 - val_mean_absolute_error: 135.0830\n",
            "Epoch 46/100\n",
            "506/506 [==============================] - 0s 936us/step - loss: 419.0572 - mean_squared_error: 419.0572 - mean_absolute_error: 14.4491 - val_loss: 39455.7896 - val_mean_squared_error: 39455.7896 - val_mean_absolute_error: 134.2708\n",
            "Epoch 47/100\n",
            "506/506 [==============================] - 0s 945us/step - loss: 449.9518 - mean_squared_error: 449.9518 - mean_absolute_error: 14.9072 - val_loss: 39860.1763 - val_mean_squared_error: 39860.1763 - val_mean_absolute_error: 135.4021\n",
            "Epoch 48/100\n",
            "506/506 [==============================] - 0s 967us/step - loss: 433.4713 - mean_squared_error: 433.4713 - mean_absolute_error: 14.6501 - val_loss: 39869.5304 - val_mean_squared_error: 39869.5304 - val_mean_absolute_error: 135.3989\n",
            "Epoch 49/100\n",
            "506/506 [==============================] - 0s 944us/step - loss: 473.1151 - mean_squared_error: 473.1151 - mean_absolute_error: 14.9958 - val_loss: 39662.7301 - val_mean_squared_error: 39662.7301 - val_mean_absolute_error: 134.9647\n",
            "Epoch 50/100\n",
            "506/506 [==============================] - 0s 943us/step - loss: 505.0331 - mean_squared_error: 505.0331 - mean_absolute_error: 15.2085 - val_loss: 39490.0929 - val_mean_squared_error: 39490.0929 - val_mean_absolute_error: 134.4912\n",
            "Epoch 51/100\n",
            "506/506 [==============================] - 0s 933us/step - loss: 480.5193 - mean_squared_error: 480.5193 - mean_absolute_error: 14.7998 - val_loss: 39312.7949 - val_mean_squared_error: 39312.7949 - val_mean_absolute_error: 134.0226\n",
            "Epoch 52/100\n",
            "506/506 [==============================] - 0s 941us/step - loss: 465.3118 - mean_squared_error: 465.3118 - mean_absolute_error: 14.4630 - val_loss: 39831.9997 - val_mean_squared_error: 39831.9997 - val_mean_absolute_error: 135.4660\n",
            "Epoch 53/100\n",
            "506/506 [==============================] - 0s 944us/step - loss: 430.5463 - mean_squared_error: 430.5463 - mean_absolute_error: 14.7046 - val_loss: 39518.8138 - val_mean_squared_error: 39518.8138 - val_mean_absolute_error: 134.6890\n",
            "Epoch 54/100\n",
            "506/506 [==============================] - 0s 936us/step - loss: 429.5323 - mean_squared_error: 429.5323 - mean_absolute_error: 14.2498 - val_loss: 39232.9422 - val_mean_squared_error: 39232.9422 - val_mean_absolute_error: 133.9013\n",
            "Epoch 55/100\n",
            "506/506 [==============================] - 0s 949us/step - loss: 430.6731 - mean_squared_error: 430.6731 - mean_absolute_error: 14.0865 - val_loss: 39203.8261 - val_mean_squared_error: 39203.8261 - val_mean_absolute_error: 133.8041\n",
            "Epoch 56/100\n",
            "506/506 [==============================] - 0s 948us/step - loss: 422.4557 - mean_squared_error: 422.4557 - mean_absolute_error: 14.3508 - val_loss: 39348.1246 - val_mean_squared_error: 39348.1246 - val_mean_absolute_error: 134.1813\n",
            "Epoch 57/100\n",
            "506/506 [==============================] - 0s 952us/step - loss: 415.6344 - mean_squared_error: 415.6344 - mean_absolute_error: 13.5991 - val_loss: 39301.7396 - val_mean_squared_error: 39301.7396 - val_mean_absolute_error: 134.0252\n",
            "Epoch 58/100\n",
            "506/506 [==============================] - 0s 943us/step - loss: 391.4356 - mean_squared_error: 391.4356 - mean_absolute_error: 13.5116 - val_loss: 39198.4155 - val_mean_squared_error: 39198.4155 - val_mean_absolute_error: 133.7494\n",
            "Epoch 59/100\n",
            "506/506 [==============================] - 0s 947us/step - loss: 380.1252 - mean_squared_error: 380.1252 - mean_absolute_error: 13.5945 - val_loss: 39044.6791 - val_mean_squared_error: 39044.6791 - val_mean_absolute_error: 133.2904\n",
            "Epoch 60/100\n",
            "506/506 [==============================] - 0s 927us/step - loss: 417.4275 - mean_squared_error: 417.4275 - mean_absolute_error: 13.7958 - val_loss: 38751.7284 - val_mean_squared_error: 38751.7284 - val_mean_absolute_error: 132.5611\n",
            "Epoch 61/100\n",
            "506/506 [==============================] - 0s 944us/step - loss: 413.5203 - mean_squared_error: 413.5203 - mean_absolute_error: 14.2302 - val_loss: 39085.0022 - val_mean_squared_error: 39085.0022 - val_mean_absolute_error: 133.5410\n",
            "Epoch 62/100\n",
            "506/506 [==============================] - 0s 937us/step - loss: 423.7526 - mean_squared_error: 423.7526 - mean_absolute_error: 14.2060 - val_loss: 38775.6626 - val_mean_squared_error: 38775.6626 - val_mean_absolute_error: 132.7086\n",
            "Epoch 63/100\n",
            "506/506 [==============================] - 0s 937us/step - loss: 424.8209 - mean_squared_error: 424.8209 - mean_absolute_error: 14.0694 - val_loss: 39076.5344 - val_mean_squared_error: 39076.5344 - val_mean_absolute_error: 133.5190\n",
            "Epoch 64/100\n",
            "506/506 [==============================] - 0s 929us/step - loss: 396.2652 - mean_squared_error: 396.2652 - mean_absolute_error: 13.6823 - val_loss: 38682.2541 - val_mean_squared_error: 38682.2541 - val_mean_absolute_error: 132.4843\n",
            "Epoch 65/100\n",
            "506/506 [==============================] - 0s 950us/step - loss: 427.1037 - mean_squared_error: 427.1037 - mean_absolute_error: 13.9205 - val_loss: 38734.5708 - val_mean_squared_error: 38734.5708 - val_mean_absolute_error: 132.5789\n",
            "Epoch 66/100\n",
            "506/506 [==============================] - 0s 936us/step - loss: 415.6510 - mean_squared_error: 415.6510 - mean_absolute_error: 13.8369 - val_loss: 38716.8306 - val_mean_squared_error: 38716.8306 - val_mean_absolute_error: 132.6570\n",
            "Epoch 67/100\n",
            "506/506 [==============================] - 0s 935us/step - loss: 396.0365 - mean_squared_error: 396.0365 - mean_absolute_error: 13.4788 - val_loss: 38736.2027 - val_mean_squared_error: 38736.2027 - val_mean_absolute_error: 132.6331\n",
            "Epoch 68/100\n",
            "506/506 [==============================] - 0s 931us/step - loss: 383.4524 - mean_squared_error: 383.4524 - mean_absolute_error: 13.2782 - val_loss: 38904.8268 - val_mean_squared_error: 38904.8268 - val_mean_absolute_error: 133.0723\n",
            "Epoch 69/100\n",
            "506/506 [==============================] - 0s 936us/step - loss: 435.3713 - mean_squared_error: 435.3713 - mean_absolute_error: 14.0759 - val_loss: 38536.5322 - val_mean_squared_error: 38536.5322 - val_mean_absolute_error: 132.1094\n",
            "Epoch 70/100\n",
            "506/506 [==============================] - 0s 971us/step - loss: 404.2958 - mean_squared_error: 404.2958 - mean_absolute_error: 13.7708 - val_loss: 38676.2295 - val_mean_squared_error: 38676.2295 - val_mean_absolute_error: 132.5719\n",
            "Epoch 71/100\n",
            "506/506 [==============================] - 0s 937us/step - loss: 366.4580 - mean_squared_error: 366.4580 - mean_absolute_error: 13.1155 - val_loss: 38268.4465 - val_mean_squared_error: 38268.4465 - val_mean_absolute_error: 131.5513\n",
            "Epoch 72/100\n",
            "506/506 [==============================] - 0s 941us/step - loss: 398.5659 - mean_squared_error: 398.5659 - mean_absolute_error: 14.0092 - val_loss: 38477.2004 - val_mean_squared_error: 38477.2004 - val_mean_absolute_error: 132.1595\n",
            "Epoch 73/100\n",
            "506/506 [==============================] - 0s 923us/step - loss: 387.3017 - mean_squared_error: 387.3017 - mean_absolute_error: 13.3967 - val_loss: 38581.6299 - val_mean_squared_error: 38581.6299 - val_mean_absolute_error: 132.3404\n",
            "Epoch 74/100\n",
            "506/506 [==============================] - 0s 951us/step - loss: 381.5177 - mean_squared_error: 381.5177 - mean_absolute_error: 13.3262 - val_loss: 38673.2508 - val_mean_squared_error: 38673.2508 - val_mean_absolute_error: 132.6300\n",
            "Epoch 75/100\n",
            "506/506 [==============================] - 0s 930us/step - loss: 446.0155 - mean_squared_error: 446.0155 - mean_absolute_error: 14.3040 - val_loss: 38327.3493 - val_mean_squared_error: 38327.3493 - val_mean_absolute_error: 131.7198\n",
            "Epoch 76/100\n",
            "506/506 [==============================] - 0s 943us/step - loss: 343.8479 - mean_squared_error: 343.8479 - mean_absolute_error: 12.8650 - val_loss: 38193.2103 - val_mean_squared_error: 38193.2103 - val_mean_absolute_error: 131.4384\n",
            "Epoch 77/100\n",
            "506/506 [==============================] - 0s 941us/step - loss: 421.3029 - mean_squared_error: 421.3029 - mean_absolute_error: 13.7919 - val_loss: 38106.6032 - val_mean_squared_error: 38106.6032 - val_mean_absolute_error: 131.1724\n",
            "Epoch 78/100\n",
            "506/506 [==============================] - 0s 947us/step - loss: 393.8698 - mean_squared_error: 393.8698 - mean_absolute_error: 13.4994 - val_loss: 38097.3030 - val_mean_squared_error: 38097.3030 - val_mean_absolute_error: 131.2308\n",
            "Epoch 79/100\n",
            "506/506 [==============================] - 0s 929us/step - loss: 377.7742 - mean_squared_error: 377.7742 - mean_absolute_error: 13.0956 - val_loss: 38051.3865 - val_mean_squared_error: 38051.3865 - val_mean_absolute_error: 131.1583\n",
            "Epoch 80/100\n",
            "506/506 [==============================] - 0s 938us/step - loss: 362.3930 - mean_squared_error: 362.3930 - mean_absolute_error: 13.0723 - val_loss: 38179.7704 - val_mean_squared_error: 38179.7704 - val_mean_absolute_error: 131.6162\n",
            "Epoch 81/100\n",
            "506/506 [==============================] - 0s 941us/step - loss: 388.2544 - mean_squared_error: 388.2544 - mean_absolute_error: 13.6701 - val_loss: 38220.7998 - val_mean_squared_error: 38220.7998 - val_mean_absolute_error: 131.7264\n",
            "Epoch 82/100\n",
            "506/506 [==============================] - 0s 937us/step - loss: 348.4042 - mean_squared_error: 348.4042 - mean_absolute_error: 12.8557 - val_loss: 38411.2361 - val_mean_squared_error: 38411.2361 - val_mean_absolute_error: 132.0690\n",
            "Epoch 83/100\n",
            "506/506 [==============================] - 0s 938us/step - loss: 397.5280 - mean_squared_error: 397.5280 - mean_absolute_error: 13.3240 - val_loss: 37887.0776 - val_mean_squared_error: 37887.0776 - val_mean_absolute_error: 130.4893\n",
            "Epoch 84/100\n",
            "506/506 [==============================] - 0s 944us/step - loss: 402.5622 - mean_squared_error: 402.5622 - mean_absolute_error: 13.3620 - val_loss: 37906.3564 - val_mean_squared_error: 37906.3564 - val_mean_absolute_error: 130.7045\n",
            "Epoch 85/100\n",
            "506/506 [==============================] - 0s 930us/step - loss: 345.4033 - mean_squared_error: 345.4033 - mean_absolute_error: 12.3620 - val_loss: 38080.7475 - val_mean_squared_error: 38080.7475 - val_mean_absolute_error: 131.2125\n",
            "Epoch 86/100\n",
            "506/506 [==============================] - 0s 938us/step - loss: 385.2971 - mean_squared_error: 385.2971 - mean_absolute_error: 13.0804 - val_loss: 37925.6326 - val_mean_squared_error: 37925.6326 - val_mean_absolute_error: 130.7858\n",
            "Epoch 87/100\n",
            "506/506 [==============================] - 0s 938us/step - loss: 350.3830 - mean_squared_error: 350.3830 - mean_absolute_error: 12.5535 - val_loss: 37977.2527 - val_mean_squared_error: 37977.2527 - val_mean_absolute_error: 130.8882\n",
            "Epoch 88/100\n",
            "506/506 [==============================] - 0s 942us/step - loss: 388.2551 - mean_squared_error: 388.2551 - mean_absolute_error: 13.4018 - val_loss: 37991.5488 - val_mean_squared_error: 37991.5488 - val_mean_absolute_error: 130.9249\n",
            "Epoch 89/100\n",
            "506/506 [==============================] - 0s 935us/step - loss: 365.2146 - mean_squared_error: 365.2146 - mean_absolute_error: 12.7689 - val_loss: 37615.8588 - val_mean_squared_error: 37615.8588 - val_mean_absolute_error: 129.8737\n",
            "Epoch 90/100\n",
            "506/506 [==============================] - 0s 940us/step - loss: 367.0824 - mean_squared_error: 367.0824 - mean_absolute_error: 12.6944 - val_loss: 37279.5291 - val_mean_squared_error: 37279.5291 - val_mean_absolute_error: 128.9324\n",
            "Epoch 91/100\n",
            "506/506 [==============================] - 0s 955us/step - loss: 382.0827 - mean_squared_error: 382.0827 - mean_absolute_error: 12.9995 - val_loss: 37749.7929 - val_mean_squared_error: 37749.7929 - val_mean_absolute_error: 130.3489\n",
            "Epoch 92/100\n",
            "506/506 [==============================] - 0s 948us/step - loss: 410.8902 - mean_squared_error: 410.8902 - mean_absolute_error: 13.7387 - val_loss: 37036.4135 - val_mean_squared_error: 37036.4135 - val_mean_absolute_error: 128.5186\n",
            "Epoch 93/100\n",
            "506/506 [==============================] - 0s 931us/step - loss: 393.1591 - mean_squared_error: 393.1591 - mean_absolute_error: 13.0233 - val_loss: 36937.1631 - val_mean_squared_error: 36937.1631 - val_mean_absolute_error: 128.3910\n",
            "Epoch 94/100\n",
            "506/506 [==============================] - 0s 924us/step - loss: 380.6119 - mean_squared_error: 380.6119 - mean_absolute_error: 12.6612 - val_loss: 37247.7992 - val_mean_squared_error: 37247.7992 - val_mean_absolute_error: 129.2587\n",
            "Epoch 95/100\n",
            "506/506 [==============================] - 0s 936us/step - loss: 373.9490 - mean_squared_error: 373.9490 - mean_absolute_error: 13.0567 - val_loss: 37471.6748 - val_mean_squared_error: 37471.6748 - val_mean_absolute_error: 129.8244\n",
            "Epoch 96/100\n",
            "506/506 [==============================] - 0s 946us/step - loss: 315.1410 - mean_squared_error: 315.1410 - mean_absolute_error: 12.3478 - val_loss: 37031.2497 - val_mean_squared_error: 37031.2497 - val_mean_absolute_error: 128.5812\n",
            "Epoch 97/100\n",
            "506/506 [==============================] - 0s 939us/step - loss: 378.1296 - mean_squared_error: 378.1296 - mean_absolute_error: 13.1313 - val_loss: 37612.8473 - val_mean_squared_error: 37612.8473 - val_mean_absolute_error: 130.1801\n",
            "Epoch 98/100\n",
            "506/506 [==============================] - 0s 937us/step - loss: 377.1149 - mean_squared_error: 377.1149 - mean_absolute_error: 13.1075 - val_loss: 37072.5482 - val_mean_squared_error: 37072.5482 - val_mean_absolute_error: 128.6418\n",
            "Epoch 99/100\n",
            "506/506 [==============================] - 0s 946us/step - loss: 373.4709 - mean_squared_error: 373.4709 - mean_absolute_error: 12.7238 - val_loss: 37248.6694 - val_mean_squared_error: 37248.6694 - val_mean_absolute_error: 129.1536\n",
            "Epoch 100/100\n",
            "506/506 [==============================] - 0s 931us/step - loss: 323.7666 - mean_squared_error: 323.7666 - mean_absolute_error: 11.9913 - val_loss: 37147.7096 - val_mean_squared_error: 37147.7096 - val_mean_absolute_error: 128.8888\n"
          ],
          "name": "stdout"
        }
      ]
    },
    {
      "cell_type": "code",
      "metadata": {
        "id": "Lm1mCYfGzsEN",
        "colab_type": "code",
        "outputId": "a77d8b7e-4260-48d1-9880-6d96ceca2bde",
        "colab": {
          "base_uri": "https://localhost:8080/",
          "height": 313
        }
      },
      "source": [
        "# Plot results\n",
        "print(history.history.keys())\n",
        "# \"Loss\"\n",
        "plt.plot(history.history['loss'])\n",
        "plt.plot(history.history['val_loss'])\n",
        "plt.title('model loss')\n",
        "plt.ylabel('loss')\n",
        "plt.xlabel('epoch')\n",
        "plt.legend(['train', 'validation'], loc='upper left')\n",
        "plt.show()"
      ],
      "execution_count": 0,
      "outputs": [
        {
          "output_type": "stream",
          "text": [
            "dict_keys(['val_loss', 'val_mean_squared_error', 'val_mean_absolute_error', 'loss', 'mean_squared_error', 'mean_absolute_error'])\n"
          ],
          "name": "stdout"
        },
        {
          "output_type": "display_data",
          "data": {
            "image/png": "[encoded data removed]",
            "text/plain": [
              "<Figure size 432x288 with 1 Axes>"
            ]
          },
          "metadata": {
            "tags": []
          }
        }
      ]
    }
  ]
}