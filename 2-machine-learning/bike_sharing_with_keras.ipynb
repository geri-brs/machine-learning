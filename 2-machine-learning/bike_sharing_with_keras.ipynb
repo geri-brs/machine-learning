{
  "nbformat": 4,
  "nbformat_minor": 0,
  "metadata": {
    "colab": {
      "name": "bike_sharing_with_keras.ipynb",
      "version": "0.3.2",
      "provenance": [],
      "collapsed_sections": []
    },
    "kernelspec": {
      "name": "python3",
      "display_name": "Python 3"
    }
  },
  "cells": [
    {
      "cell_type": "code",
      "metadata": {
        "id": "MGZ_F6svzizb",
        "colab_type": "code",
        "outputId": "81ee27b6-065f-43b1-c102-5a875a480fda",
        "colab": {
          "base_uri": "https://localhost:8080/",
          "height": 35
        }
      },
      "source": [
        "import seaborn           as sns\n",
        "import numpy             as np\n",
        "import pandas            as pd\n",
        "import matplotlib.pyplot as plt\n",
        "import tensorflow        as tf\n",
        "from   tensorflow                import keras\n",
        "from   tensorflow.keras          import layers\n",
        "from   sklearn.model_selection   import train_test_split\n",
        "from   sklearn.feature_selection import SelectKBest\n",
        "from   sklearn.feature_selection import chi2\n",
        "from   keras.models              import Sequential\n",
        "from   keras.layers              import Dense, Dropout\n",
        "from   keras.optimizers          import SGD\n",
        "from   keras.callbacks           import EarlyStopping"
      ],
      "execution_count": 1,
      "outputs": [
        {
          "output_type": "stream",
          "text": [
            "Using TensorFlow backend.\n"
          ],
          "name": "stderr"
        }
      ]
    },
    {
      "cell_type": "code",
      "metadata": {
        "id": "MIRq1cL6zqLm",
        "colab_type": "code",
        "outputId": "4afe2ac0-a14b-4a42-fbc6-9077b1d9d921",
        "colab": {
          "resources": {
            "http://localhost:8080/nbextensions/google.colab/files.js": {
              "data": "Ly8gQ29weXJpZ2h0IDIwMTcgR29vZ2xlIExMQwovLwovLyBMaWNlbnNlZCB1bmRlciB0aGUgQXBhY2hlIExpY2Vuc2UsIFZlcnNpb24gMi4wICh0aGUgIkxpY2Vuc2UiKTsKLy8geW91IG1heSBub3QgdXNlIHRoaXMgZmlsZSBleGNlcHQgaW4gY29tcGxpYW5jZSB3aXRoIHRoZSBMaWNlbnNlLgovLyBZb3UgbWF5IG9idGFpbiBhIGNvcHkgb2YgdGhlIExpY2Vuc2UgYXQKLy8KLy8gICAgICBodHRwOi8vd3d3LmFwYWNoZS5vcmcvbGljZW5zZXMvTElDRU5TRS0yLjAKLy8KLy8gVW5sZXNzIHJlcXVpcmVkIGJ5IGFwcGxpY2FibGUgbGF3IG9yIGFncmVlZCB0byBpbiB3cml0aW5nLCBzb2Z0d2FyZQovLyBkaXN0cmlidXRlZCB1bmRlciB0aGUgTGljZW5zZSBpcyBkaXN0cmlidXRlZCBvbiBhbiAiQVMgSVMiIEJBU0lTLAovLyBXSVRIT1VUIFdBUlJBTlRJRVMgT1IgQ09ORElUSU9OUyBPRiBBTlkgS0lORCwgZWl0aGVyIGV4cHJlc3Mgb3IgaW1wbGllZC4KLy8gU2VlIHRoZSBMaWNlbnNlIGZvciB0aGUgc3BlY2lmaWMgbGFuZ3VhZ2UgZ292ZXJuaW5nIHBlcm1pc3Npb25zIGFuZAovLyBsaW1pdGF0aW9ucyB1bmRlciB0aGUgTGljZW5zZS4KCi8qKgogKiBAZmlsZW92ZXJ2aWV3IEhlbHBlcnMgZm9yIGdvb2dsZS5jb2xhYiBQeXRob24gbW9kdWxlLgogKi8KKGZ1bmN0aW9uKHNjb3BlKSB7CmZ1bmN0aW9uIHNwYW4odGV4dCwgc3R5bGVBdHRyaWJ1dGVzID0ge30pIHsKICBjb25zdCBlbGVtZW50ID0gZG9jdW1lbnQuY3JlYXRlRWxlbWVudCgnc3BhbicpOwogIGVsZW1lbnQudGV4dENvbnRlbnQgPSB0ZXh0OwogIGZvciAoY29uc3Qga2V5IG9mIE9iamVjdC5rZXlzKHN0eWxlQXR0cmlidXRlcykpIHsKICAgIGVsZW1lbnQuc3R5bGVba2V5XSA9IHN0eWxlQXR0cmlidXRlc1trZXldOwogIH0KICByZXR1cm4gZWxlbWVudDsKfQoKLy8gTWF4IG51bWJlciBvZiBieXRlcyB3aGljaCB3aWxsIGJlIHVwbG9hZGVkIGF0IGEgdGltZS4KY29uc3QgTUFYX1BBWUxPQURfU0laRSA9IDEwMCAqIDEwMjQ7Ci8vIE1heCBhbW91bnQgb2YgdGltZSB0byBibG9jayB3YWl0aW5nIGZvciB0aGUgdXNlci4KY29uc3QgRklMRV9DSEFOR0VfVElNRU9VVF9NUyA9IDMwICogMTAwMDsKCmZ1bmN0aW9uIF91cGxvYWRGaWxlcyhpbnB1dElkLCBvdXRwdXRJZCkgewogIGNvbnN0IHN0ZXBzID0gdXBsb2FkRmlsZXNTdGVwKGlucHV0SWQsIG91dHB1dElkKTsKICBjb25zdCBvdXRwdXRFbGVtZW50ID0gZG9jdW1lbnQuZ2V0RWxlbWVudEJ5SWQob3V0cHV0SWQpOwogIC8vIENhY2hlIHN0ZXBzIG9uIHRoZSBvdXRwdXRFbGVtZW50IHRvIG1ha2UgaXQgYXZhaWxhYmxlIGZvciB0aGUgbmV4dCBjYWxsCiAgLy8gdG8gdXBsb2FkRmlsZXNDb250aW51ZSBmcm9tIFB5dGhvbi4KICBvdXRwdXRFbGVtZW50LnN0ZXBzID0gc3RlcHM7CgogIHJldHVybiBfdXBsb2FkRmlsZXNDb250aW51ZShvdXRwdXRJZCk7Cn0KCi8vIFRoaXMgaXMgcm91Z2hseSBhbiBhc3luYyBnZW5lcmF0b3IgKG5vdCBzdXBwb3J0ZWQgaW4gdGhlIGJyb3dzZXIgeWV0KSwKLy8gd2hlcmUgdGhlcmUgYXJlIG11bHRpcGxlIGFzeW5jaHJvbm91cyBzdGVwcyBhbmQgdGhlIFB5dGhvbiBzaWRlIGlzIGdvaW5nCi8vIHRvIHBvbGwgZm9yIGNvbXBsZXRpb24gb2YgZWFjaCBzdGVwLgovLyBUaGlzIHVzZXMgYSBQcm9taXNlIHRvIGJsb2NrIHRoZSBweXRob24gc2lkZSBvbiBjb21wbGV0aW9uIG9mIGVhY2ggc3RlcCwKLy8gdGhlbiBwYXNzZXMgdGhlIHJlc3VsdCBvZiB0aGUgcHJldmlvdXMgc3RlcCBhcyB0aGUgaW5wdXQgdG8gdGhlIG5leHQgc3RlcC4KZnVuY3Rpb24gX3VwbG9hZEZpbGVzQ29udGludWUob3V0cHV0SWQpIHsKICBjb25zdCBvdXRwdXRFbGVtZW50ID0gZG9jdW1lbnQuZ2V0RWxlbWVudEJ5SWQob3V0cHV0SWQpOwogIGNvbnN0IHN0ZXBzID0gb3V0cHV0RWxlbWVudC5zdGVwczsKCiAgY29uc3QgbmV4dCA9IHN0ZXBzLm5leHQob3V0cHV0RWxlbWVudC5sYXN0UHJvbWlzZVZhbHVlKTsKICByZXR1cm4gUHJvbWlzZS5yZXNvbHZlKG5leHQudmFsdWUucHJvbWlzZSkudGhlbigodmFsdWUpID0+IHsKICAgIC8vIENhY2hlIHRoZSBsYXN0IHByb21pc2UgdmFsdWUgdG8gbWFrZSBpdCBhdmFpbGFibGUgdG8gdGhlIG5leHQKICAgIC8vIHN0ZXAgb2YgdGhlIGdlbmVyYXRvci4KICAgIG91dHB1dEVsZW1lbnQubGFzdFByb21pc2VWYWx1ZSA9IHZhbHVlOwogICAgcmV0dXJuIG5leHQudmFsdWUucmVzcG9uc2U7CiAgfSk7Cn0KCi8qKgogKiBHZW5lcmF0b3IgZnVuY3Rpb24gd2hpY2ggaXMgY2FsbGVkIGJldHdlZW4gZWFjaCBhc3luYyBzdGVwIG9mIHRoZSB1cGxvYWQKICogcHJvY2Vzcy4KICogQHBhcmFtIHtzdHJpbmd9IGlucHV0SWQgRWxlbWVudCBJRCBvZiB0aGUgaW5wdXQgZmlsZSBwaWNrZXIgZWxlbWVudC4KICogQHBhcmFtIHtzdHJpbmd9IG91dHB1dElkIEVsZW1lbnQgSUQgb2YgdGhlIG91dHB1dCBkaXNwbGF5LgogKiBAcmV0dXJuIHshSXRlcmFibGU8IU9iamVjdD59IEl0ZXJhYmxlIG9mIG5leHQgc3RlcHMuCiAqLwpmdW5jdGlvbiogdXBsb2FkRmlsZXNTdGVwKGlucHV0SWQsIG91dHB1dElkKSB7CiAgY29uc3QgaW5wdXRFbGVtZW50ID0gZG9jdW1lbnQuZ2V0RWxlbWVudEJ5SWQoaW5wdXRJZCk7CiAgaW5wdXRFbGVtZW50LmRpc2FibGVkID0gZmFsc2U7CgogIGNvbnN0IG91dHB1dEVsZW1lbnQgPSBkb2N1bWVudC5nZXRFbGVtZW50QnlJZChvdXRwdXRJZCk7CiAgb3V0cHV0RWxlbWVudC5pbm5lckhUTUwgPSAnJzsKCiAgY29uc3QgcGlja2VkUHJvbWlzZSA9IG5ldyBQcm9taXNlKChyZXNvbHZlKSA9PiB7CiAgICBpbnB1dEVsZW1lbnQuYWRkRXZlbnRMaXN0ZW5lcignY2hhbmdlJywgKGUpID0+IHsKICAgICAgcmVzb2x2ZShlLnRhcmdldC5maWxlcyk7CiAgICB9KTsKICB9KTsKCiAgY29uc3QgY2FuY2VsID0gZG9jdW1lbnQuY3JlYXRlRWxlbWVudCgnYnV0dG9uJyk7CiAgaW5wdXRFbGVtZW50LnBhcmVudEVsZW1lbnQuYXBwZW5kQ2hpbGQoY2FuY2VsKTsKICBjYW5jZWwudGV4dENvbnRlbnQgPSAnQ2FuY2VsIHVwbG9hZCc7CiAgY29uc3QgY2FuY2VsUHJvbWlzZSA9IG5ldyBQcm9taXNlKChyZXNvbHZlKSA9PiB7CiAgICBjYW5jZWwub25jbGljayA9ICgpID0+IHsKICAgICAgcmVzb2x2ZShudWxsKTsKICAgIH07CiAgfSk7CgogIC8vIENhbmNlbCB1cGxvYWQgaWYgdXNlciBoYXNuJ3QgcGlja2VkIGFueXRoaW5nIGluIHRpbWVvdXQuCiAgY29uc3QgdGltZW91dFByb21pc2UgPSBuZXcgUHJvbWlzZSgocmVzb2x2ZSkgPT4gewogICAgc2V0VGltZW91dCgoKSA9PiB7CiAgICAgIHJlc29sdmUobnVsbCk7CiAgICB9LCBGSUxFX0NIQU5HRV9USU1FT1VUX01TKTsKICB9KTsKCiAgLy8gV2FpdCBmb3IgdGhlIHVzZXIgdG8gcGljayB0aGUgZmlsZXMuCiAgY29uc3QgZmlsZXMgPSB5aWVsZCB7CiAgICBwcm9taXNlOiBQcm9taXNlLnJhY2UoW3BpY2tlZFByb21pc2UsIHRpbWVvdXRQcm9taXNlLCBjYW5jZWxQcm9taXNlXSksCiAgICByZXNwb25zZTogewogICAgICBhY3Rpb246ICdzdGFydGluZycsCiAgICB9CiAgfTsKCiAgaWYgKCFmaWxlcykgewogICAgcmV0dXJuIHsKICAgICAgcmVzcG9uc2U6IHsKICAgICAgICBhY3Rpb246ICdjb21wbGV0ZScsCiAgICAgIH0KICAgIH07CiAgfQoKICBjYW5jZWwucmVtb3ZlKCk7CgogIC8vIERpc2FibGUgdGhlIGlucHV0IGVsZW1lbnQgc2luY2UgZnVydGhlciBwaWNrcyBhcmUgbm90IGFsbG93ZWQuCiAgaW5wdXRFbGVtZW50LmRpc2FibGVkID0gdHJ1ZTsKCiAgZm9yIChjb25zdCBmaWxlIG9mIGZpbGVzKSB7CiAgICBjb25zdCBsaSA9IGRvY3VtZW50LmNyZWF0ZUVsZW1lbnQoJ2xpJyk7CiAgICBsaS5hcHBlbmQoc3BhbihmaWxlLm5hbWUsIHtmb250V2VpZ2h0OiAnYm9sZCd9KSk7CiAgICBsaS5hcHBlbmQoc3BhbigKICAgICAgICBgKCR7ZmlsZS50eXBlIHx8ICduL2EnfSkgLSAke2ZpbGUuc2l6ZX0gYnl0ZXMsIGAgKwogICAgICAgIGBsYXN0IG1vZGlmaWVkOiAkewogICAgICAgICAgICBmaWxlLmxhc3RNb2RpZmllZERhdGUgPyBmaWxlLmxhc3RNb2RpZmllZERhdGUudG9Mb2NhbGVEYXRlU3RyaW5nKCkgOgogICAgICAgICAgICAgICAgICAgICAgICAgICAgICAgICAgICAnbi9hJ30gLSBgKSk7CiAgICBjb25zdCBwZXJjZW50ID0gc3BhbignMCUgZG9uZScpOwogICAgbGkuYXBwZW5kQ2hpbGQocGVyY2VudCk7CgogICAgb3V0cHV0RWxlbWVudC5hcHBlbmRDaGlsZChsaSk7CgogICAgY29uc3QgZmlsZURhdGFQcm9taXNlID0gbmV3IFByb21pc2UoKHJlc29sdmUpID0+IHsKICAgICAgY29uc3QgcmVhZGVyID0gbmV3IEZpbGVSZWFkZXIoKTsKICAgICAgcmVhZGVyLm9ubG9hZCA9IChlKSA9PiB7CiAgICAgICAgcmVzb2x2ZShlLnRhcmdldC5yZXN1bHQpOwogICAgICB9OwogICAgICByZWFkZXIucmVhZEFzQXJyYXlCdWZmZXIoZmlsZSk7CiAgICB9KTsKICAgIC8vIFdhaXQgZm9yIHRoZSBkYXRhIHRvIGJlIHJlYWR5LgogICAgbGV0IGZpbGVEYXRhID0geWllbGQgewogICAgICBwcm9taXNlOiBmaWxlRGF0YVByb21pc2UsCiAgICAgIHJlc3BvbnNlOiB7CiAgICAgICAgYWN0aW9uOiAnY29udGludWUnLAogICAgICB9CiAgICB9OwoKICAgIC8vIFVzZSBhIGNodW5rZWQgc2VuZGluZyB0byBhdm9pZCBtZXNzYWdlIHNpemUgbGltaXRzLiBTZWUgYi82MjExNTY2MC4KICAgIGxldCBwb3NpdGlvbiA9IDA7CiAgICB3aGlsZSAocG9zaXRpb24gPCBmaWxlRGF0YS5ieXRlTGVuZ3RoKSB7CiAgICAgIGNvbnN0IGxlbmd0aCA9IE1hdGgubWluKGZpbGVEYXRhLmJ5dGVMZW5ndGggLSBwb3NpdGlvbiwgTUFYX1BBWUxPQURfU0laRSk7CiAgICAgIGNvbnN0IGNodW5rID0gbmV3IFVpbnQ4QXJyYXkoZmlsZURhdGEsIHBvc2l0aW9uLCBsZW5ndGgpOwogICAgICBwb3NpdGlvbiArPSBsZW5ndGg7CgogICAgICBjb25zdCBiYXNlNjQgPSBidG9hKFN0cmluZy5mcm9tQ2hhckNvZGUuYXBwbHkobnVsbCwgY2h1bmspKTsKICAgICAgeWllbGQgewogICAgICAgIHJlc3BvbnNlOiB7CiAgICAgICAgICBhY3Rpb246ICdhcHBlbmQnLAogICAgICAgICAgZmlsZTogZmlsZS5uYW1lLAogICAgICAgICAgZGF0YTogYmFzZTY0LAogICAgICAgIH0sCiAgICAgIH07CiAgICAgIHBlcmNlbnQudGV4dENvbnRlbnQgPQogICAgICAgICAgYCR7TWF0aC5yb3VuZCgocG9zaXRpb24gLyBmaWxlRGF0YS5ieXRlTGVuZ3RoKSAqIDEwMCl9JSBkb25lYDsKICAgIH0KICB9CgogIC8vIEFsbCBkb25lLgogIHlpZWxkIHsKICAgIHJlc3BvbnNlOiB7CiAgICAgIGFjdGlvbjogJ2NvbXBsZXRlJywKICAgIH0KICB9Owp9CgpzY29wZS5nb29nbGUgPSBzY29wZS5nb29nbGUgfHwge307CnNjb3BlLmdvb2dsZS5jb2xhYiA9IHNjb3BlLmdvb2dsZS5jb2xhYiB8fCB7fTsKc2NvcGUuZ29vZ2xlLmNvbGFiLl9maWxlcyA9IHsKICBfdXBsb2FkRmlsZXMsCiAgX3VwbG9hZEZpbGVzQ29udGludWUsCn07Cn0pKHNlbGYpOwo=",
              "ok": true,
              "headers": [
                [
                  "content-type",
                  "application/javascript"
                ]
              ],
              "status": 200,
              "status_text": ""
            }
          },
          "base_uri": "https://localhost:8080/",
          "height": 40
        }
      },
      "source": [
        "# Upload dataset\n",
        "from google.colab import files\n",
        "uploaded = files.upload()"
      ],
      "execution_count": 107,
      "outputs": [
        {
          "output_type": "display_data",
          "data": {
            "text/html": [
              "\n",
              "     <input type=\"file\" id=\"files-4fc04830-f771-492d-91f6-29f8aa36d01b\" name=\"files[]\" multiple disabled />\n",
              "     <output id=\"result-4fc04830-f771-492d-91f6-29f8aa36d01b\">\n",
              "      Upload widget is only available when the cell has been executed in the\n",
              "      current browser session. Please rerun this cell to enable.\n",
              "      </output>\n",
              "      <script src=\"/nbextensions/google.colab/files.js\"></script> "
            ],
            "text/plain": [
              "<IPython.core.display.HTML object>"
            ]
          },
          "metadata": {
            "tags": []
          }
        }
      ]
    },
    {
      "cell_type": "code",
      "metadata": {
        "id": "S4IIsOKUzsis",
        "colab_type": "code",
        "colab": {}
      },
      "source": [
        "# Load hours dataset\n",
        "path = \"./hour.csv\"\n",
        "dataset = pd.read_csv(path)"
      ],
      "execution_count": 0,
      "outputs": []
    },
    {
      "cell_type": "code",
      "metadata": {
        "id": "nfxunmkJK0Ao",
        "colab_type": "code",
        "outputId": "45d0b023-4d98-48ad-fa34-7a60a08d931e",
        "colab": {
          "base_uri": "https://localhost:8080/",
          "height": 323
        }
      },
      "source": [
        "for i in dataset.columns.values:\n",
        "  print(i, dataset[i].dtype)"
      ],
      "execution_count": 109,
      "outputs": [
        {
          "output_type": "stream",
          "text": [
            "instant int64\n",
            "dteday object\n",
            "season int64\n",
            "yr int64\n",
            "mnth int64\n",
            "hr int64\n",
            "holiday int64\n",
            "weekday int64\n",
            "workingday int64\n",
            "weathersit int64\n",
            "temp float64\n",
            "atemp float64\n",
            "hum float64\n",
            "windspeed float64\n",
            "casual int64\n",
            "registered int64\n",
            "cnt int64\n"
          ],
          "name": "stdout"
        }
      ]
    },
    {
      "cell_type": "code",
      "metadata": {
        "id": "YBvSq5xLLt2O",
        "colab_type": "code",
        "outputId": "e52a9e47-a65b-48bb-c6cd-07fb5ba286b6",
        "colab": {
          "base_uri": "https://localhost:8080/",
          "height": 204
        }
      },
      "source": [
        "dataset.head()"
      ],
      "execution_count": 110,
      "outputs": [
        {
          "output_type": "execute_result",
          "data": {
            "text/html": [
              "<div>\n",
              "<style scoped>\n",
              "    .dataframe tbody tr th:only-of-type {\n",
              "        vertical-align: middle;\n",
              "    }\n",
              "\n",
              "    .dataframe tbody tr th {\n",
              "        vertical-align: top;\n",
              "    }\n",
              "\n",
              "    .dataframe thead th {\n",
              "        text-align: right;\n",
              "    }\n",
              "</style>\n",
              "<table border=\"1\" class=\"dataframe\">\n",
              "  <thead>\n",
              "    <tr style=\"text-align: right;\">\n",
              "      <th></th>\n",
              "      <th>instant</th>\n",
              "      <th>dteday</th>\n",
              "      <th>season</th>\n",
              "      <th>yr</th>\n",
              "      <th>mnth</th>\n",
              "      <th>hr</th>\n",
              "      <th>holiday</th>\n",
              "      <th>weekday</th>\n",
              "      <th>workingday</th>\n",
              "      <th>weathersit</th>\n",
              "      <th>temp</th>\n",
              "      <th>atemp</th>\n",
              "      <th>hum</th>\n",
              "      <th>windspeed</th>\n",
              "      <th>casual</th>\n",
              "      <th>registered</th>\n",
              "      <th>cnt</th>\n",
              "    </tr>\n",
              "  </thead>\n",
              "  <tbody>\n",
              "    <tr>\n",
              "      <th>0</th>\n",
              "      <td>1</td>\n",
              "      <td>2011-01-01</td>\n",
              "      <td>1</td>\n",
              "      <td>0</td>\n",
              "      <td>1</td>\n",
              "      <td>0</td>\n",
              "      <td>0</td>\n",
              "      <td>6</td>\n",
              "      <td>0</td>\n",
              "      <td>1</td>\n",
              "      <td>0.24</td>\n",
              "      <td>0.2879</td>\n",
              "      <td>0.81</td>\n",
              "      <td>0.0</td>\n",
              "      <td>3</td>\n",
              "      <td>13</td>\n",
              "      <td>16</td>\n",
              "    </tr>\n",
              "    <tr>\n",
              "      <th>1</th>\n",
              "      <td>2</td>\n",
              "      <td>2011-01-01</td>\n",
              "      <td>1</td>\n",
              "      <td>0</td>\n",
              "      <td>1</td>\n",
              "      <td>1</td>\n",
              "      <td>0</td>\n",
              "      <td>6</td>\n",
              "      <td>0</td>\n",
              "      <td>1</td>\n",
              "      <td>0.22</td>\n",
              "      <td>0.2727</td>\n",
              "      <td>0.80</td>\n",
              "      <td>0.0</td>\n",
              "      <td>8</td>\n",
              "      <td>32</td>\n",
              "      <td>40</td>\n",
              "    </tr>\n",
              "    <tr>\n",
              "      <th>2</th>\n",
              "      <td>3</td>\n",
              "      <td>2011-01-01</td>\n",
              "      <td>1</td>\n",
              "      <td>0</td>\n",
              "      <td>1</td>\n",
              "      <td>2</td>\n",
              "      <td>0</td>\n",
              "      <td>6</td>\n",
              "      <td>0</td>\n",
              "      <td>1</td>\n",
              "      <td>0.22</td>\n",
              "      <td>0.2727</td>\n",
              "      <td>0.80</td>\n",
              "      <td>0.0</td>\n",
              "      <td>5</td>\n",
              "      <td>27</td>\n",
              "      <td>32</td>\n",
              "    </tr>\n",
              "    <tr>\n",
              "      <th>3</th>\n",
              "      <td>4</td>\n",
              "      <td>2011-01-01</td>\n",
              "      <td>1</td>\n",
              "      <td>0</td>\n",
              "      <td>1</td>\n",
              "      <td>3</td>\n",
              "      <td>0</td>\n",
              "      <td>6</td>\n",
              "      <td>0</td>\n",
              "      <td>1</td>\n",
              "      <td>0.24</td>\n",
              "      <td>0.2879</td>\n",
              "      <td>0.75</td>\n",
              "      <td>0.0</td>\n",
              "      <td>3</td>\n",
              "      <td>10</td>\n",
              "      <td>13</td>\n",
              "    </tr>\n",
              "    <tr>\n",
              "      <th>4</th>\n",
              "      <td>5</td>\n",
              "      <td>2011-01-01</td>\n",
              "      <td>1</td>\n",
              "      <td>0</td>\n",
              "      <td>1</td>\n",
              "      <td>4</td>\n",
              "      <td>0</td>\n",
              "      <td>6</td>\n",
              "      <td>0</td>\n",
              "      <td>1</td>\n",
              "      <td>0.24</td>\n",
              "      <td>0.2879</td>\n",
              "      <td>0.75</td>\n",
              "      <td>0.0</td>\n",
              "      <td>0</td>\n",
              "      <td>1</td>\n",
              "      <td>1</td>\n",
              "    </tr>\n",
              "  </tbody>\n",
              "</table>\n",
              "</div>"
            ],
            "text/plain": [
              "   instant      dteday  season  yr  ...  windspeed  casual  registered  cnt\n",
              "0        1  2011-01-01       1   0  ...        0.0       3          13   16\n",
              "1        2  2011-01-01       1   0  ...        0.0       8          32   40\n",
              "2        3  2011-01-01       1   0  ...        0.0       5          27   32\n",
              "3        4  2011-01-01       1   0  ...        0.0       3          10   13\n",
              "4        5  2011-01-01       1   0  ...        0.0       0           1    1\n",
              "\n",
              "[5 rows x 17 columns]"
            ]
          },
          "metadata": {
            "tags": []
          },
          "execution_count": 110
        }
      ]
    },
    {
      "cell_type": "code",
      "metadata": {
        "id": "yymFnJzKzsgF",
        "colab_type": "code",
        "colab": {}
      },
      "source": [
        "def generate_dummies(df, dummy_column):\n",
        "    dummies = pd.get_dummies(df[dummy_column], prefix=dummy_column)\n",
        "    df = pd.concat([df, dummies], axis=1)\n",
        "    return df\n",
        "\n",
        "X = pd.DataFrame.copy(dataset)\n",
        "dummy_columns = [\"season\",     # season (1:springer, 2:summer, 3:fall, 4:winter)\n",
        "                 \"mnth\",        # month ( 1 to 12)\n",
        "                 \"hr\",          # hour (0 to 23)\n",
        "                 \"weekday\",     # weekday : day of the week\n",
        "                 \"weathersit\"   # weathersit : \n",
        "                                 # - 1: Clear, Few clouds, Partly cloudy, Partly cloudy\n",
        "                                 # - 2: Mist + Cloudy, Mist + Broken clouds, Mist + Few clouds, Mist\n",
        "                                 # - 3: Light Snow, Light Rain + Thunderstorm + Scattered clouds, Light Rain + Scattered clouds\n",
        "                                 # - 4: Heavy Rain + Ice Pallets + Thunderstorm + Mist, Snow + Fog\n",
        "                ]\n",
        "for dummy_column in dummy_columns:\n",
        "    X = generate_dummies(X, dummy_column)"
      ],
      "execution_count": 0,
      "outputs": []
    },
    {
      "cell_type": "code",
      "metadata": {
        "id": "SM2roqORzsdW",
        "colab_type": "code",
        "colab": {}
      },
      "source": [
        "for dummy_column in dummy_columns:\n",
        "  del X[dummy_column]"
      ],
      "execution_count": 0,
      "outputs": []
    },
    {
      "cell_type": "code",
      "metadata": {
        "id": "lVJzzy-azsaj",
        "colab_type": "code",
        "colab": {}
      },
      "source": [
        "del X[\"yr\"]\n",
        "del X[\"hum\"]\n",
        "del X[\"instant\"]\n",
        "del X[\"dteday\"]\n",
        "\n",
        "y = X[\"cnt\"]\n",
        "\n",
        "del X[\"cnt\"]\n",
        "del X[\"registered\"]\n",
        "del X[\"casual\"]"
      ],
      "execution_count": 0,
      "outputs": []
    },
    {
      "cell_type": "code",
      "metadata": {
        "id": "z0fAnJkXEDxg",
        "colab_type": "code",
        "outputId": "957f9ad7-1312-4b6e-ecfe-40cd476c6d6d",
        "colab": {
          "base_uri": "https://localhost:8080/",
          "height": 161
        }
      },
      "source": [
        "X.head()\n",
        "print(X.columns.values)"
      ],
      "execution_count": 114,
      "outputs": [
        {
          "output_type": "stream",
          "text": [
            "['holiday' 'workingday' 'temp' 'atemp' 'windspeed' 'season_1' 'season_2'\n",
            " 'season_3' 'season_4' 'mnth_1' 'mnth_2' 'mnth_3' 'mnth_4' 'mnth_5'\n",
            " 'mnth_6' 'mnth_7' 'mnth_8' 'mnth_9' 'mnth_10' 'mnth_11' 'mnth_12' 'hr_0'\n",
            " 'hr_1' 'hr_2' 'hr_3' 'hr_4' 'hr_5' 'hr_6' 'hr_7' 'hr_8' 'hr_9' 'hr_10'\n",
            " 'hr_11' 'hr_12' 'hr_13' 'hr_14' 'hr_15' 'hr_16' 'hr_17' 'hr_18' 'hr_19'\n",
            " 'hr_20' 'hr_21' 'hr_22' 'hr_23' 'weekday_0' 'weekday_1' 'weekday_2'\n",
            " 'weekday_3' 'weekday_4' 'weekday_5' 'weekday_6' 'weathersit_1'\n",
            " 'weathersit_2' 'weathersit_3' 'weathersit_4']\n"
          ],
          "name": "stdout"
        }
      ]
    },
    {
      "cell_type": "code",
      "metadata": {
        "id": "4Y1-1b2VzsX3",
        "colab_type": "code",
        "outputId": "b25a7269-e3ed-4d05-c95f-709900ff4ee9",
        "colab": {
          "base_uri": "https://localhost:8080/",
          "height": 53
        }
      },
      "source": [
        "all_days = len(X) // 24\n",
        "print(\"Total observations\", len(X))\n",
        "print(\"Total number of days\", all_days)\n",
        "days_for_training = int(all_days * 0.7)\n",
        "\n",
        "X_train = X[0:days_for_training]\n",
        "X_test = X[days_for_training:]\n",
        "\n",
        "y_train = y[0:days_for_training]\n",
        "y_test= y[days_for_training:]"
      ],
      "execution_count": 115,
      "outputs": [
        {
          "output_type": "stream",
          "text": [
            "Total observations 17379\n",
            "Total number of days 724\n"
          ],
          "name": "stdout"
        }
      ]
    },
    {
      "cell_type": "code",
      "metadata": {
        "id": "6Fz0r7VMzsU9",
        "colab_type": "code",
        "outputId": "2cbe6f50-794c-4fbd-9e31-4ada775bf45e",
        "colab": {
          "base_uri": "https://localhost:8080/",
          "height": 161
        }
      },
      "source": [
        "print(\"Observations for training\", len(X_train))\n",
        "print(\"Observations for testing\", len(X_test))\n",
        "print(\"Some target values\", y.head())"
      ],
      "execution_count": 116,
      "outputs": [
        {
          "output_type": "stream",
          "text": [
            "Observations for training 506\n",
            "Observations for testing 16873\n",
            "Some target values 0    16\n",
            "1    40\n",
            "2    32\n",
            "3    13\n",
            "4     1\n",
            "Name: cnt, dtype: int64\n"
          ],
          "name": "stdout"
        }
      ]
    },
    {
      "cell_type": "code",
      "metadata": {
        "id": "Huh9p132IlI3",
        "colab_type": "code",
        "outputId": "251cca46-bb7b-440f-e951-b4c53731061c",
        "colab": {
          "base_uri": "https://localhost:8080/",
          "height": 197
        }
      },
      "source": [
        "print(\"Sum of X_train columns: \", len(X_train.columns.values))\n",
        "print(\"Columns of X_train: \\n\", X_train.columns.values)"
      ],
      "execution_count": 125,
      "outputs": [
        {
          "output_type": "stream",
          "text": [
            "Sum of X_train columns:  56\n",
            "Columns of X_train: \n",
            " ['holiday' 'workingday' 'temp' 'atemp' 'windspeed' 'season_1' 'season_2'\n",
            " 'season_3' 'season_4' 'mnth_1' 'mnth_2' 'mnth_3' 'mnth_4' 'mnth_5'\n",
            " 'mnth_6' 'mnth_7' 'mnth_8' 'mnth_9' 'mnth_10' 'mnth_11' 'mnth_12' 'hr_0'\n",
            " 'hr_1' 'hr_2' 'hr_3' 'hr_4' 'hr_5' 'hr_6' 'hr_7' 'hr_8' 'hr_9' 'hr_10'\n",
            " 'hr_11' 'hr_12' 'hr_13' 'hr_14' 'hr_15' 'hr_16' 'hr_17' 'hr_18' 'hr_19'\n",
            " 'hr_20' 'hr_21' 'hr_22' 'hr_23' 'weekday_0' 'weekday_1' 'weekday_2'\n",
            " 'weekday_3' 'weekday_4' 'weekday_5' 'weekday_6' 'weathersit_1'\n",
            " 'weathersit_2' 'weathersit_3' 'weathersit_4']\n"
          ],
          "name": "stdout"
        }
      ]
    },
    {
      "cell_type": "code",
      "metadata": {
        "id": "LcvVtXCozsOk",
        "colab_type": "code",
        "outputId": "1b188c8e-ee31-40eb-fa0a-6735635d6bbb",
        "colab": {
          "base_uri": "https://localhost:8080/",
          "height": 251
        }
      },
      "source": [
        "#create model\n",
        "model = Sequential()\n",
        "\n",
        "#get number of columns in training data\n",
        "n_cols = X.shape[1]\n",
        "\n",
        "#add model layers\n",
        "model.add(Dense(13, activation='relu', kernel_initializer='normal', input_shape=(n_cols,)))\n",
        "model.add(Dropout(0.1, input_shape=(n_cols,)))\n",
        "model.add(Dense(1, activation='linear'))\n",
        "model.summary()"
      ],
      "execution_count": 145,
      "outputs": [
        {
          "output_type": "stream",
          "text": [
            "_________________________________________________________________\n",
            "Layer (type)                 Output Shape              Param #   \n",
            "=================================================================\n",
            "dense_46 (Dense)             (None, 13)                741       \n",
            "_________________________________________________________________\n",
            "dropout_30 (Dropout)         (None, 13)                0         \n",
            "_________________________________________________________________\n",
            "dense_47 (Dense)             (None, 1)                 14        \n",
            "=================================================================\n",
            "Total params: 755\n",
            "Trainable params: 755\n",
            "Non-trainable params: 0\n",
            "_________________________________________________________________\n"
          ],
          "name": "stdout"
        }
      ]
    },
    {
      "cell_type": "code",
      "metadata": {
        "id": "_qProfrpzsLM",
        "colab_type": "code",
        "colab": {}
      },
      "source": [
        "#compile model using mse as a measure of model performance\n",
        "model.compile(loss='mse',\n",
        "              optimizer='adam', \n",
        "              metrics=['mse','mae'])"
      ],
      "execution_count": 0,
      "outputs": []
    },
    {
      "cell_type": "code",
      "metadata": {
        "id": "IEZfQ9tE0atl",
        "colab_type": "code",
        "outputId": "0becca98-2965-4459-b9e7-f69598966d0d",
        "colab": {
          "base_uri": "https://localhost:8080/",
          "height": 1000
        }
      },
      "source": [
        "#set early stopping monitor so the model stops training when it won't improve anymore\n",
        "early_stopping_monitor = EarlyStopping(patience=10)\n",
        "\n",
        "X = X.sample(frac=1)\n",
        "y = y.sample(frac=1)\n",
        "\n",
        "#train model\n",
        "history = model.fit(X,\n",
        "                    y,\n",
        "                    validation_split = 0.2,\n",
        "                    epochs = 100,\n",
        "                    batch_size = 56,\n",
        "                    callbacks = [early_stopping_monitor],\n",
        "                    verbose = 1)"
      ],
      "execution_count": 147,
      "outputs": [
        {
          "output_type": "stream",
          "text": [
            "Train on 13903 samples, validate on 3476 samples\n",
            "Epoch 1/100\n",
            "13903/13903 [==============================] - 2s 144us/step - loss: 66834.3107 - mean_squared_error: 66834.3107 - mean_absolute_error: 184.9434 - val_loss: 67696.5679 - val_mean_squared_error: 67696.5679 - val_mean_absolute_error: 185.2323\n",
            "Epoch 2/100\n",
            "13903/13903 [==============================] - 0s 34us/step - loss: 62043.5187 - mean_squared_error: 62043.5187 - mean_absolute_error: 174.4591 - val_loss: 61324.0304 - val_mean_squared_error: 61324.0304 - val_mean_absolute_error: 172.6426\n",
            "Epoch 3/100\n",
            "13903/13903 [==============================] - 0s 31us/step - loss: 55021.8326 - mean_squared_error: 55021.8326 - mean_absolute_error: 161.6234 - val_loss: 53484.7699 - val_mean_squared_error: 53484.7699 - val_mean_absolute_error: 159.4864\n",
            "Epoch 4/100\n",
            "13903/13903 [==============================] - 0s 31us/step - loss: 47549.7738 - mean_squared_error: 47549.7738 - mean_absolute_error: 150.0158 - val_loss: 46086.3673 - val_mean_squared_error: 46086.3673 - val_mean_absolute_error: 148.7365\n",
            "Epoch 5/100\n",
            "13903/13903 [==============================] - 0s 31us/step - loss: 41437.0680 - mean_squared_error: 41437.0680 - mean_absolute_error: 142.3320 - val_loss: 40438.4016 - val_mean_squared_error: 40438.4016 - val_mean_absolute_error: 142.3577\n",
            "Epoch 6/100\n",
            "13903/13903 [==============================] - 0s 31us/step - loss: 37233.0188 - mean_squared_error: 37233.0188 - mean_absolute_error: 138.7358 - val_loss: 36957.9700 - val_mean_squared_error: 36957.9700 - val_mean_absolute_error: 140.0466\n",
            "Epoch 7/100\n",
            "13903/13903 [==============================] - 0s 33us/step - loss: 35099.8028 - mean_squared_error: 35099.8028 - mean_absolute_error: 138.6792 - val_loss: 35191.1057 - val_mean_squared_error: 35191.1057 - val_mean_absolute_error: 140.1636\n",
            "Epoch 8/100\n",
            "13903/13903 [==============================] - 0s 33us/step - loss: 34013.8716 - mean_squared_error: 34013.8716 - mean_absolute_error: 139.5558 - val_loss: 34429.3937 - val_mean_squared_error: 34429.3937 - val_mean_absolute_error: 141.1358\n",
            "Epoch 9/100\n",
            "13903/13903 [==============================] - 0s 33us/step - loss: 33733.1685 - mean_squared_error: 33733.1685 - mean_absolute_error: 141.0454 - val_loss: 34145.6092 - val_mean_squared_error: 34145.6092 - val_mean_absolute_error: 141.9044\n",
            "Epoch 10/100\n",
            "13903/13903 [==============================] - 0s 33us/step - loss: 33557.5429 - mean_squared_error: 33557.5429 - mean_absolute_error: 141.7184 - val_loss: 34019.6085 - val_mean_squared_error: 34019.6085 - val_mean_absolute_error: 142.3622\n",
            "Epoch 11/100\n",
            "13903/13903 [==============================] - 0s 34us/step - loss: 33625.7852 - mean_squared_error: 33625.7852 - mean_absolute_error: 142.1570 - val_loss: 33953.8919 - val_mean_squared_error: 33953.8919 - val_mean_absolute_error: 142.6028\n",
            "Epoch 12/100\n",
            "13903/13903 [==============================] - 0s 34us/step - loss: 33505.1048 - mean_squared_error: 33505.1048 - mean_absolute_error: 142.3600 - val_loss: 33907.0805 - val_mean_squared_error: 33907.0805 - val_mean_absolute_error: 142.7777\n",
            "Epoch 13/100\n",
            "13903/13903 [==============================] - 0s 32us/step - loss: 33542.0173 - mean_squared_error: 33542.0173 - mean_absolute_error: 142.7358 - val_loss: 33899.3553 - val_mean_squared_error: 33899.3553 - val_mean_absolute_error: 142.6221\n",
            "Epoch 14/100\n",
            "13903/13903 [==============================] - 0s 31us/step - loss: 33427.1851 - mean_squared_error: 33427.1851 - mean_absolute_error: 142.3927 - val_loss: 33888.8360 - val_mean_squared_error: 33888.8360 - val_mean_absolute_error: 142.5278\n",
            "Epoch 15/100\n",
            "13903/13903 [==============================] - 0s 31us/step - loss: 33442.3369 - mean_squared_error: 33442.3369 - mean_absolute_error: 142.5199 - val_loss: 33861.8538 - val_mean_squared_error: 33861.8538 - val_mean_absolute_error: 142.5815\n",
            "Epoch 16/100\n",
            "13903/13903 [==============================] - 0s 31us/step - loss: 33476.1749 - mean_squared_error: 33476.1749 - mean_absolute_error: 142.3952 - val_loss: 33851.3898 - val_mean_squared_error: 33851.3898 - val_mean_absolute_error: 142.5449\n",
            "Epoch 17/100\n",
            "13903/13903 [==============================] - 0s 32us/step - loss: 33485.3359 - mean_squared_error: 33485.3359 - mean_absolute_error: 142.7907 - val_loss: 33842.9581 - val_mean_squared_error: 33842.9581 - val_mean_absolute_error: 142.4978\n",
            "Epoch 18/100\n",
            "13903/13903 [==============================] - 0s 32us/step - loss: 33408.8476 - mean_squared_error: 33408.8476 - mean_absolute_error: 142.3274 - val_loss: 33833.9814 - val_mean_squared_error: 33833.9814 - val_mean_absolute_error: 142.4775\n",
            "Epoch 19/100\n",
            "13903/13903 [==============================] - 0s 32us/step - loss: 33465.3261 - mean_squared_error: 33465.3261 - mean_absolute_error: 142.3301 - val_loss: 33805.3132 - val_mean_squared_error: 33805.3132 - val_mean_absolute_error: 142.6605\n",
            "Epoch 20/100\n",
            "13903/13903 [==============================] - 0s 32us/step - loss: 33496.7988 - mean_squared_error: 33496.7988 - mean_absolute_error: 142.6906 - val_loss: 33799.1816 - val_mean_squared_error: 33799.1816 - val_mean_absolute_error: 142.6356\n",
            "Epoch 21/100\n",
            "13903/13903 [==============================] - 0s 31us/step - loss: 33313.6457 - mean_squared_error: 33313.6457 - mean_absolute_error: 142.3106 - val_loss: 33824.0087 - val_mean_squared_error: 33824.0087 - val_mean_absolute_error: 142.3652\n",
            "Epoch 22/100\n",
            "13903/13903 [==============================] - 0s 31us/step - loss: 33350.7901 - mean_squared_error: 33350.7901 - mean_absolute_error: 142.2463 - val_loss: 33812.6859 - val_mean_squared_error: 33812.6859 - val_mean_absolute_error: 142.3836\n",
            "Epoch 23/100\n",
            "13903/13903 [==============================] - 0s 32us/step - loss: 33372.8318 - mean_squared_error: 33372.8318 - mean_absolute_error: 142.5304 - val_loss: 33781.7006 - val_mean_squared_error: 33781.7006 - val_mean_absolute_error: 142.5805\n",
            "Epoch 24/100\n",
            "13903/13903 [==============================] - 0s 32us/step - loss: 33362.3684 - mean_squared_error: 33362.3684 - mean_absolute_error: 142.4562 - val_loss: 33786.8534 - val_mean_squared_error: 33786.8534 - val_mean_absolute_error: 142.5126\n",
            "Epoch 25/100\n",
            "13903/13903 [==============================] - 0s 31us/step - loss: 33410.8432 - mean_squared_error: 33410.8432 - mean_absolute_error: 142.7081 - val_loss: 33776.8272 - val_mean_squared_error: 33776.8272 - val_mean_absolute_error: 142.5816\n",
            "Epoch 26/100\n",
            "13903/13903 [==============================] - 0s 32us/step - loss: 33442.3959 - mean_squared_error: 33442.3959 - mean_absolute_error: 142.5790 - val_loss: 33788.0909 - val_mean_squared_error: 33788.0909 - val_mean_absolute_error: 142.4514\n",
            "Epoch 27/100\n",
            "13903/13903 [==============================] - 0s 31us/step - loss: 33343.7420 - mean_squared_error: 33343.7420 - mean_absolute_error: 142.3516 - val_loss: 33777.3320 - val_mean_squared_error: 33777.3320 - val_mean_absolute_error: 142.5225\n",
            "Epoch 28/100\n",
            "13903/13903 [==============================] - 0s 32us/step - loss: 33213.3187 - mean_squared_error: 33213.3187 - mean_absolute_error: 142.0771 - val_loss: 33770.7625 - val_mean_squared_error: 33770.7625 - val_mean_absolute_error: 142.5744\n",
            "Epoch 29/100\n",
            "13903/13903 [==============================] - 0s 31us/step - loss: 33574.5031 - mean_squared_error: 33574.5031 - mean_absolute_error: 142.9072 - val_loss: 33774.9922 - val_mean_squared_error: 33774.9922 - val_mean_absolute_error: 142.5117\n",
            "Epoch 30/100\n",
            "13903/13903 [==============================] - 0s 32us/step - loss: 33274.9606 - mean_squared_error: 33274.9606 - mean_absolute_error: 142.2144 - val_loss: 33782.6078 - val_mean_squared_error: 33782.6078 - val_mean_absolute_error: 142.4316\n",
            "Epoch 31/100\n",
            "13903/13903 [==============================] - 0s 31us/step - loss: 33338.6216 - mean_squared_error: 33338.6216 - mean_absolute_error: 142.4951 - val_loss: 33770.2339 - val_mean_squared_error: 33770.2339 - val_mean_absolute_error: 142.5261\n",
            "Epoch 32/100\n",
            "13903/13903 [==============================] - 0s 31us/step - loss: 33348.7541 - mean_squared_error: 33348.7541 - mean_absolute_error: 142.4704 - val_loss: 33768.2973 - val_mean_squared_error: 33768.2973 - val_mean_absolute_error: 142.5194\n",
            "Epoch 33/100\n",
            "13903/13903 [==============================] - 0s 31us/step - loss: 33429.2893 - mean_squared_error: 33429.2893 - mean_absolute_error: 142.7345 - val_loss: 33760.3559 - val_mean_squared_error: 33760.3559 - val_mean_absolute_error: 142.5879\n",
            "Epoch 34/100\n",
            "13903/13903 [==============================] - 0s 31us/step - loss: 33418.5100 - mean_squared_error: 33418.5100 - mean_absolute_error: 142.6838 - val_loss: 33773.7743 - val_mean_squared_error: 33773.7743 - val_mean_absolute_error: 142.4546\n",
            "Epoch 35/100\n",
            "13903/13903 [==============================] - 0s 32us/step - loss: 33467.1240 - mean_squared_error: 33467.1240 - mean_absolute_error: 142.4374 - val_loss: 33770.2590 - val_mean_squared_error: 33770.2590 - val_mean_absolute_error: 142.4779\n",
            "Epoch 36/100\n",
            "13903/13903 [==============================] - 0s 32us/step - loss: 33390.7857 - mean_squared_error: 33390.7857 - mean_absolute_error: 142.6352 - val_loss: 33781.2632 - val_mean_squared_error: 33781.2632 - val_mean_absolute_error: 142.3879\n",
            "Epoch 37/100\n",
            "13903/13903 [==============================] - 0s 34us/step - loss: 33420.9149 - mean_squared_error: 33420.9149 - mean_absolute_error: 142.6004 - val_loss: 33783.4716 - val_mean_squared_error: 33783.4716 - val_mean_absolute_error: 142.3738\n",
            "Epoch 38/100\n",
            "13903/13903 [==============================] - 0s 32us/step - loss: 33490.8746 - mean_squared_error: 33490.8746 - mean_absolute_error: 142.5797 - val_loss: 33787.5515 - val_mean_squared_error: 33787.5515 - val_mean_absolute_error: 142.3428\n",
            "Epoch 39/100\n",
            "13903/13903 [==============================] - 0s 31us/step - loss: 33262.0991 - mean_squared_error: 33262.0991 - mean_absolute_error: 142.2629 - val_loss: 33770.7907 - val_mean_squared_error: 33770.7907 - val_mean_absolute_error: 142.4750\n",
            "Epoch 40/100\n",
            "13903/13903 [==============================] - 0s 31us/step - loss: 33364.8363 - mean_squared_error: 33364.8363 - mean_absolute_error: 142.2580 - val_loss: 33760.8034 - val_mean_squared_error: 33760.8034 - val_mean_absolute_error: 142.5586\n",
            "Epoch 41/100\n",
            "13903/13903 [==============================] - 0s 31us/step - loss: 33363.3288 - mean_squared_error: 33363.3288 - mean_absolute_error: 142.4538 - val_loss: 33755.9120 - val_mean_squared_error: 33755.9120 - val_mean_absolute_error: 142.5967\n",
            "Epoch 42/100\n",
            "13903/13903 [==============================] - 0s 31us/step - loss: 33351.8501 - mean_squared_error: 33351.8501 - mean_absolute_error: 142.5270 - val_loss: 33779.0497 - val_mean_squared_error: 33779.0497 - val_mean_absolute_error: 142.3980\n",
            "Epoch 43/100\n",
            "13903/13903 [==============================] - 0s 31us/step - loss: 33411.6656 - mean_squared_error: 33411.6656 - mean_absolute_error: 142.1299 - val_loss: 33776.2847 - val_mean_squared_error: 33776.2847 - val_mean_absolute_error: 142.4203\n",
            "Epoch 44/100\n",
            "13903/13903 [==============================] - 0s 31us/step - loss: 33402.4073 - mean_squared_error: 33402.4073 - mean_absolute_error: 142.6071 - val_loss: 33769.5664 - val_mean_squared_error: 33769.5664 - val_mean_absolute_error: 142.4866\n",
            "Epoch 45/100\n",
            "13903/13903 [==============================] - 0s 31us/step - loss: 33358.4760 - mean_squared_error: 33358.4760 - mean_absolute_error: 142.7401 - val_loss: 33774.2419 - val_mean_squared_error: 33774.2419 - val_mean_absolute_error: 142.4469\n",
            "Epoch 46/100\n",
            "13903/13903 [==============================] - 0s 31us/step - loss: 33456.8283 - mean_squared_error: 33456.8283 - mean_absolute_error: 142.3512 - val_loss: 33774.7114 - val_mean_squared_error: 33774.7114 - val_mean_absolute_error: 142.4339\n",
            "Epoch 47/100\n",
            "13903/13903 [==============================] - 0s 31us/step - loss: 33350.7289 - mean_squared_error: 33350.7289 - mean_absolute_error: 142.7111 - val_loss: 33784.2426 - val_mean_squared_error: 33784.2426 - val_mean_absolute_error: 142.3735\n",
            "Epoch 48/100\n",
            "13903/13903 [==============================] - 0s 31us/step - loss: 33140.4991 - mean_squared_error: 33140.4991 - mean_absolute_error: 141.9886 - val_loss: 33767.1102 - val_mean_squared_error: 33767.1102 - val_mean_absolute_error: 142.5160\n",
            "Epoch 49/100\n",
            "13903/13903 [==============================] - 0s 31us/step - loss: 33405.1113 - mean_squared_error: 33405.1113 - mean_absolute_error: 142.5631 - val_loss: 33768.4862 - val_mean_squared_error: 33768.4862 - val_mean_absolute_error: 142.5167\n",
            "Epoch 50/100\n",
            "13903/13903 [==============================] - 0s 33us/step - loss: 33354.5131 - mean_squared_error: 33354.5131 - mean_absolute_error: 142.6179 - val_loss: 33769.0452 - val_mean_squared_error: 33769.0452 - val_mean_absolute_error: 142.5257\n",
            "Epoch 51/100\n",
            "13903/13903 [==============================] - 0s 32us/step - loss: 33297.6549 - mean_squared_error: 33297.6549 - mean_absolute_error: 142.3052 - val_loss: 33779.0706 - val_mean_squared_error: 33779.0706 - val_mean_absolute_error: 142.4315\n"
          ],
          "name": "stdout"
        }
      ]
    },
    {
      "cell_type": "code",
      "metadata": {
        "id": "Lm1mCYfGzsEN",
        "colab_type": "code",
        "outputId": "2625e013-ed67-4b0e-dacc-ff898c327a06",
        "colab": {
          "base_uri": "https://localhost:8080/",
          "height": 313
        }
      },
      "source": [
        "# Plot results\n",
        "print(history.history.keys())\n",
        "# \"Loss\"\n",
        "plt.plot(history.history['loss'])\n",
        "plt.plot(history.history['val_loss'])\n",
        "plt.title('model loss')\n",
        "plt.ylabel('loss')\n",
        "plt.xlabel('epoch')\n",
        "plt.legend(['train', 'validation'], loc='upper left')\n",
        "plt.show()"
      ],
      "execution_count": 148,
      "outputs": [
        {
          "output_type": "stream",
          "text": [
            "dict_keys(['val_loss', 'val_mean_squared_error', 'val_mean_absolute_error', 'loss', 'mean_squared_error', 'mean_absolute_error'])\n"
          ],
          "name": "stdout"
        },
        {
          "output_type": "display_data",
          "data": {
            "image/png": "[encoded data removed]",
            "text/plain": [
              "<Figure size 432x288 with 1 Axes>"
            ]
          },
          "metadata": {
            "tags": []
          }
        }
      ]
    },
    {
      "cell_type": "code",
      "metadata": {
        "id": "8S1MsqX3DU0K",
        "colab_type": "code",
        "colab": {}
      },
      "source": [
        ""
      ],
      "execution_count": 0,
      "outputs": []
    }
  ]
}