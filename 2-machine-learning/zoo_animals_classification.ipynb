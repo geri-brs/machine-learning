{
  "nbformat": 4,
  "nbformat_minor": 0,
  "metadata": {
    "colab": {
      "name": "zoo_animals_classification.ipynb",
      "version": "0.3.2",
      "provenance": [],
      "collapsed_sections": []
    },
    "kernelspec": {
      "name": "python3",
      "display_name": "Python 3"
    }
  },
  "cells": [
    {
      "cell_type": "code",
      "metadata": {
        "id": "KMXiAByYSClP",
        "colab_type": "code",
        "colab": {}
      },
      "source": [
        "# %matplotlib inline\n",
        "import numpy\n",
        "import pandas            as pd\n",
        "import matplotlib.pyplot as plt\n",
        "import tensorflow        as tf\n",
        "from   tensorflow                 import keras\n",
        "from   tensorflow.keras           import layers\n",
        "from   tensorflow.keras.callbacks import EarlyStopping\n",
        "from   sklearn.preprocessing      import LabelEncoder, OneHotEncoder\n",
        "from   sklearn.model_selection    import train_test_split\n",
        "from   sklearn.ensemble           import ExtraTreesClassifier"
      ],
      "execution_count": 0,
      "outputs": []
    },
    {
      "cell_type": "code",
      "metadata": {
        "id": "_kzQkWMgSawX",
        "colab_type": "code",
        "outputId": "b657b128-b701-4a88-d512-1d2c498b7279",
        "colab": {
          "resources": {
            "http://localhost:8080/nbextensions/google.colab/files.js": {
              "data": "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",
              "ok": true,
              "headers": [
                [
                  "content-type",
                  "application/javascript"
                ]
              ],
              "status": 200,
              "status_text": ""
            }
          },
          "base_uri": "https://localhost:8080/",
          "height": 75
        }
      },
      "source": [
        "# Upload dataset\n",
        "from google.colab import files\n",
        "uploaded = files.upload()"
      ],
      "execution_count": 0,
      "outputs": [
        {
          "output_type": "display_data",
          "data": {
            "text/html": [
              "\n",
              "     <input type=\"file\" id=\"files-dae25543-28d6-4f3f-b121-5b41b5897ef4\" name=\"files[]\" multiple disabled />\n",
              "     <output id=\"result-dae25543-28d6-4f3f-b121-5b41b5897ef4\">\n",
              "      Upload widget is only available when the cell has been executed in the\n",
              "      current browser session. Please rerun this cell to enable.\n",
              "      </output>\n",
              "      <script src=\"/nbextensions/google.colab/files.js\"></script> "
            ],
            "text/plain": [
              "<IPython.core.display.HTML object>"
            ]
          },
          "metadata": {
            "tags": []
          }
        },
        {
          "output_type": "stream",
          "text": [
            "Saving zoo.csv to zoo.csv\n"
          ],
          "name": "stdout"
        }
      ]
    },
    {
      "cell_type": "code",
      "metadata": {
        "id": "SuuUzZSJSjJg",
        "colab_type": "code",
        "outputId": "22b10d7c-e144-46dd-feca-6f65b5c0568b",
        "colab": {
          "base_uri": "https://localhost:8080/",
          "height": 71
        }
      },
      "source": [
        "print(\"Versions:\")\n",
        "print(\"Tensorflow:\", tf.VERSION)\n",
        "# 1.14.0-rc1\n",
        "print(\"Keras: \", tf.keras.__version__)\n",
        "#2.2.4-tf"
      ],
      "execution_count": 282,
      "outputs": [
        {
          "output_type": "stream",
          "text": [
            "Versions:\n",
            "Tensorflow: 1.14.0\n",
            "Keras:  2.2.4-tf\n"
          ],
          "name": "stdout"
        }
      ]
    },
    {
      "cell_type": "code",
      "metadata": {
        "id": "Lt2I-2udSlDd",
        "colab_type": "code",
        "colab": {}
      },
      "source": [
        "# Load iris dataset\n",
        "path = \"./zoo.csv\"\n",
        "dataset = pd.read_csv(path)"
      ],
      "execution_count": 0,
      "outputs": []
    },
    {
      "cell_type": "code",
      "metadata": {
        "id": "9apQKIBbSn_G",
        "colab_type": "code",
        "outputId": "8cda4d3d-d944-4f2c-e852-7e83b1e64237",
        "colab": {
          "base_uri": "https://localhost:8080/",
          "height": 224
        }
      },
      "source": [
        "dataset.head()"
      ],
      "execution_count": 287,
      "outputs": [
        {
          "output_type": "execute_result",
          "data": {
            "text/html": [
              "<div>\n",
              "<style scoped>\n",
              "    .dataframe tbody tr th:only-of-type {\n",
              "        vertical-align: middle;\n",
              "    }\n",
              "\n",
              "    .dataframe tbody tr th {\n",
              "        vertical-align: top;\n",
              "    }\n",
              "\n",
              "    .dataframe thead th {\n",
              "        text-align: right;\n",
              "    }\n",
              "</style>\n",
              "<table border=\"1\" class=\"dataframe\">\n",
              "  <thead>\n",
              "    <tr style=\"text-align: right;\">\n",
              "      <th></th>\n",
              "      <th>animal_name</th>\n",
              "      <th>hair</th>\n",
              "      <th>feathers</th>\n",
              "      <th>eggs</th>\n",
              "      <th>milk</th>\n",
              "      <th>airborne</th>\n",
              "      <th>aquatic</th>\n",
              "      <th>predator</th>\n",
              "      <th>toothed</th>\n",
              "      <th>backbone</th>\n",
              "      <th>breathes</th>\n",
              "      <th>venomous</th>\n",
              "      <th>fins</th>\n",
              "      <th>legs</th>\n",
              "      <th>tail</th>\n",
              "      <th>domestic</th>\n",
              "      <th>catsize</th>\n",
              "      <th>class_type</th>\n",
              "    </tr>\n",
              "  </thead>\n",
              "  <tbody>\n",
              "    <tr>\n",
              "      <th>0</th>\n",
              "      <td>aardvark</td>\n",
              "      <td>1</td>\n",
              "      <td>0</td>\n",
              "      <td>0</td>\n",
              "      <td>1</td>\n",
              "      <td>0</td>\n",
              "      <td>0</td>\n",
              "      <td>1</td>\n",
              "      <td>1</td>\n",
              "      <td>1</td>\n",
              "      <td>1</td>\n",
              "      <td>0</td>\n",
              "      <td>0</td>\n",
              "      <td>4</td>\n",
              "      <td>0</td>\n",
              "      <td>0</td>\n",
              "      <td>1</td>\n",
              "      <td>1</td>\n",
              "    </tr>\n",
              "    <tr>\n",
              "      <th>1</th>\n",
              "      <td>antelope</td>\n",
              "      <td>1</td>\n",
              "      <td>0</td>\n",
              "      <td>0</td>\n",
              "      <td>1</td>\n",
              "      <td>0</td>\n",
              "      <td>0</td>\n",
              "      <td>0</td>\n",
              "      <td>1</td>\n",
              "      <td>1</td>\n",
              "      <td>1</td>\n",
              "      <td>0</td>\n",
              "      <td>0</td>\n",
              "      <td>4</td>\n",
              "      <td>1</td>\n",
              "      <td>0</td>\n",
              "      <td>1</td>\n",
              "      <td>1</td>\n",
              "    </tr>\n",
              "    <tr>\n",
              "      <th>2</th>\n",
              "      <td>bass</td>\n",
              "      <td>0</td>\n",
              "      <td>0</td>\n",
              "      <td>1</td>\n",
              "      <td>0</td>\n",
              "      <td>0</td>\n",
              "      <td>1</td>\n",
              "      <td>1</td>\n",
              "      <td>1</td>\n",
              "      <td>1</td>\n",
              "      <td>0</td>\n",
              "      <td>0</td>\n",
              "      <td>1</td>\n",
              "      <td>0</td>\n",
              "      <td>1</td>\n",
              "      <td>0</td>\n",
              "      <td>0</td>\n",
              "      <td>4</td>\n",
              "    </tr>\n",
              "    <tr>\n",
              "      <th>3</th>\n",
              "      <td>bear</td>\n",
              "      <td>1</td>\n",
              "      <td>0</td>\n",
              "      <td>0</td>\n",
              "      <td>1</td>\n",
              "      <td>0</td>\n",
              "      <td>0</td>\n",
              "      <td>1</td>\n",
              "      <td>1</td>\n",
              "      <td>1</td>\n",
              "      <td>1</td>\n",
              "      <td>0</td>\n",
              "      <td>0</td>\n",
              "      <td>4</td>\n",
              "      <td>0</td>\n",
              "      <td>0</td>\n",
              "      <td>1</td>\n",
              "      <td>1</td>\n",
              "    </tr>\n",
              "    <tr>\n",
              "      <th>4</th>\n",
              "      <td>boar</td>\n",
              "      <td>1</td>\n",
              "      <td>0</td>\n",
              "      <td>0</td>\n",
              "      <td>1</td>\n",
              "      <td>0</td>\n",
              "      <td>0</td>\n",
              "      <td>1</td>\n",
              "      <td>1</td>\n",
              "      <td>1</td>\n",
              "      <td>1</td>\n",
              "      <td>0</td>\n",
              "      <td>0</td>\n",
              "      <td>4</td>\n",
              "      <td>1</td>\n",
              "      <td>0</td>\n",
              "      <td>1</td>\n",
              "      <td>1</td>\n",
              "    </tr>\n",
              "  </tbody>\n",
              "</table>\n",
              "</div>"
            ],
            "text/plain": [
              "  animal_name  hair  feathers  eggs  ...  tail  domestic  catsize  class_type\n",
              "0    aardvark     1         0     0  ...     0         0        1           1\n",
              "1    antelope     1         0     0  ...     1         0        1           1\n",
              "2        bass     0         0     1  ...     1         0        0           4\n",
              "3        bear     1         0     0  ...     0         0        1           1\n",
              "4        boar     1         0     0  ...     1         0        1           1\n",
              "\n",
              "[5 rows x 18 columns]"
            ]
          },
          "metadata": {
            "tags": []
          },
          "execution_count": 287
        }
      ]
    },
    {
      "cell_type": "code",
      "metadata": {
        "id": "ZW-KVXJvv-Ou",
        "colab_type": "code",
        "colab": {}
      },
      "source": [
        "y = dataset[\"class_type\"]\n",
        "\n",
        "# Remove unnecessary columns\n",
        "del dataset[\"animal_name\"]\n",
        "del dataset[\"class_type\"]\n",
        "del dataset[\"catsize\"]\n",
        "del dataset[\"domestic\"]"
      ],
      "execution_count": 0,
      "outputs": []
    },
    {
      "cell_type": "code",
      "metadata": {
        "id": "DYEwIWEyv8V-",
        "colab_type": "code",
        "colab": {
          "base_uri": "https://localhost:8080/",
          "height": 343
        },
        "outputId": "99d738f2-f2a8-456a-bb6d-7d0e68ea6ff0"
      },
      "source": [
        "# Feature selection (feature importance)\n",
        "print(dataset.shape)\n",
        "\n",
        "X = pd.DataFrame.copy(dataset)\n",
        "model = ExtraTreesClassifier()\n",
        "model.fit(X,y)\n",
        "\n",
        "feat_importances = pd.Series(model.feature_importances_, index=X.columns)\n",
        "feat_importances.nlargest(25).plot(kind='barh')\n",
        "plt.show()"
      ],
      "execution_count": 289,
      "outputs": [
        {
          "output_type": "stream",
          "text": [
            "(101, 14)\n"
          ],
          "name": "stdout"
        },
        {
          "output_type": "stream",
          "text": [
            "/usr/local/lib/python3.6/dist-packages/sklearn/ensemble/forest.py:245: FutureWarning: The default value of n_estimators will change from 10 in version 0.20 to 100 in 0.22.\n",
            "  \"10 in version 0.20 to 100 in 0.22.\", FutureWarning)\n"
          ],
          "name": "stderr"
        },
        {
          "output_type": "display_data",
          "data": {
            "image/png": "[encoded data removed]",
            "text/plain": [
              "<Figure size 432x288 with 1 Axes>"
            ]
          },
          "metadata": {
            "tags": []
          }
        }
      ]
    },
    {
      "cell_type": "code",
      "metadata": {
        "id": "rfHfcPeMS-sA",
        "colab_type": "code",
        "colab": {}
      },
      "source": [
        "# Generate dummy columns\n",
        "def generate_dummies(df, dummy_column):\n",
        "    dummies = pd.get_dummies(df[dummy_column], prefix=dummy_column)\n",
        "    df = pd.concat([df, dummies], axis=1)\n",
        "    return df\n",
        "  \n",
        "X = generate_dummies(X, \"legs\")\n",
        "\n",
        "del X[\"legs\"]"
      ],
      "execution_count": 0,
      "outputs": []
    },
    {
      "cell_type": "code",
      "metadata": {
        "id": "FmbII7atTj8I",
        "colab_type": "code",
        "outputId": "0b0ac263-b20a-4669-b8f5-d20087884bcf",
        "colab": {
          "base_uri": "https://localhost:8080/",
          "height": 224
        }
      },
      "source": [
        "X.head()"
      ],
      "execution_count": 291,
      "outputs": [
        {
          "output_type": "execute_result",
          "data": {
            "text/html": [
              "<div>\n",
              "<style scoped>\n",
              "    .dataframe tbody tr th:only-of-type {\n",
              "        vertical-align: middle;\n",
              "    }\n",
              "\n",
              "    .dataframe tbody tr th {\n",
              "        vertical-align: top;\n",
              "    }\n",
              "\n",
              "    .dataframe thead th {\n",
              "        text-align: right;\n",
              "    }\n",
              "</style>\n",
              "<table border=\"1\" class=\"dataframe\">\n",
              "  <thead>\n",
              "    <tr style=\"text-align: right;\">\n",
              "      <th></th>\n",
              "      <th>hair</th>\n",
              "      <th>feathers</th>\n",
              "      <th>eggs</th>\n",
              "      <th>milk</th>\n",
              "      <th>airborne</th>\n",
              "      <th>aquatic</th>\n",
              "      <th>predator</th>\n",
              "      <th>toothed</th>\n",
              "      <th>backbone</th>\n",
              "      <th>breathes</th>\n",
              "      <th>venomous</th>\n",
              "      <th>fins</th>\n",
              "      <th>tail</th>\n",
              "      <th>legs_0</th>\n",
              "      <th>legs_2</th>\n",
              "      <th>legs_4</th>\n",
              "      <th>legs_5</th>\n",
              "      <th>legs_6</th>\n",
              "      <th>legs_8</th>\n",
              "    </tr>\n",
              "  </thead>\n",
              "  <tbody>\n",
              "    <tr>\n",
              "      <th>0</th>\n",
              "      <td>1</td>\n",
              "      <td>0</td>\n",
              "      <td>0</td>\n",
              "      <td>1</td>\n",
              "      <td>0</td>\n",
              "      <td>0</td>\n",
              "      <td>1</td>\n",
              "      <td>1</td>\n",
              "      <td>1</td>\n",
              "      <td>1</td>\n",
              "      <td>0</td>\n",
              "      <td>0</td>\n",
              "      <td>0</td>\n",
              "      <td>0</td>\n",
              "      <td>0</td>\n",
              "      <td>1</td>\n",
              "      <td>0</td>\n",
              "      <td>0</td>\n",
              "      <td>0</td>\n",
              "    </tr>\n",
              "    <tr>\n",
              "      <th>1</th>\n",
              "      <td>1</td>\n",
              "      <td>0</td>\n",
              "      <td>0</td>\n",
              "      <td>1</td>\n",
              "      <td>0</td>\n",
              "      <td>0</td>\n",
              "      <td>0</td>\n",
              "      <td>1</td>\n",
              "      <td>1</td>\n",
              "      <td>1</td>\n",
              "      <td>0</td>\n",
              "      <td>0</td>\n",
              "      <td>1</td>\n",
              "      <td>0</td>\n",
              "      <td>0</td>\n",
              "      <td>1</td>\n",
              "      <td>0</td>\n",
              "      <td>0</td>\n",
              "      <td>0</td>\n",
              "    </tr>\n",
              "    <tr>\n",
              "      <th>2</th>\n",
              "      <td>0</td>\n",
              "      <td>0</td>\n",
              "      <td>1</td>\n",
              "      <td>0</td>\n",
              "      <td>0</td>\n",
              "      <td>1</td>\n",
              "      <td>1</td>\n",
              "      <td>1</td>\n",
              "      <td>1</td>\n",
              "      <td>0</td>\n",
              "      <td>0</td>\n",
              "      <td>1</td>\n",
              "      <td>1</td>\n",
              "      <td>1</td>\n",
              "      <td>0</td>\n",
              "      <td>0</td>\n",
              "      <td>0</td>\n",
              "      <td>0</td>\n",
              "      <td>0</td>\n",
              "    </tr>\n",
              "    <tr>\n",
              "      <th>3</th>\n",
              "      <td>1</td>\n",
              "      <td>0</td>\n",
              "      <td>0</td>\n",
              "      <td>1</td>\n",
              "      <td>0</td>\n",
              "      <td>0</td>\n",
              "      <td>1</td>\n",
              "      <td>1</td>\n",
              "      <td>1</td>\n",
              "      <td>1</td>\n",
              "      <td>0</td>\n",
              "      <td>0</td>\n",
              "      <td>0</td>\n",
              "      <td>0</td>\n",
              "      <td>0</td>\n",
              "      <td>1</td>\n",
              "      <td>0</td>\n",
              "      <td>0</td>\n",
              "      <td>0</td>\n",
              "    </tr>\n",
              "    <tr>\n",
              "      <th>4</th>\n",
              "      <td>1</td>\n",
              "      <td>0</td>\n",
              "      <td>0</td>\n",
              "      <td>1</td>\n",
              "      <td>0</td>\n",
              "      <td>0</td>\n",
              "      <td>1</td>\n",
              "      <td>1</td>\n",
              "      <td>1</td>\n",
              "      <td>1</td>\n",
              "      <td>0</td>\n",
              "      <td>0</td>\n",
              "      <td>1</td>\n",
              "      <td>0</td>\n",
              "      <td>0</td>\n",
              "      <td>1</td>\n",
              "      <td>0</td>\n",
              "      <td>0</td>\n",
              "      <td>0</td>\n",
              "    </tr>\n",
              "  </tbody>\n",
              "</table>\n",
              "</div>"
            ],
            "text/plain": [
              "   hair  feathers  eggs  milk  airborne  ...  legs_2  legs_4  legs_5  legs_6  legs_8\n",
              "0     1         0     0     1         0  ...       0       1       0       0       0\n",
              "1     1         0     0     1         0  ...       0       1       0       0       0\n",
              "2     0         0     1     0         0  ...       0       0       0       0       0\n",
              "3     1         0     0     1         0  ...       0       1       0       0       0\n",
              "4     1         0     0     1         0  ...       0       1       0       0       0\n",
              "\n",
              "[5 rows x 19 columns]"
            ]
          },
          "metadata": {
            "tags": []
          },
          "execution_count": 291
        }
      ]
    },
    {
      "cell_type": "code",
      "metadata": {
        "id": "PSSpBjr0f3Hc",
        "colab_type": "code",
        "outputId": "4be48beb-0b8f-4255-feca-ef139261eb85",
        "colab": {
          "base_uri": "https://localhost:8080/",
          "height": 215
        }
      },
      "source": [
        "y.head(10)"
      ],
      "execution_count": 292,
      "outputs": [
        {
          "output_type": "execute_result",
          "data": {
            "text/plain": [
              "0    1\n",
              "1    1\n",
              "2    4\n",
              "3    1\n",
              "4    1\n",
              "5    1\n",
              "6    1\n",
              "7    4\n",
              "8    4\n",
              "9    1\n",
              "Name: class_type, dtype: int64"
            ]
          },
          "metadata": {
            "tags": []
          },
          "execution_count": 292
        }
      ]
    },
    {
      "cell_type": "code",
      "metadata": {
        "id": "TXGsESq2fKAF",
        "colab_type": "code",
        "colab": {}
      },
      "source": [
        "# Change the range of target variables from [1,7] to [0,6]\n",
        "for c, animal_class in enumerate(y):\n",
        "  y[c] = animal_class-1"
      ],
      "execution_count": 0,
      "outputs": []
    },
    {
      "cell_type": "code",
      "metadata": {
        "id": "-yBon7U0fh4d",
        "colab_type": "code",
        "outputId": "29a6217b-f4bb-456e-d4ec-3b29968c64a2",
        "colab": {
          "base_uri": "https://localhost:8080/",
          "height": 215
        }
      },
      "source": [
        "y.head(10)"
      ],
      "execution_count": 294,
      "outputs": [
        {
          "output_type": "execute_result",
          "data": {
            "text/plain": [
              "0    0\n",
              "1    0\n",
              "2    3\n",
              "3    0\n",
              "4    0\n",
              "5    0\n",
              "6    0\n",
              "7    3\n",
              "8    3\n",
              "9    0\n",
              "Name: class_type, dtype: int64"
            ]
          },
          "metadata": {
            "tags": []
          },
          "execution_count": 294
        }
      ]
    },
    {
      "cell_type": "code",
      "metadata": {
        "id": "gitMaP9Ops22",
        "colab_type": "code",
        "colab": {}
      },
      "source": [
        "dimension = X.shape[1]"
      ],
      "execution_count": 0,
      "outputs": []
    },
    {
      "cell_type": "code",
      "metadata": {
        "id": "vQE6fyBdUEM1",
        "colab_type": "code",
        "colab": {}
      },
      "source": [
        "NB_EPOCHS = 150  # num of epochs to test for\n",
        "BATCH_SIZE = dimension"
      ],
      "execution_count": 0,
      "outputs": []
    },
    {
      "cell_type": "code",
      "metadata": {
        "id": "sjnYBvsOVMQl",
        "colab_type": "code",
        "colab": {}
      },
      "source": [
        "# Split the dataset into train and testset\n",
        "TESTSIZE = 0.3\n",
        "X_train, X_test, y_train, y_test = train_test_split(X, y, test_size = TESTSIZE, random_state = 0)"
      ],
      "execution_count": 0,
      "outputs": []
    },
    {
      "cell_type": "code",
      "metadata": {
        "id": "Z80zjYLfT77S",
        "colab_type": "code",
        "colab": {}
      },
      "source": [
        "# Ensure that fieldnames aren't included\n",
        "X_train = X_train.values\n",
        "y_train = y_train.values\n",
        "X_test  = X_test.values\n",
        "y_test  = y_test.values"
      ],
      "execution_count": 0,
      "outputs": []
    },
    {
      "cell_type": "code",
      "metadata": {
        "id": "trJArjIIUYFN",
        "colab_type": "code",
        "colab": {
          "base_uri": "https://localhost:8080/",
          "height": 269
        },
        "outputId": "c191dcb7-2598-4c68-d4a4-9ca4f0fc1cc7"
      },
      "source": [
        "# Create our model\n",
        "model = tf.keras.Sequential()\n",
        "model.add(layers.Dense(dimension+2, input_dim = dimension, activation='elu'))\n",
        "model.add(layers.Dense(dimension+2, input_dim = dimension, activation='elu'))\n",
        "model.add(layers.Dense(7,           input_dim = dimension, activation='sigmoid'))\n",
        "\n",
        "model.summary()"
      ],
      "execution_count": 318,
      "outputs": [
        {
          "output_type": "stream",
          "text": [
            "Model: \"sequential_20\"\n",
            "_________________________________________________________________\n",
            "Layer (type)                 Output Shape              Param #   \n",
            "=================================================================\n",
            "dense_56 (Dense)             (None, 21)                420       \n",
            "_________________________________________________________________\n",
            "dense_57 (Dense)             (None, 21)                462       \n",
            "_________________________________________________________________\n",
            "dense_58 (Dense)             (None, 7)                 154       \n",
            "=================================================================\n",
            "Total params: 1,036\n",
            "Trainable params: 1,036\n",
            "Non-trainable params: 0\n",
            "_________________________________________________________________\n"
          ],
          "name": "stdout"
        }
      ]
    },
    {
      "cell_type": "code",
      "metadata": {
        "id": "0bcDWa_vdavJ",
        "colab_type": "code",
        "colab": {}
      },
      "source": [
        "# Compile the model\n",
        "model.compile(loss='sparse_categorical_crossentropy', \n",
        "              optimizer='adam',\n",
        "              metrics=['accuracy'])"
      ],
      "execution_count": 0,
      "outputs": []
    },
    {
      "cell_type": "code",
      "metadata": {
        "id": "XtU1TccNVeRP",
        "colab_type": "code",
        "outputId": "a4555e72-b622-419f-a4f0-12f88878bdb7",
        "colab": {
          "base_uri": "https://localhost:8080/",
          "height": 1000
        }
      },
      "source": [
        "#set early stopping monitor so the model stops training when it won't improve anymore\n",
        "early_stopping_monitor = EarlyStopping(patience=10)\n",
        "\n",
        "# Train the model, store the results for plotting\n",
        "print('Training...')\n",
        "history = model.fit(X_train,\n",
        "                    y_train,\n",
        "                    validation_data = (X_test, y_test),\n",
        "                    nb_epoch        = NB_EPOCHS,\n",
        "                    batch_size      = BATCH_SIZE,\n",
        "                    callbacks       = [early_stopping_monitor],\n",
        "                    verbose         = 1)"
      ],
      "execution_count": 320,
      "outputs": [
        {
          "output_type": "stream",
          "text": [
            "W0711 22:51:55.307066 139970760935296 training.py:593] The `nb_epoch` argument in `fit` has been renamed `epochs`.\n"
          ],
          "name": "stderr"
        },
        {
          "output_type": "stream",
          "text": [
            "Training...\n",
            "Train on 70 samples, validate on 31 samples\n",
            "Epoch 1/150\n",
            "70/70 [==============================] - 0s 6ms/sample - loss: 2.0554 - acc: 0.0143 - val_loss: 1.9672 - val_acc: 0.0000e+00\n",
            "Epoch 2/150\n",
            "70/70 [==============================] - 0s 277us/sample - loss: 1.9783 - acc: 0.0143 - val_loss: 1.9090 - val_acc: 0.0645\n",
            "Epoch 3/150\n",
            "70/70 [==============================] - 0s 223us/sample - loss: 1.9099 - acc: 0.1143 - val_loss: 1.8560 - val_acc: 0.1290\n",
            "Epoch 4/150\n",
            "70/70 [==============================] - 0s 274us/sample - loss: 1.8537 - acc: 0.2571 - val_loss: 1.8095 - val_acc: 0.3871\n",
            "Epoch 5/150\n",
            "70/70 [==============================] - 0s 296us/sample - loss: 1.7991 - acc: 0.5000 - val_loss: 1.7672 - val_acc: 0.4839\n",
            "Epoch 6/150\n",
            "70/70 [==============================] - 0s 249us/sample - loss: 1.7525 - acc: 0.5857 - val_loss: 1.7291 - val_acc: 0.5161\n",
            "Epoch 7/150\n",
            "70/70 [==============================] - 0s 212us/sample - loss: 1.7108 - acc: 0.5857 - val_loss: 1.6933 - val_acc: 0.5161\n",
            "Epoch 8/150\n",
            "70/70 [==============================] - 0s 249us/sample - loss: 1.6715 - acc: 0.5857 - val_loss: 1.6593 - val_acc: 0.5161\n",
            "Epoch 9/150\n",
            "70/70 [==============================] - 0s 234us/sample - loss: 1.6341 - acc: 0.5857 - val_loss: 1.6276 - val_acc: 0.5161\n",
            "Epoch 10/150\n",
            "70/70 [==============================] - 0s 242us/sample - loss: 1.5998 - acc: 0.5857 - val_loss: 1.5968 - val_acc: 0.5161\n",
            "Epoch 11/150\n",
            "70/70 [==============================] - 0s 283us/sample - loss: 1.5653 - acc: 0.5857 - val_loss: 1.5659 - val_acc: 0.5161\n",
            "Epoch 12/150\n",
            "70/70 [==============================] - 0s 330us/sample - loss: 1.5318 - acc: 0.5857 - val_loss: 1.5346 - val_acc: 0.5161\n",
            "Epoch 13/150\n",
            "70/70 [==============================] - 0s 278us/sample - loss: 1.4978 - acc: 0.5857 - val_loss: 1.5028 - val_acc: 0.5161\n",
            "Epoch 14/150\n",
            "70/70 [==============================] - 0s 266us/sample - loss: 1.4650 - acc: 0.5857 - val_loss: 1.4720 - val_acc: 0.5161\n",
            "Epoch 15/150\n",
            "70/70 [==============================] - 0s 240us/sample - loss: 1.4303 - acc: 0.6143 - val_loss: 1.4410 - val_acc: 0.5161\n",
            "Epoch 16/150\n",
            "70/70 [==============================] - 0s 281us/sample - loss: 1.3968 - acc: 0.6143 - val_loss: 1.4096 - val_acc: 0.5161\n",
            "Epoch 17/150\n",
            "70/70 [==============================] - 0s 252us/sample - loss: 1.3649 - acc: 0.6143 - val_loss: 1.3768 - val_acc: 0.5161\n",
            "Epoch 18/150\n",
            "70/70 [==============================] - 0s 265us/sample - loss: 1.3294 - acc: 0.6143 - val_loss: 1.3446 - val_acc: 0.5161\n",
            "Epoch 19/150\n",
            "70/70 [==============================] - 0s 294us/sample - loss: 1.2961 - acc: 0.6143 - val_loss: 1.3121 - val_acc: 0.5161\n",
            "Epoch 20/150\n",
            "70/70 [==============================] - 0s 291us/sample - loss: 1.2602 - acc: 0.6143 - val_loss: 1.2790 - val_acc: 0.5161\n",
            "Epoch 21/150\n",
            "70/70 [==============================] - 0s 316us/sample - loss: 1.2237 - acc: 0.6286 - val_loss: 1.2460 - val_acc: 0.5484\n",
            "Epoch 22/150\n",
            "70/70 [==============================] - 0s 306us/sample - loss: 1.1879 - acc: 0.6429 - val_loss: 1.2120 - val_acc: 0.5806\n",
            "Epoch 23/150\n",
            "70/70 [==============================] - 0s 272us/sample - loss: 1.1503 - acc: 0.6429 - val_loss: 1.1757 - val_acc: 0.6129\n",
            "Epoch 24/150\n",
            "70/70 [==============================] - 0s 214us/sample - loss: 1.1137 - acc: 0.6429 - val_loss: 1.1396 - val_acc: 0.6129\n",
            "Epoch 25/150\n",
            "70/70 [==============================] - 0s 298us/sample - loss: 1.0751 - acc: 0.6429 - val_loss: 1.1032 - val_acc: 0.6452\n",
            "Epoch 26/150\n",
            "70/70 [==============================] - 0s 307us/sample - loss: 1.0379 - acc: 0.6714 - val_loss: 1.0670 - val_acc: 0.6452\n",
            "Epoch 27/150\n",
            "70/70 [==============================] - 0s 298us/sample - loss: 1.0005 - acc: 0.6714 - val_loss: 1.0325 - val_acc: 0.6452\n",
            "Epoch 28/150\n",
            "70/70 [==============================] - 0s 288us/sample - loss: 0.9646 - acc: 0.6714 - val_loss: 0.9975 - val_acc: 0.7419\n",
            "Epoch 29/150\n",
            "70/70 [==============================] - 0s 274us/sample - loss: 0.9290 - acc: 0.6857 - val_loss: 0.9639 - val_acc: 0.7419\n",
            "Epoch 30/150\n",
            "70/70 [==============================] - 0s 242us/sample - loss: 0.8955 - acc: 0.6857 - val_loss: 0.9302 - val_acc: 0.7419\n",
            "Epoch 31/150\n",
            "70/70 [==============================] - 0s 256us/sample - loss: 0.8628 - acc: 0.7000 - val_loss: 0.8977 - val_acc: 0.7742\n",
            "Epoch 32/150\n",
            "70/70 [==============================] - 0s 245us/sample - loss: 0.8303 - acc: 0.7429 - val_loss: 0.8651 - val_acc: 0.8710\n",
            "Epoch 33/150\n",
            "70/70 [==============================] - 0s 284us/sample - loss: 0.8005 - acc: 0.8000 - val_loss: 0.8338 - val_acc: 0.8710\n",
            "Epoch 34/150\n",
            "70/70 [==============================] - 0s 277us/sample - loss: 0.7720 - acc: 0.8000 - val_loss: 0.8043 - val_acc: 0.8710\n",
            "Epoch 35/150\n",
            "70/70 [==============================] - 0s 229us/sample - loss: 0.7440 - acc: 0.8000 - val_loss: 0.7762 - val_acc: 0.8710\n",
            "Epoch 36/150\n",
            "70/70 [==============================] - 0s 262us/sample - loss: 0.7183 - acc: 0.8000 - val_loss: 0.7494 - val_acc: 0.8710\n",
            "Epoch 37/150\n",
            "70/70 [==============================] - 0s 305us/sample - loss: 0.6935 - acc: 0.8000 - val_loss: 0.7242 - val_acc: 0.8710\n",
            "Epoch 38/150\n",
            "70/70 [==============================] - 0s 288us/sample - loss: 0.6703 - acc: 0.8000 - val_loss: 0.6998 - val_acc: 0.8710\n",
            "Epoch 39/150\n",
            "70/70 [==============================] - 0s 299us/sample - loss: 0.6470 - acc: 0.8000 - val_loss: 0.6764 - val_acc: 0.8710\n",
            "Epoch 40/150\n",
            "70/70 [==============================] - 0s 245us/sample - loss: 0.6265 - acc: 0.8429 - val_loss: 0.6538 - val_acc: 0.9032\n",
            "Epoch 41/150\n",
            "70/70 [==============================] - 0s 251us/sample - loss: 0.6058 - acc: 0.8429 - val_loss: 0.6324 - val_acc: 0.9032\n",
            "Epoch 42/150\n",
            "70/70 [==============================] - 0s 226us/sample - loss: 0.5842 - acc: 0.8571 - val_loss: 0.6124 - val_acc: 0.9032\n",
            "Epoch 43/150\n",
            "70/70 [==============================] - 0s 239us/sample - loss: 0.5648 - acc: 0.8714 - val_loss: 0.5924 - val_acc: 0.9032\n",
            "Epoch 44/150\n",
            "70/70 [==============================] - 0s 257us/sample - loss: 0.5458 - acc: 0.8714 - val_loss: 0.5732 - val_acc: 0.9032\n",
            "Epoch 45/150\n",
            "70/70 [==============================] - 0s 279us/sample - loss: 0.5279 - acc: 0.8714 - val_loss: 0.5551 - val_acc: 0.9355\n",
            "Epoch 46/150\n",
            "70/70 [==============================] - 0s 284us/sample - loss: 0.5093 - acc: 0.8714 - val_loss: 0.5383 - val_acc: 0.9355\n",
            "Epoch 47/150\n",
            "70/70 [==============================] - 0s 300us/sample - loss: 0.4918 - acc: 0.8714 - val_loss: 0.5221 - val_acc: 0.9355\n",
            "Epoch 48/150\n",
            "70/70 [==============================] - 0s 280us/sample - loss: 0.4747 - acc: 0.8714 - val_loss: 0.5070 - val_acc: 0.9355\n",
            "Epoch 49/150\n",
            "70/70 [==============================] - 0s 248us/sample - loss: 0.4576 - acc: 0.8714 - val_loss: 0.4937 - val_acc: 0.9355\n",
            "Epoch 50/150\n",
            "70/70 [==============================] - 0s 245us/sample - loss: 0.4419 - acc: 0.8714 - val_loss: 0.4799 - val_acc: 0.9355\n",
            "Epoch 51/150\n",
            "70/70 [==============================] - 0s 265us/sample - loss: 0.4266 - acc: 0.8714 - val_loss: 0.4663 - val_acc: 0.9355\n",
            "Epoch 52/150\n",
            "70/70 [==============================] - 0s 237us/sample - loss: 0.4105 - acc: 0.9000 - val_loss: 0.4525 - val_acc: 0.9355\n",
            "Epoch 53/150\n",
            "70/70 [==============================] - 0s 283us/sample - loss: 0.3962 - acc: 0.9286 - val_loss: 0.4392 - val_acc: 0.9355\n",
            "Epoch 54/150\n",
            "70/70 [==============================] - 0s 249us/sample - loss: 0.3818 - acc: 0.9429 - val_loss: 0.4256 - val_acc: 0.9355\n",
            "Epoch 55/150\n",
            "70/70 [==============================] - 0s 296us/sample - loss: 0.3677 - acc: 0.9714 - val_loss: 0.4137 - val_acc: 0.9355\n",
            "Epoch 56/150\n",
            "70/70 [==============================] - 0s 264us/sample - loss: 0.3542 - acc: 0.9714 - val_loss: 0.4015 - val_acc: 0.9355\n",
            "Epoch 57/150\n",
            "70/70 [==============================] - 0s 337us/sample - loss: 0.3411 - acc: 0.9714 - val_loss: 0.3900 - val_acc: 0.9355\n",
            "Epoch 58/150\n",
            "70/70 [==============================] - 0s 431us/sample - loss: 0.3278 - acc: 0.9857 - val_loss: 0.3795 - val_acc: 0.9355\n",
            "Epoch 59/150\n",
            "70/70 [==============================] - 0s 262us/sample - loss: 0.3162 - acc: 0.9857 - val_loss: 0.3678 - val_acc: 0.9355\n",
            "Epoch 60/150\n",
            "70/70 [==============================] - 0s 253us/sample - loss: 0.3042 - acc: 0.9857 - val_loss: 0.3578 - val_acc: 0.9355\n",
            "Epoch 61/150\n",
            "70/70 [==============================] - 0s 266us/sample - loss: 0.2922 - acc: 1.0000 - val_loss: 0.3493 - val_acc: 0.9355\n",
            "Epoch 62/150\n",
            "70/70 [==============================] - 0s 239us/sample - loss: 0.2810 - acc: 1.0000 - val_loss: 0.3405 - val_acc: 0.9355\n",
            "Epoch 63/150\n",
            "70/70 [==============================] - 0s 298us/sample - loss: 0.2706 - acc: 1.0000 - val_loss: 0.3298 - val_acc: 0.9677\n",
            "Epoch 64/150\n",
            "70/70 [==============================] - 0s 261us/sample - loss: 0.2594 - acc: 1.0000 - val_loss: 0.3211 - val_acc: 0.9677\n",
            "Epoch 65/150\n",
            "70/70 [==============================] - 0s 251us/sample - loss: 0.2497 - acc: 1.0000 - val_loss: 0.3133 - val_acc: 0.9677\n",
            "Epoch 66/150\n",
            "70/70 [==============================] - 0s 235us/sample - loss: 0.2397 - acc: 1.0000 - val_loss: 0.3055 - val_acc: 0.9677\n",
            "Epoch 67/150\n",
            "70/70 [==============================] - 0s 279us/sample - loss: 0.2304 - acc: 1.0000 - val_loss: 0.2988 - val_acc: 0.9677\n",
            "Epoch 68/150\n",
            "70/70 [==============================] - 0s 260us/sample - loss: 0.2213 - acc: 1.0000 - val_loss: 0.2925 - val_acc: 0.9677\n",
            "Epoch 69/150\n",
            "70/70 [==============================] - 0s 290us/sample - loss: 0.2138 - acc: 1.0000 - val_loss: 0.2847 - val_acc: 0.9677\n",
            "Epoch 70/150\n",
            "70/70 [==============================] - 0s 241us/sample - loss: 0.2054 - acc: 1.0000 - val_loss: 0.2789 - val_acc: 0.9677\n",
            "Epoch 71/150\n",
            "70/70 [==============================] - 0s 235us/sample - loss: 0.1965 - acc: 1.0000 - val_loss: 0.2735 - val_acc: 0.9677\n",
            "Epoch 72/150\n",
            "70/70 [==============================] - 0s 311us/sample - loss: 0.1894 - acc: 1.0000 - val_loss: 0.2667 - val_acc: 0.9677\n",
            "Epoch 73/150\n",
            "70/70 [==============================] - 0s 226us/sample - loss: 0.1826 - acc: 1.0000 - val_loss: 0.2592 - val_acc: 0.9677\n",
            "Epoch 74/150\n",
            "70/70 [==============================] - 0s 244us/sample - loss: 0.1755 - acc: 1.0000 - val_loss: 0.2533 - val_acc: 0.9677\n",
            "Epoch 75/150\n",
            "70/70 [==============================] - 0s 225us/sample - loss: 0.1688 - acc: 1.0000 - val_loss: 0.2480 - val_acc: 0.9677\n",
            "Epoch 76/150\n",
            "70/70 [==============================] - 0s 220us/sample - loss: 0.1630 - acc: 1.0000 - val_loss: 0.2419 - val_acc: 0.9677\n",
            "Epoch 77/150\n",
            "70/70 [==============================] - 0s 251us/sample - loss: 0.1569 - acc: 1.0000 - val_loss: 0.2374 - val_acc: 0.9677\n",
            "Epoch 78/150\n",
            "70/70 [==============================] - 0s 316us/sample - loss: 0.1512 - acc: 1.0000 - val_loss: 0.2315 - val_acc: 0.9677\n",
            "Epoch 79/150\n",
            "70/70 [==============================] - 0s 265us/sample - loss: 0.1459 - acc: 1.0000 - val_loss: 0.2264 - val_acc: 0.9677\n",
            "Epoch 80/150\n",
            "70/70 [==============================] - 0s 249us/sample - loss: 0.1406 - acc: 1.0000 - val_loss: 0.2232 - val_acc: 0.9677\n",
            "Epoch 81/150\n",
            "70/70 [==============================] - 0s 265us/sample - loss: 0.1359 - acc: 1.0000 - val_loss: 0.2217 - val_acc: 0.9677\n",
            "Epoch 82/150\n",
            "70/70 [==============================] - 0s 241us/sample - loss: 0.1311 - acc: 1.0000 - val_loss: 0.2183 - val_acc: 0.9677\n",
            "Epoch 83/150\n",
            "70/70 [==============================] - 0s 218us/sample - loss: 0.1268 - acc: 1.0000 - val_loss: 0.2143 - val_acc: 0.9677\n",
            "Epoch 84/150\n",
            "70/70 [==============================] - 0s 229us/sample - loss: 0.1224 - acc: 1.0000 - val_loss: 0.2115 - val_acc: 0.9677\n",
            "Epoch 85/150\n",
            "70/70 [==============================] - 0s 272us/sample - loss: 0.1185 - acc: 1.0000 - val_loss: 0.2070 - val_acc: 0.9677\n",
            "Epoch 86/150\n",
            "70/70 [==============================] - 0s 247us/sample - loss: 0.1152 - acc: 1.0000 - val_loss: 0.2027 - val_acc: 0.9677\n",
            "Epoch 87/150\n",
            "70/70 [==============================] - 0s 272us/sample - loss: 0.1115 - acc: 1.0000 - val_loss: 0.2019 - val_acc: 0.9677\n",
            "Epoch 88/150\n",
            "70/70 [==============================] - 0s 255us/sample - loss: 0.1074 - acc: 1.0000 - val_loss: 0.1970 - val_acc: 0.9677\n",
            "Epoch 89/150\n",
            "70/70 [==============================] - 0s 248us/sample - loss: 0.1046 - acc: 1.0000 - val_loss: 0.1936 - val_acc: 0.9677\n",
            "Epoch 90/150\n",
            "70/70 [==============================] - 0s 245us/sample - loss: 0.1011 - acc: 1.0000 - val_loss: 0.1915 - val_acc: 0.9677\n",
            "Epoch 91/150\n",
            "70/70 [==============================] - 0s 226us/sample - loss: 0.0978 - acc: 1.0000 - val_loss: 0.1877 - val_acc: 0.9677\n",
            "Epoch 92/150\n",
            "70/70 [==============================] - 0s 242us/sample - loss: 0.0947 - acc: 1.0000 - val_loss: 0.1854 - val_acc: 0.9677\n",
            "Epoch 93/150\n",
            "70/70 [==============================] - 0s 256us/sample - loss: 0.0920 - acc: 1.0000 - val_loss: 0.1834 - val_acc: 0.9677\n",
            "Epoch 94/150\n",
            "70/70 [==============================] - 0s 263us/sample - loss: 0.0896 - acc: 1.0000 - val_loss: 0.1827 - val_acc: 0.9677\n",
            "Epoch 95/150\n",
            "70/70 [==============================] - 0s 238us/sample - loss: 0.0872 - acc: 1.0000 - val_loss: 0.1831 - val_acc: 0.9677\n",
            "Epoch 96/150\n",
            "70/70 [==============================] - 0s 221us/sample - loss: 0.0845 - acc: 1.0000 - val_loss: 0.1812 - val_acc: 0.9677\n",
            "Epoch 97/150\n",
            "70/70 [==============================] - 0s 247us/sample - loss: 0.0822 - acc: 1.0000 - val_loss: 0.1787 - val_acc: 0.9677\n",
            "Epoch 98/150\n",
            "70/70 [==============================] - 0s 250us/sample - loss: 0.0797 - acc: 1.0000 - val_loss: 0.1752 - val_acc: 0.9677\n",
            "Epoch 99/150\n",
            "70/70 [==============================] - 0s 231us/sample - loss: 0.0778 - acc: 1.0000 - val_loss: 0.1724 - val_acc: 0.9677\n",
            "Epoch 100/150\n",
            "70/70 [==============================] - 0s 320us/sample - loss: 0.0757 - acc: 1.0000 - val_loss: 0.1704 - val_acc: 0.9677\n",
            "Epoch 101/150\n",
            "70/70 [==============================] - 0s 332us/sample - loss: 0.0737 - acc: 1.0000 - val_loss: 0.1692 - val_acc: 0.9677\n",
            "Epoch 102/150\n",
            "70/70 [==============================] - 0s 287us/sample - loss: 0.0718 - acc: 1.0000 - val_loss: 0.1676 - val_acc: 0.9677\n",
            "Epoch 103/150\n",
            "70/70 [==============================] - 0s 267us/sample - loss: 0.0701 - acc: 1.0000 - val_loss: 0.1643 - val_acc: 0.9677\n",
            "Epoch 104/150\n",
            "70/70 [==============================] - 0s 247us/sample - loss: 0.0682 - acc: 1.0000 - val_loss: 0.1630 - val_acc: 0.9677\n",
            "Epoch 105/150\n",
            "70/70 [==============================] - 0s 286us/sample - loss: 0.0667 - acc: 1.0000 - val_loss: 0.1632 - val_acc: 0.9677\n",
            "Epoch 106/150\n",
            "70/70 [==============================] - 0s 284us/sample - loss: 0.0648 - acc: 1.0000 - val_loss: 0.1626 - val_acc: 0.9677\n",
            "Epoch 107/150\n",
            "70/70 [==============================] - 0s 327us/sample - loss: 0.0634 - acc: 1.0000 - val_loss: 0.1617 - val_acc: 0.9677\n",
            "Epoch 108/150\n",
            "70/70 [==============================] - 0s 300us/sample - loss: 0.0620 - acc: 1.0000 - val_loss: 0.1595 - val_acc: 0.9677\n",
            "Epoch 109/150\n",
            "70/70 [==============================] - 0s 325us/sample - loss: 0.0603 - acc: 1.0000 - val_loss: 0.1584 - val_acc: 0.9677\n",
            "Epoch 110/150\n",
            "70/70 [==============================] - 0s 285us/sample - loss: 0.0590 - acc: 1.0000 - val_loss: 0.1584 - val_acc: 0.9677\n",
            "Epoch 111/150\n",
            "70/70 [==============================] - 0s 257us/sample - loss: 0.0575 - acc: 1.0000 - val_loss: 0.1571 - val_acc: 0.9677\n",
            "Epoch 112/150\n",
            "70/70 [==============================] - 0s 256us/sample - loss: 0.0561 - acc: 1.0000 - val_loss: 0.1563 - val_acc: 0.9677\n",
            "Epoch 113/150\n",
            "70/70 [==============================] - 0s 254us/sample - loss: 0.0550 - acc: 1.0000 - val_loss: 0.1569 - val_acc: 0.9677\n",
            "Epoch 114/150\n",
            "70/70 [==============================] - 0s 270us/sample - loss: 0.0537 - acc: 1.0000 - val_loss: 0.1542 - val_acc: 0.9677\n",
            "Epoch 115/150\n",
            "70/70 [==============================] - 0s 231us/sample - loss: 0.0524 - acc: 1.0000 - val_loss: 0.1528 - val_acc: 0.9677\n",
            "Epoch 116/150\n",
            "70/70 [==============================] - 0s 276us/sample - loss: 0.0512 - acc: 1.0000 - val_loss: 0.1519 - val_acc: 0.9677\n",
            "Epoch 117/150\n",
            "70/70 [==============================] - 0s 227us/sample - loss: 0.0501 - acc: 1.0000 - val_loss: 0.1502 - val_acc: 0.9677\n",
            "Epoch 118/150\n",
            "70/70 [==============================] - 0s 319us/sample - loss: 0.0490 - acc: 1.0000 - val_loss: 0.1499 - val_acc: 0.9677\n",
            "Epoch 119/150\n",
            "70/70 [==============================] - 0s 249us/sample - loss: 0.0479 - acc: 1.0000 - val_loss: 0.1500 - val_acc: 0.9677\n",
            "Epoch 120/150\n",
            "70/70 [==============================] - 0s 278us/sample - loss: 0.0468 - acc: 1.0000 - val_loss: 0.1490 - val_acc: 0.9677\n",
            "Epoch 121/150\n",
            "70/70 [==============================] - 0s 285us/sample - loss: 0.0459 - acc: 1.0000 - val_loss: 0.1487 - val_acc: 0.9677\n",
            "Epoch 122/150\n",
            "70/70 [==============================] - 0s 255us/sample - loss: 0.0449 - acc: 1.0000 - val_loss: 0.1476 - val_acc: 0.9677\n",
            "Epoch 123/150\n",
            "70/70 [==============================] - 0s 228us/sample - loss: 0.0441 - acc: 1.0000 - val_loss: 0.1456 - val_acc: 0.9677\n",
            "Epoch 124/150\n",
            "70/70 [==============================] - 0s 263us/sample - loss: 0.0430 - acc: 1.0000 - val_loss: 0.1449 - val_acc: 0.9677\n",
            "Epoch 125/150\n",
            "70/70 [==============================] - 0s 248us/sample - loss: 0.0423 - acc: 1.0000 - val_loss: 0.1456 - val_acc: 0.9677\n",
            "Epoch 126/150\n",
            "70/70 [==============================] - 0s 243us/sample - loss: 0.0413 - acc: 1.0000 - val_loss: 0.1448 - val_acc: 0.9677\n",
            "Epoch 127/150\n",
            "70/70 [==============================] - 0s 237us/sample - loss: 0.0405 - acc: 1.0000 - val_loss: 0.1429 - val_acc: 0.9677\n",
            "Epoch 128/150\n",
            "70/70 [==============================] - 0s 321us/sample - loss: 0.0397 - acc: 1.0000 - val_loss: 0.1426 - val_acc: 0.9677\n",
            "Epoch 129/150\n",
            "70/70 [==============================] - 0s 272us/sample - loss: 0.0389 - acc: 1.0000 - val_loss: 0.1417 - val_acc: 0.9677\n",
            "Epoch 130/150\n",
            "70/70 [==============================] - 0s 271us/sample - loss: 0.0382 - acc: 1.0000 - val_loss: 0.1410 - val_acc: 0.9677\n",
            "Epoch 131/150\n",
            "70/70 [==============================] - 0s 396us/sample - loss: 0.0376 - acc: 1.0000 - val_loss: 0.1408 - val_acc: 0.9677\n",
            "Epoch 132/150\n",
            "70/70 [==============================] - 0s 256us/sample - loss: 0.0367 - acc: 1.0000 - val_loss: 0.1407 - val_acc: 0.9677\n",
            "Epoch 133/150\n",
            "70/70 [==============================] - 0s 255us/sample - loss: 0.0361 - acc: 1.0000 - val_loss: 0.1430 - val_acc: 0.9677\n",
            "Epoch 134/150\n",
            "70/70 [==============================] - 0s 261us/sample - loss: 0.0353 - acc: 1.0000 - val_loss: 0.1430 - val_acc: 0.9677\n",
            "Epoch 135/150\n",
            "70/70 [==============================] - 0s 271us/sample - loss: 0.0347 - acc: 1.0000 - val_loss: 0.1433 - val_acc: 0.9677\n",
            "Epoch 136/150\n",
            "70/70 [==============================] - 0s 272us/sample - loss: 0.0340 - acc: 1.0000 - val_loss: 0.1428 - val_acc: 0.9677\n",
            "Epoch 137/150\n",
            "70/70 [==============================] - 0s 250us/sample - loss: 0.0334 - acc: 1.0000 - val_loss: 0.1416 - val_acc: 0.9677\n",
            "Epoch 138/150\n",
            "70/70 [==============================] - 0s 265us/sample - loss: 0.0327 - acc: 1.0000 - val_loss: 0.1415 - val_acc: 0.9677\n",
            "Epoch 139/150\n",
            "70/70 [==============================] - 0s 250us/sample - loss: 0.0321 - acc: 1.0000 - val_loss: 0.1415 - val_acc: 0.9677\n",
            "Epoch 140/150\n",
            "70/70 [==============================] - 0s 244us/sample - loss: 0.0315 - acc: 1.0000 - val_loss: 0.1418 - val_acc: 0.9677\n",
            "Epoch 141/150\n",
            "70/70 [==============================] - 0s 363us/sample - loss: 0.0311 - acc: 1.0000 - val_loss: 0.1416 - val_acc: 0.9677\n",
            "Epoch 142/150\n",
            "70/70 [==============================] - 0s 268us/sample - loss: 0.0304 - acc: 1.0000 - val_loss: 0.1404 - val_acc: 0.9677\n",
            "Epoch 143/150\n",
            "70/70 [==============================] - 0s 252us/sample - loss: 0.0298 - acc: 1.0000 - val_loss: 0.1396 - val_acc: 0.9677\n",
            "Epoch 144/150\n",
            "70/70 [==============================] - 0s 280us/sample - loss: 0.0292 - acc: 1.0000 - val_loss: 0.1395 - val_acc: 0.9677\n",
            "Epoch 145/150\n",
            "70/70 [==============================] - 0s 384us/sample - loss: 0.0288 - acc: 1.0000 - val_loss: 0.1399 - val_acc: 0.9677\n",
            "Epoch 146/150\n",
            "70/70 [==============================] - 0s 286us/sample - loss: 0.0283 - acc: 1.0000 - val_loss: 0.1395 - val_acc: 0.9677\n",
            "Epoch 147/150\n",
            "70/70 [==============================] - 0s 340us/sample - loss: 0.0278 - acc: 1.0000 - val_loss: 0.1390 - val_acc: 0.9677\n",
            "Epoch 148/150\n",
            "70/70 [==============================] - 0s 269us/sample - loss: 0.0274 - acc: 1.0000 - val_loss: 0.1386 - val_acc: 0.9677\n",
            "Epoch 149/150\n",
            "70/70 [==============================] - 0s 288us/sample - loss: 0.0268 - acc: 1.0000 - val_loss: 0.1384 - val_acc: 0.9677\n",
            "Epoch 150/150\n",
            "70/70 [==============================] - 0s 285us/sample - loss: 0.0264 - acc: 1.0000 - val_loss: 0.1389 - val_acc: 0.9677\n"
          ],
          "name": "stdout"
        }
      ]
    },
    {
      "cell_type": "code",
      "metadata": {
        "id": "uXAL7dKhhLeM",
        "colab_type": "code",
        "outputId": "950373b0-2aea-4e00-df86-74d598f2defa",
        "colab": {
          "base_uri": "https://localhost:8080/",
          "height": 295
        }
      },
      "source": [
        "# Model accuracy\n",
        "plt.plot(history.history['acc'])\n",
        "plt.plot(history.history['val_acc'])\n",
        "plt.title('Model Accuracy')\n",
        "plt.ylabel('accuracy')\n",
        "plt.xlabel('epoch')\n",
        "plt.legend(['train', 'test'])\n",
        "plt.show()"
      ],
      "execution_count": 321,
      "outputs": [
        {
          "output_type": "display_data",
          "data": {
            "image/png": "[encoded data removed]",
            "text/plain": [
              "<Figure size 432x288 with 1 Axes>"
            ]
          },
          "metadata": {
            "tags": []
          }
        }
      ]
    },
    {
      "cell_type": "code",
      "metadata": {
        "id": "96NcMe3zhSEy",
        "colab_type": "code",
        "outputId": "5385a6ba-a3ea-48eb-82f9-df42315433d0",
        "colab": {
          "base_uri": "https://localhost:8080/",
          "height": 295
        }
      },
      "source": [
        "# Model Loss\n",
        "plt.plot(history.history['loss'])\n",
        "plt.plot(history.history['val_loss'])\n",
        "plt.title('Model Loss')\n",
        "plt.ylabel('loss')\n",
        "plt.xlabel('epoch')\n",
        "plt.legend(['train', 'test'])\n",
        "plt.show()"
      ],
      "execution_count": 322,
      "outputs": [
        {
          "output_type": "display_data",
          "data": {
            "image/png": "[encoded data removed]",
            "text/plain": [
              "<Figure size 432x288 with 1 Axes>"
            ]
          },
          "metadata": {
            "tags": []
          }
        }
      ]
    },
    {
      "cell_type": "code",
      "metadata": {
        "id": "EA9F3tS3j7XB",
        "colab_type": "code",
        "outputId": "540424b7-42be-4cce-aaa5-e895d35d0d2d",
        "colab": {
          "base_uri": "https://localhost:8080/",
          "height": 35
        }
      },
      "source": [
        "# evaluate the model\n",
        "score = model.evaluate(X_test, y_test, verbose=0)\n",
        "print(\"%s: %.2f%%\" % (model.metrics_names[1], score[1]*100))"
      ],
      "execution_count": 323,
      "outputs": [
        {
          "output_type": "stream",
          "text": [
            "acc: 96.77%\n"
          ],
          "name": "stdout"
        }
      ]
    }
  ]
}