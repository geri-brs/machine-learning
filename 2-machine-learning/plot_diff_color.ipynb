{
  "nbformat": 4,
  "nbformat_minor": 0,
  "metadata": {
    "colab": {
      "name": "plot_diff_color.ipynb",
      "version": "0.3.2",
      "provenance": [],
      "collapsed_sections": []
    },
    "kernelspec": {
      "name": "python3",
      "display_name": "Python 3"
    }
  },
  "cells": [
    {
      "cell_type": "code",
      "metadata": {
        "id": "ymt2wBnZdHpn",
        "colab_type": "code",
        "colab": {}
      },
      "source": [
        "import math\n",
        "import numpy as np\n",
        "from numpy.random import multivariate_normal, shuffle\n",
        "import matplotlib.pyplot as plt\n",
        "%matplotlib inline"
      ],
      "execution_count": 0,
      "outputs": []
    },
    {
      "cell_type": "code",
      "metadata": {
        "id": "SPToPFnTdO1e",
        "colab_type": "code",
        "colab": {}
      },
      "source": [
        "def generate_synthetic_2dpoints(mean, cov, npoints):\n",
        "    points = multivariate_normal(mean, cov, npoints).T\n",
        "    return points"
      ],
      "execution_count": 0,
      "outputs": []
    },
    {
      "cell_type": "code",
      "metadata": {
        "id": "ZIH4UjRQdSL3",
        "colab_type": "code",
        "colab": {}
      },
      "source": [
        "# generate random covariance\n",
        "def rcov(r=9):\n",
        "    np.random.seed(r)\n",
        "    x = np.random.uniform(-0.35, 0.35, size = (2, 2))\n",
        "    x = np.dot(x, x.transpose())\n",
        "    return x "
      ],
      "execution_count": 0,
      "outputs": []
    },
    {
      "cell_type": "code",
      "metadata": {
        "id": "yqY6lL2pfEgF",
        "colab_type": "code",
        "colab": {}
      },
      "source": [
        "# generate synthetic data \n",
        "def gen_set1():\n",
        "    # 2 clusters\n",
        "    cov1 = [[0.02, 0], [0, 0.15]]\n",
        "    cov2 = [[0.02, 0], [0, 0.25]]\n",
        "    \n",
        "    means = [[-1.00, +1.10], \n",
        "             [+0.25, -0.75]]\n",
        "    cov = [cov1, rcov()]\n",
        "\n",
        "    npoints = [75, 90]\n",
        "       \n",
        "    p1 = generate_synthetic_2dpoints(means[0], cov[0], npoints[0])\n",
        "    p2 = generate_synthetic_2dpoints(means[1], cov[1], npoints[1])\n",
        "    pa = np.hstack((p1, p2))\n",
        "    pa = pa.T\n",
        "    \n",
        "    # 3 clusters\n",
        "    means = [[-0.50, -0.00], \n",
        "             [+1.65, -1.50], \n",
        "             [+1.50, +0.50]]\n",
        "    cov = [cov1, rcov(), rcov()]\n",
        "    npoints = [40, 60, 70]\n",
        "\n",
        "    p1 = generate_synthetic_2dpoints(means[0], cov[0], npoints[0])\n",
        "    p2 = generate_synthetic_2dpoints(means[1], cov[1], npoints[1])\n",
        "    p3 = generate_synthetic_2dpoints(means[2], cov[2], npoints[2])\n",
        "    pb = np.hstack((p1, p2, p3))\n",
        "    pb = pb.T\n",
        "\n",
        "    # 4 clusters\n",
        "    means = [[+1.70, -1.15], \n",
        "             [+2.15, +1.10], \n",
        "             [-1.20, +1.50],\n",
        "             [-1.20, -0.2]]\n",
        "    cov = [rcov() for i in range(4)]\n",
        "    npoints = [50, 75, 60, 95]\n",
        "\n",
        "    p1 = generate_synthetic_2dpoints(means[0], cov[0], npoints[0])\n",
        "    p2 = generate_synthetic_2dpoints(means[1], cov[1], npoints[1])\n",
        "    p3 = generate_synthetic_2dpoints(means[2], cov[2], npoints[2])\n",
        "    p4 = generate_synthetic_2dpoints(means[3], cov[3], npoints[3])\n",
        "    pc = np.hstack((p1, p2, p3, p4))\n",
        "    pc = pc.T\n",
        "\n",
        "\n",
        "    # 5 clusters \n",
        "    means = [[-2.1, -1.5], \n",
        "             [-2.5, +1.5], \n",
        "             [+1.8, -1.6],\n",
        "             [+2.3, +1.7],\n",
        "             [+0.1, +0.1]]\n",
        "\n",
        "    cov = [cov1, rcov(), rcov(), cov2, rcov()]\n",
        "    npoints = [90, 55, 70, 40, 60]\n",
        "    p1 = generate_synthetic_2dpoints(means[0], cov[0], npoints[0])\n",
        "    p2 = generate_synthetic_2dpoints(means[1], cov[1], npoints[1])\n",
        "    p3 = generate_synthetic_2dpoints(means[2], cov[2], npoints[2])\n",
        "    p4 = generate_synthetic_2dpoints(means[3], cov[3], npoints[3])\n",
        "    p5 = generate_synthetic_2dpoints(means[4], cov[4], npoints[4])\n",
        "    pd = np.hstack((p1, p2, p3, p4, p5))\n",
        "    pd = pd.T\n",
        "\n",
        "    return [pa, pb, pc, pd]"
      ],
      "execution_count": 0,
      "outputs": []
    },
    {
      "cell_type": "code",
      "metadata": {
        "id": "HbCyOQk0fXrQ",
        "colab_type": "code",
        "colab": {}
      },
      "source": [
        "# load 4 data sets of 2d points of clusters [2, 3, 4, 5] \n",
        "pointset = gen_set1()\n",
        "\n",
        "samples1, samples2, samples3, samples4 = pointset[0], pointset[1], pointset[2], pointset[3]"
      ],
      "execution_count": 0,
      "outputs": []
    },
    {
      "cell_type": "code",
      "metadata": {
        "id": "R39OnvHOoH6Z",
        "colab_type": "code",
        "outputId": "2b853330-1ed6-4f7e-bade-4d649337b548",
        "colab": {
          "base_uri": "https://localhost:8080/",
          "height": 287
        }
      },
      "source": [
        "#Create random centroids\n",
        "centroids = np.random.randn(2,2)\n",
        "\n",
        "#Plot the samples1 dataset with random centroids\n",
        "plt.scatter(centroids[:,0], centroids[:,1], marker='*', c='r', s=150)\n",
        "plt.scatter(samples1[:,0], samples1[:,1], c='g', s=7)"
      ],
      "execution_count": 85,
      "outputs": [
        {
          "output_type": "execute_result",
          "data": {
            "text/plain": [
              "<matplotlib.collections.PathCollection at 0x7f9cc4b18128>"
            ]
          },
          "metadata": {
            "tags": []
          },
          "execution_count": 85
        },
        {
          "output_type": "display_data",
          "data": {
            "image/png": "[encoded data removed]",
            "text/plain": [
              "<Figure size 432x288 with 1 Axes>"
            ]
          },
          "metadata": {
            "tags": []
          }
        }
      ]
    },
    {
      "cell_type": "code",
      "metadata": {
        "id": "pcMqkrCwhBGW",
        "colab_type": "code",
        "colab": {}
      },
      "source": [
        "#Calculate shortest distance between 2 data points\n",
        "def Euclidean_distance(one, two):\n",
        "\n",
        "    squared_distance = 0\n",
        "    \n",
        "    for i in range(len(one)):\n",
        "\n",
        "            squared_distance += ((one[i] - two[i])**2)\n",
        "\n",
        "    ed = math.sqrt(squared_distance)\n",
        "\n",
        "    return ed;"
      ],
      "execution_count": 0,
      "outputs": []
    },
    {
      "cell_type": "code",
      "metadata": {
        "id": "YBYqGccFhCik",
        "colab_type": "code",
        "colab": {}
      },
      "source": [
        "iteration_number = 100\n",
        "\n",
        "for i in range(iteration_number):\n",
        "  #Create 2 arrays for 2 data group\n",
        "  cluster1 = []\n",
        "  cluster2 = []\n",
        "\n",
        "  #Iterate over samples1 and determine cluster of each data point\n",
        "  for p, point in enumerate(samples1):\n",
        "\n",
        "    current_distance = 0\n",
        "    best_distance = 100\n",
        "\n",
        "    for c, center in enumerate(centroids):\n",
        "\n",
        "        current_distance = Euclidean_distance(point, center)\n",
        "        if (current_distance < best_distance):\n",
        "          best_distance = current_distance\n",
        "          cluster_index = c\n",
        "    if (cluster_index == 0):\n",
        "      cluster1.append(point)\n",
        "    if (cluster_index == 1):\n",
        "      cluster2.append(point)\n",
        "\n",
        "  #Convert tuples to numpy array to plot them\n",
        "  cluster1 = np.asarray(cluster1)\n",
        "  cluster2 = np.asarray(cluster2)\n",
        "\n",
        "  #Calculate the mean of clusters\n",
        "  mean1 = np.mean(cluster1, axis = 0)\n",
        "  mean2 = np.mean(cluster2, axis = 0)\n",
        "  \n",
        "  #Replace centroids with new centroids\n",
        "  centroids[0] = mean1\n",
        "  centroids[1] = mean2"
      ],
      "execution_count": 0,
      "outputs": []
    },
    {
      "cell_type": "code",
      "metadata": {
        "id": "fKqUAzD1lX6n",
        "colab_type": "code",
        "outputId": "a26618c3-9fc4-4ea1-e8c9-701d93f945f6",
        "colab": {
          "base_uri": "https://localhost:8080/",
          "height": 287
        }
      },
      "source": [
        "#Plot the means, centroids and determined clusters in different colors\n",
        "plt.scatter(mean1[0], mean1[1], marker='*', c='g', s=150)\n",
        "plt.scatter(mean2[0], mean2[1], marker='*', c='g', s=150)\n",
        "plt.scatter(centroids[:,0], centroids[:,1], marker='*', c='r', s=150)\n",
        "plt.scatter(cluster1[:,0], cluster1[:,1], c='b', s=7)\n",
        "plt.scatter(cluster2[:,0], cluster2[:,1], c='r', s=7)"
      ],
      "execution_count": 88,
      "outputs": [
        {
          "output_type": "execute_result",
          "data": {
            "text/plain": [
              "<matplotlib.collections.PathCollection at 0x7f9cc4af8e80>"
            ]
          },
          "metadata": {
            "tags": []
          },
          "execution_count": 88
        },
        {
          "output_type": "display_data",
          "data": {
            "image/png": "[encoded data removed]",
            "text/plain": [
              "<Figure size 432x288 with 1 Axes>"
            ]
          },
          "metadata": {
            "tags": []
          }
        }
      ]
    },
    {
      "cell_type": "code",
      "metadata": {
        "id": "_NW0PwK5mnsE",
        "colab_type": "code",
        "colab": {}
      },
      "source": [
        ""
      ],
      "execution_count": 0,
      "outputs": []
    }
  ]
}