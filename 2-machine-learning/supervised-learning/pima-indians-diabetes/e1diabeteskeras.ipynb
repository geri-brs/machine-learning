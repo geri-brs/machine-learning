{
  "nbformat": 4,
  "nbformat_minor": 0,
  "metadata": {
    "colab": {
      "name": "e1diabeteskeras.ipynb",
      "version": "0.3.2",
      "provenance": [],
      "collapsed_sections": []
    },
    "kernelspec": {
      "name": "python3",
      "display_name": "Python 3"
    }
  },
  "cells": [
    {
      "cell_type": "code",
      "metadata": {
        "id": "Zh1NgO1z4sKh",
        "colab_type": "code",
        "colab": {}
      },
      "source": [
        "#from google.colab import files\n",
        "#uploaded = files.upload()\n",
        "\n",
        "#---\n",
        "# Goal\n",
        "# ---\n",
        "# Create and train a simple neural network to predict whether\n",
        "# a person has had an onset of diabetes given eight medical attributes\n",
        "# This data set of 768 samples is from the UCI machine learning repository\n",
        "# See associated text file `diabetes-dataset-info.txt` for more details\n",
        "\n",
        "# Adapted from\n",
        "# https://machinelearningmastery.com/tutorial-first-neural-network-python-keras/\n",
        "# https://www.kaggle.com/atulnet/pima-diabetes-keras-implementation\n",
        "\n",
        "# --\n",
        "# PIPELINE\n",
        "# --\n",
        "\n",
        "# Load Data.\n",
        "# Define Model.\n",
        "# Compile Model.\n",
        "# Fit Model.\n",
        "# Evaluate Model.\n",
        "# Use Model to predict\n",
        "\n",
        "\n",
        "import tensorflow as tf\n",
        "from tensorflow.keras import layers\n",
        "import numpy\n",
        "from sklearn.model_selection import StratifiedKFold\n",
        "from keras.models import Sequential\n",
        "from keras.layers import Dense"
      ],
      "execution_count": 0,
      "outputs": []
    },
    {
      "cell_type": "code",
      "metadata": {
        "id": "IUfyjwU3Uc1F",
        "colab_type": "code",
        "outputId": "0a76ddcf-7364-4346-9b57-f5f930354616",
        "colab": {
          "base_uri": "https://localhost:8080/",
          "height": 71
        }
      },
      "source": [
        "print(\"Versions:\")\n",
        "print(\"Tensorflow:\", tf.VERSION)\n",
        "# 1.14.0-rc1\n",
        "print(\"Keras: \", tf.keras.__version__)\n",
        "#2.2.4-tf"
      ],
      "execution_count": 34,
      "outputs": [
        {
          "output_type": "stream",
          "text": [
            "Versions:\n",
            "Tensorflow: 1.14.0-rc1\n",
            "Keras:  2.2.4-tf\n"
          ],
          "name": "stdout"
        }
      ]
    },
    {
      "cell_type": "code",
      "metadata": {
        "id": "PkqP9zAaaB-G",
        "colab_type": "code",
        "colab": {}
      },
      "source": [
        "# Fix random seed for reproducibility\n",
        "seed = 7\n",
        "numpy.random.seed(7)\n",
        "# Load pima indians dataset\n",
        "path = \"./pima-indians-diabetes.data.csv\"\n",
        "dataset = numpy.loadtxt(path, delimiter=\",\")"
      ],
      "execution_count": 0,
      "outputs": []
    },
    {
      "cell_type": "code",
      "metadata": {
        "id": "vpmT8eMhaB3u",
        "colab_type": "code",
        "colab": {}
      },
      "source": [
        "# Split into input (X) and output (Y) variables\n",
        "X = dataset[:, 0:8]\n",
        "Y = dataset[:, 8]"
      ],
      "execution_count": 0,
      "outputs": []
    },
    {
      "cell_type": "code",
      "metadata": {
        "id": "O3yQSxsOaBxZ",
        "colab_type": "code",
        "outputId": "7c34b323-405d-44e9-e811-1c0bb3d028ad",
        "colab": {
          "base_uri": "https://localhost:8080/",
          "height": 287
        }
      },
      "source": [
        "# Inspect one sample\n",
        "n = 1\n",
        "print(\"--\\n\", \"Attributes for sample:\", n, \"\\n--\\n\")\n",
        "print('{:40.35} {:2.3f}'.format(\"Number of times pregnant\", X[n][0]))\n",
        "\n",
        "print('{:40.35} {:2.3f}'.format(\"Plasma glucose concentration\", X[n][1]))\n",
        "print('{:40.35} {:2.3f}'.format(\"Diastolic blood pressure (mm Hg)\", X[n][2]))\n",
        "print('{:40.35} {:2.3f}'.format(\"Triceps skin fold thickness (mm)\", X[n][3]))\n",
        "print('{:40.35} {:2.3f}'.format(\"2-Hour serum insulin (mu U/ml)\", X[n][4]))\n",
        "print('{:40.35} {:2.3f}'.format(\"Body mass index kg/m^2)\", X[n][5]))\n",
        "print('{:40.35} {:2.3f}'.format(\"Diabetes pedigree function\", X[n][6]))\n",
        "print('{:40.35} {:2.3f}'.format(\"Age (yrs) \", X[n][7]))\n",
        "\n",
        "print(\"-------------------------------------------------------\")\n",
        "print('{:40.35} {:1.1f}'.format(\"Diabetes?  Y/N (1/0)\", Y[n]))\n",
        "print()"
      ],
      "execution_count": 37,
      "outputs": [
        {
          "output_type": "stream",
          "text": [
            "--\n",
            " Attributes for sample: 1 \n",
            "--\n",
            "\n",
            "Number of times pregnant                 1.000\n",
            "Plasma glucose concentration             85.000\n",
            "Diastolic blood pressure (mm Hg)         66.000\n",
            "Triceps skin fold thickness (mm)         29.000\n",
            "2-Hour serum insulin (mu U/ml)           0.000\n",
            "Body mass index kg/m^2)                  26.600\n",
            "Diabetes pedigree function               0.351\n",
            "Age (yrs)                                31.000\n",
            "-------------------------------------------------------\n",
            "Diabetes?  Y/N (1/0)                     0.0\n",
            "\n"
          ],
          "name": "stdout"
        }
      ]
    },
    {
      "cell_type": "code",
      "metadata": {
        "id": "TohyQfnJaXqv",
        "colab_type": "code",
        "outputId": "6e8c27c7-f4d7-43ed-ec4e-be2bc985ff5b",
        "colab": {
          "base_uri": "https://localhost:8080/",
          "height": 215
        }
      },
      "source": [
        "kfold = StratifiedKFold(n_splits=10, shuffle=True, random_state=seed)\n",
        "cvscores = []\n",
        "\n",
        "for train, test in kfold.split(X, Y):\n",
        "  \n",
        "  # create model\n",
        "\tmodel = Sequential()\n",
        "\tmodel.add(Dense(12, input_dim=8, activation='elu'))\n",
        "\tmodel.add(Dense(8, activation='elu'))\n",
        "\tmodel.add(Dense(1, activation='sigmoid'))\n",
        "\t# Compile model\n",
        "\tmodel.compile(loss='binary_crossentropy', optimizer='adam', metrics=['accuracy'])\n",
        "\t# Fit the model\n",
        "\tmodel.fit(X[train], Y[train], epochs=150, batch_size=8, verbose=0)\n",
        "\t# evaluate the model\n",
        "\tscores = model.evaluate(X[test], Y[test], verbose=0)\n",
        "\tprint(\"%s: %.2f%%\" % (model.metrics_names[1], scores[1]*100))\n",
        "\tcvscores.append(scores[1] * 100)\n",
        "\n",
        "print(\"%.2f%% (+/- %.2f%%)\" % (numpy.mean(cvscores), numpy.std(cvscores)))\n",
        "\n"
      ],
      "execution_count": 38,
      "outputs": [
        {
          "output_type": "stream",
          "text": [
            "acc: 74.03%\n",
            "acc: 76.62%\n",
            "acc: 77.92%\n",
            "acc: 76.62%\n",
            "acc: 75.32%\n",
            "acc: 64.94%\n",
            "acc: 64.94%\n",
            "acc: 64.94%\n",
            "acc: 71.05%\n",
            "acc: 61.84%\n",
            "70.82% (+/- 5.77%)\n"
          ],
          "name": "stdout"
        }
      ]
    },
    {
      "cell_type": "markdown",
      "metadata": {
        "id": "M32SgNg8aBAn",
        "colab_type": "text"
      },
      "source": [
        ""
      ]
    }
  ]
}
