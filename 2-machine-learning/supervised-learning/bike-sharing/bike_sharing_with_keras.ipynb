{
  "nbformat": 4,
  "nbformat_minor": 0,
  "metadata": {
    "colab": {
      "name": "bike_sharing_with_keras.ipynb",
      "version": "0.3.2",
      "provenance": [],
      "collapsed_sections": []
    },
    "kernelspec": {
      "name": "python3",
      "display_name": "Python 3"
    }
  },
  "cells": [
    {
      "cell_type": "code",
      "metadata": {
        "id": "MGZ_F6svzizb",
        "colab_type": "code",
        "colab": {}
      },
      "source": [
        "import seaborn           as sns\n",
        "import numpy             as np\n",
        "import pandas            as pd\n",
        "import matplotlib.pyplot as plt\n",
        "import tensorflow        as tf\n",
        "from   tensorflow                import keras\n",
        "from   tensorflow.keras          import layers\n",
        "from   sklearn.model_selection   import train_test_split\n",
        "from   sklearn.model_selection   import StratifiedKFold\n",
        "from   sklearn.feature_selection import SelectKBest\n",
        "from   sklearn.feature_selection import chi2\n",
        "from   keras.models              import Sequential\n",
        "from   keras.layers              import Dense, Dropout\n",
        "from   keras.optimizers          import SGD\n",
        "from   keras.callbacks           import EarlyStopping"
      ],
      "execution_count": 0,
      "outputs": []
    },
    {
      "cell_type": "code",
      "metadata": {
        "id": "MIRq1cL6zqLm",
        "colab_type": "code",
        "outputId": "069d320d-9ac3-4156-e55e-143071a805df",
        "colab": {
          "resources": {
            "http://localhost:8080/nbextensions/google.colab/files.js": {
              "data": "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",
              "ok": true,
              "headers": [
                [
                  "content-type",
                  "application/javascript"
                ]
              ],
              "status": 200,
              "status_text": ""
            }
          },
          "base_uri": "https://localhost:8080/",
          "height": 75
        }
      },
      "source": [
        "# Upload dataset\n",
        "from google.colab import files\n",
        "uploaded = files.upload()"
      ],
      "execution_count": 2,
      "outputs": [
        {
          "output_type": "display_data",
          "data": {
            "text/html": [
              "\n",
              "     <input type=\"file\" id=\"files-52d7f264-cdec-46e2-b550-7cfc449e4fa2\" name=\"files[]\" multiple disabled />\n",
              "     <output id=\"result-52d7f264-cdec-46e2-b550-7cfc449e4fa2\">\n",
              "      Upload widget is only available when the cell has been executed in the\n",
              "      current browser session. Please rerun this cell to enable.\n",
              "      </output>\n",
              "      <script src=\"/nbextensions/google.colab/files.js\"></script> "
            ],
            "text/plain": [
              "<IPython.core.display.HTML object>"
            ]
          },
          "metadata": {
            "tags": []
          }
        },
        {
          "output_type": "stream",
          "text": [
            "Saving hour.csv to hour.csv\n"
          ],
          "name": "stdout"
        }
      ]
    },
    {
      "cell_type": "code",
      "metadata": {
        "id": "S4IIsOKUzsis",
        "colab_type": "code",
        "colab": {}
      },
      "source": [
        "# Load hours dataset\n",
        "path = \"./hour.csv\"\n",
        "dataset = pd.read_csv(path)"
      ],
      "execution_count": 0,
      "outputs": []
    },
    {
      "cell_type": "code",
      "metadata": {
        "id": "nfxunmkJK0Ao",
        "colab_type": "code",
        "outputId": "36a98a78-a81e-4902-8781-3a6f8af6dd6c",
        "colab": {
          "base_uri": "https://localhost:8080/",
          "height": 323
        }
      },
      "source": [
        "for i in dataset.columns.values:\n",
        "  print(i, dataset[i].dtype)"
      ],
      "execution_count": 4,
      "outputs": [
        {
          "output_type": "stream",
          "text": [
            "instant int64\n",
            "dteday object\n",
            "season int64\n",
            "yr int64\n",
            "mnth int64\n",
            "hr int64\n",
            "holiday int64\n",
            "weekday int64\n",
            "workingday int64\n",
            "weathersit int64\n",
            "temp float64\n",
            "atemp float64\n",
            "hum float64\n",
            "windspeed float64\n",
            "casual int64\n",
            "registered int64\n",
            "cnt int64\n"
          ],
          "name": "stdout"
        }
      ]
    },
    {
      "cell_type": "code",
      "metadata": {
        "id": "YBvSq5xLLt2O",
        "colab_type": "code",
        "outputId": "c4c7db61-935c-4d9e-8f10-9e57c9ccddc9",
        "colab": {
          "base_uri": "https://localhost:8080/",
          "height": 204
        }
      },
      "source": [
        "dataset.head()"
      ],
      "execution_count": 5,
      "outputs": [
        {
          "output_type": "execute_result",
          "data": {
            "text/html": [
              "<div>\n",
              "<style scoped>\n",
              "    .dataframe tbody tr th:only-of-type {\n",
              "        vertical-align: middle;\n",
              "    }\n",
              "\n",
              "    .dataframe tbody tr th {\n",
              "        vertical-align: top;\n",
              "    }\n",
              "\n",
              "    .dataframe thead th {\n",
              "        text-align: right;\n",
              "    }\n",
              "</style>\n",
              "<table border=\"1\" class=\"dataframe\">\n",
              "  <thead>\n",
              "    <tr style=\"text-align: right;\">\n",
              "      <th></th>\n",
              "      <th>instant</th>\n",
              "      <th>dteday</th>\n",
              "      <th>season</th>\n",
              "      <th>yr</th>\n",
              "      <th>mnth</th>\n",
              "      <th>hr</th>\n",
              "      <th>holiday</th>\n",
              "      <th>weekday</th>\n",
              "      <th>workingday</th>\n",
              "      <th>weathersit</th>\n",
              "      <th>temp</th>\n",
              "      <th>atemp</th>\n",
              "      <th>hum</th>\n",
              "      <th>windspeed</th>\n",
              "      <th>casual</th>\n",
              "      <th>registered</th>\n",
              "      <th>cnt</th>\n",
              "    </tr>\n",
              "  </thead>\n",
              "  <tbody>\n",
              "    <tr>\n",
              "      <th>0</th>\n",
              "      <td>1</td>\n",
              "      <td>2011-01-01</td>\n",
              "      <td>1</td>\n",
              "      <td>0</td>\n",
              "      <td>1</td>\n",
              "      <td>0</td>\n",
              "      <td>0</td>\n",
              "      <td>6</td>\n",
              "      <td>0</td>\n",
              "      <td>1</td>\n",
              "      <td>0.24</td>\n",
              "      <td>0.2879</td>\n",
              "      <td>0.81</td>\n",
              "      <td>0.0</td>\n",
              "      <td>3</td>\n",
              "      <td>13</td>\n",
              "      <td>16</td>\n",
              "    </tr>\n",
              "    <tr>\n",
              "      <th>1</th>\n",
              "      <td>2</td>\n",
              "      <td>2011-01-01</td>\n",
              "      <td>1</td>\n",
              "      <td>0</td>\n",
              "      <td>1</td>\n",
              "      <td>1</td>\n",
              "      <td>0</td>\n",
              "      <td>6</td>\n",
              "      <td>0</td>\n",
              "      <td>1</td>\n",
              "      <td>0.22</td>\n",
              "      <td>0.2727</td>\n",
              "      <td>0.80</td>\n",
              "      <td>0.0</td>\n",
              "      <td>8</td>\n",
              "      <td>32</td>\n",
              "      <td>40</td>\n",
              "    </tr>\n",
              "    <tr>\n",
              "      <th>2</th>\n",
              "      <td>3</td>\n",
              "      <td>2011-01-01</td>\n",
              "      <td>1</td>\n",
              "      <td>0</td>\n",
              "      <td>1</td>\n",
              "      <td>2</td>\n",
              "      <td>0</td>\n",
              "      <td>6</td>\n",
              "      <td>0</td>\n",
              "      <td>1</td>\n",
              "      <td>0.22</td>\n",
              "      <td>0.2727</td>\n",
              "      <td>0.80</td>\n",
              "      <td>0.0</td>\n",
              "      <td>5</td>\n",
              "      <td>27</td>\n",
              "      <td>32</td>\n",
              "    </tr>\n",
              "    <tr>\n",
              "      <th>3</th>\n",
              "      <td>4</td>\n",
              "      <td>2011-01-01</td>\n",
              "      <td>1</td>\n",
              "      <td>0</td>\n",
              "      <td>1</td>\n",
              "      <td>3</td>\n",
              "      <td>0</td>\n",
              "      <td>6</td>\n",
              "      <td>0</td>\n",
              "      <td>1</td>\n",
              "      <td>0.24</td>\n",
              "      <td>0.2879</td>\n",
              "      <td>0.75</td>\n",
              "      <td>0.0</td>\n",
              "      <td>3</td>\n",
              "      <td>10</td>\n",
              "      <td>13</td>\n",
              "    </tr>\n",
              "    <tr>\n",
              "      <th>4</th>\n",
              "      <td>5</td>\n",
              "      <td>2011-01-01</td>\n",
              "      <td>1</td>\n",
              "      <td>0</td>\n",
              "      <td>1</td>\n",
              "      <td>4</td>\n",
              "      <td>0</td>\n",
              "      <td>6</td>\n",
              "      <td>0</td>\n",
              "      <td>1</td>\n",
              "      <td>0.24</td>\n",
              "      <td>0.2879</td>\n",
              "      <td>0.75</td>\n",
              "      <td>0.0</td>\n",
              "      <td>0</td>\n",
              "      <td>1</td>\n",
              "      <td>1</td>\n",
              "    </tr>\n",
              "  </tbody>\n",
              "</table>\n",
              "</div>"
            ],
            "text/plain": [
              "   instant      dteday  season  yr  ...  windspeed  casual  registered  cnt\n",
              "0        1  2011-01-01       1   0  ...        0.0       3          13   16\n",
              "1        2  2011-01-01       1   0  ...        0.0       8          32   40\n",
              "2        3  2011-01-01       1   0  ...        0.0       5          27   32\n",
              "3        4  2011-01-01       1   0  ...        0.0       3          10   13\n",
              "4        5  2011-01-01       1   0  ...        0.0       0           1    1\n",
              "\n",
              "[5 rows x 17 columns]"
            ]
          },
          "metadata": {
            "tags": []
          },
          "execution_count": 5
        }
      ]
    },
    {
      "cell_type": "code",
      "metadata": {
        "id": "yymFnJzKzsgF",
        "colab_type": "code",
        "colab": {}
      },
      "source": [
        "def generate_dummies(df, dummy_column):\n",
        "    dummies = pd.get_dummies(df[dummy_column], prefix=dummy_column)\n",
        "    df = pd.concat([df, dummies], axis=1)\n",
        "    return df\n",
        "\n",
        "X = pd.DataFrame.copy(dataset)\n",
        "dummy_columns = [\"season\",     # season (1:springer, 2:summer, 3:fall, 4:winter)\n",
        "                 \"mnth\",        # month ( 1 to 12)\n",
        "                 \"hr\",          # hour (0 to 23)\n",
        "                 \"weekday\",     # weekday : day of the week\n",
        "                 \"weathersit\"   # weathersit : \n",
        "                                 # - 1: Clear, Few clouds, Partly cloudy, Partly cloudy\n",
        "                                 # - 2: Mist + Cloudy, Mist + Broken clouds, Mist + Few clouds, Mist\n",
        "                                 # - 3: Light Snow, Light Rain + Thunderstorm + Scattered clouds, Light Rain + Scattered clouds\n",
        "                                 # - 4: Heavy Rain + Ice Pallets + Thunderstorm + Mist, Snow + Fog\n",
        "                ]\n",
        "for dummy_column in dummy_columns:\n",
        "    X = generate_dummies(X, dummy_column)"
      ],
      "execution_count": 0,
      "outputs": []
    },
    {
      "cell_type": "code",
      "metadata": {
        "id": "SM2roqORzsdW",
        "colab_type": "code",
        "colab": {}
      },
      "source": [
        "for dummy_column in dummy_columns:\n",
        "  del X[dummy_column]"
      ],
      "execution_count": 0,
      "outputs": []
    },
    {
      "cell_type": "code",
      "metadata": {
        "id": "lVJzzy-azsaj",
        "colab_type": "code",
        "colab": {}
      },
      "source": [
        "del X[\"yr\"]\n",
        "del X[\"hum\"]\n",
        "del X[\"instant\"]\n",
        "del X[\"dteday\"]\n",
        "\n",
        "y = X[\"cnt\"]\n",
        "\n",
        "del X[\"cnt\"]\n",
        "del X[\"registered\"]\n",
        "del X[\"casual\"]"
      ],
      "execution_count": 0,
      "outputs": []
    },
    {
      "cell_type": "code",
      "metadata": {
        "id": "z0fAnJkXEDxg",
        "colab_type": "code",
        "outputId": "0ea2e0e1-493e-4d67-a030-104c3bd16b35",
        "colab": {
          "base_uri": "https://localhost:8080/",
          "height": 161
        }
      },
      "source": [
        "X.head()\n",
        "print(X.columns.values)"
      ],
      "execution_count": 9,
      "outputs": [
        {
          "output_type": "stream",
          "text": [
            "['holiday' 'workingday' 'temp' 'atemp' 'windspeed' 'season_1' 'season_2'\n",
            " 'season_3' 'season_4' 'mnth_1' 'mnth_2' 'mnth_3' 'mnth_4' 'mnth_5'\n",
            " 'mnth_6' 'mnth_7' 'mnth_8' 'mnth_9' 'mnth_10' 'mnth_11' 'mnth_12' 'hr_0'\n",
            " 'hr_1' 'hr_2' 'hr_3' 'hr_4' 'hr_5' 'hr_6' 'hr_7' 'hr_8' 'hr_9' 'hr_10'\n",
            " 'hr_11' 'hr_12' 'hr_13' 'hr_14' 'hr_15' 'hr_16' 'hr_17' 'hr_18' 'hr_19'\n",
            " 'hr_20' 'hr_21' 'hr_22' 'hr_23' 'weekday_0' 'weekday_1' 'weekday_2'\n",
            " 'weekday_3' 'weekday_4' 'weekday_5' 'weekday_6' 'weathersit_1'\n",
            " 'weathersit_2' 'weathersit_3' 'weathersit_4']\n"
          ],
          "name": "stdout"
        }
      ]
    },
    {
      "cell_type": "code",
      "metadata": {
        "id": "4Y1-1b2VzsX3",
        "colab_type": "code",
        "outputId": "2b63ade0-4f53-4204-f994-5d834d9053fd",
        "colab": {
          "base_uri": "https://localhost:8080/",
          "height": 107
        }
      },
      "source": [
        "all_days = len(X) // 24\n",
        "print(\"Total observations\", len(X))\n",
        "print(\"Total number of days\", all_days)\n",
        "days_for_training = int(all_days * 0.7 * 24)\n",
        "print(days_for_training)\n",
        "\n",
        "X_train = X[0:days_for_training]\n",
        "X_test = X[days_for_training:]\n",
        "print(len(X_train), len(X_test))\n",
        "\n",
        "y_train = y[0:days_for_training]\n",
        "y_test= y[days_for_training:]\n",
        "print(len(y_train), len(y_test))"
      ],
      "execution_count": 73,
      "outputs": [
        {
          "output_type": "stream",
          "text": [
            "Total observations 17379\n",
            "Total number of days 724\n",
            "12163\n",
            "12163 5216\n",
            "12163 5216\n"
          ],
          "name": "stdout"
        }
      ]
    },
    {
      "cell_type": "code",
      "metadata": {
        "id": "6Fz0r7VMzsU9",
        "colab_type": "code",
        "outputId": "497bcfb8-6300-43f1-c450-3e680454a8bc",
        "colab": {
          "base_uri": "https://localhost:8080/",
          "height": 161
        }
      },
      "source": [
        "print(\"Observations for training\", len(X_train))\n",
        "print(\"Observations for testing\", len(X_test))\n",
        "print(\"Some target values\", y.head())"
      ],
      "execution_count": 74,
      "outputs": [
        {
          "output_type": "stream",
          "text": [
            "Observations for training 12163\n",
            "Observations for testing 5216\n",
            "Some target values 0    16\n",
            "1    40\n",
            "2    32\n",
            "3    13\n",
            "4     1\n",
            "Name: cnt, dtype: int64\n"
          ],
          "name": "stdout"
        }
      ]
    },
    {
      "cell_type": "code",
      "metadata": {
        "id": "Huh9p132IlI3",
        "colab_type": "code",
        "outputId": "f54eb953-95a4-4f9e-c41e-77ef2706f765",
        "colab": {
          "base_uri": "https://localhost:8080/",
          "height": 197
        }
      },
      "source": [
        "print(\"Sum of X_train columns: \", len(X_train.columns.values))\n",
        "print(\"Columns of X_train: \\n\", X_train.columns.values)"
      ],
      "execution_count": 75,
      "outputs": [
        {
          "output_type": "stream",
          "text": [
            "Sum of X_train columns:  56\n",
            "Columns of X_train: \n",
            " ['holiday' 'workingday' 'temp' 'atemp' 'windspeed' 'season_1' 'season_2'\n",
            " 'season_3' 'season_4' 'mnth_1' 'mnth_2' 'mnth_3' 'mnth_4' 'mnth_5'\n",
            " 'mnth_6' 'mnth_7' 'mnth_8' 'mnth_9' 'mnth_10' 'mnth_11' 'mnth_12' 'hr_0'\n",
            " 'hr_1' 'hr_2' 'hr_3' 'hr_4' 'hr_5' 'hr_6' 'hr_7' 'hr_8' 'hr_9' 'hr_10'\n",
            " 'hr_11' 'hr_12' 'hr_13' 'hr_14' 'hr_15' 'hr_16' 'hr_17' 'hr_18' 'hr_19'\n",
            " 'hr_20' 'hr_21' 'hr_22' 'hr_23' 'weekday_0' 'weekday_1' 'weekday_2'\n",
            " 'weekday_3' 'weekday_4' 'weekday_5' 'weekday_6' 'weathersit_1'\n",
            " 'weathersit_2' 'weathersit_3' 'weathersit_4']\n"
          ],
          "name": "stdout"
        }
      ]
    },
    {
      "cell_type": "code",
      "metadata": {
        "id": "f-B873F7X1KM",
        "colab_type": "code",
        "colab": {}
      },
      "source": [
        "y_normalized = (y - y.min()) / (y.max() - y.min())\n",
        "y_normalized.head()\n",
        "\n",
        "y_train = y[0:days_for_training]\n",
        "y_test = y[days_for_training:]\n",
        "y_train_normalized = y_normalized[0:days_for_training]\n",
        "y_test_normalized = y_normalized[days_for_training:]"
      ],
      "execution_count": 0,
      "outputs": []
    },
    {
      "cell_type": "code",
      "metadata": {
        "id": "LcvVtXCozsOk",
        "colab_type": "code",
        "outputId": "c1b5715e-4826-4cda-a345-04affae74d5a",
        "colab": {
          "base_uri": "https://localhost:8080/",
          "height": 323
        }
      },
      "source": [
        "features = X.shape[1]\n",
        "\n",
        "model = Sequential()\n",
        "model.add(Dense(58, input_shape=(features,), activation='relu'))\n",
        "model.add(Dropout(0.1))\n",
        "model.add(Dense(58, input_shape=(features,), activation='relu'))\n",
        "model.add(Dropout(0.1))\n",
        "model.add(Dense(1, activation='linear'))\n",
        "\n",
        "model.summary()"
      ],
      "execution_count": 225,
      "outputs": [
        {
          "output_type": "stream",
          "text": [
            "_________________________________________________________________\n",
            "Layer (type)                 Output Shape              Param #   \n",
            "=================================================================\n",
            "dense_85 (Dense)             (None, 58)                3306      \n",
            "_________________________________________________________________\n",
            "dropout_42 (Dropout)         (None, 58)                0         \n",
            "_________________________________________________________________\n",
            "dense_86 (Dense)             (None, 58)                3422      \n",
            "_________________________________________________________________\n",
            "dropout_43 (Dropout)         (None, 58)                0         \n",
            "_________________________________________________________________\n",
            "dense_87 (Dense)             (None, 1)                 59        \n",
            "=================================================================\n",
            "Total params: 6,787\n",
            "Trainable params: 6,787\n",
            "Non-trainable params: 0\n",
            "_________________________________________________________________\n"
          ],
          "name": "stdout"
        }
      ]
    },
    {
      "cell_type": "code",
      "metadata": {
        "id": "_qProfrpzsLM",
        "colab_type": "code",
        "colab": {}
      },
      "source": [
        "#compile model using mse as a measure of model performance\n",
        "sgd = SGD(lr=0.01)\n",
        "model.compile(optimizer=sgd, \n",
        "              loss=\"mean_squared_error\")"
      ],
      "execution_count": 0,
      "outputs": []
    },
    {
      "cell_type": "code",
      "metadata": {
        "id": "IEZfQ9tE0atl",
        "colab_type": "code",
        "outputId": "7707ffcb-07e0-414a-fffe-74332a92eedd",
        "colab": {
          "base_uri": "https://localhost:8080/",
          "height": 1000
        }
      },
      "source": [
        "#set early stopping monitor so the model stops training when it won't improve anymore\n",
        "early_stopping_monitor = EarlyStopping(patience=10)\n",
        "results = model.fit(X.sample(frac=1),\n",
        "                    y_normalized.sample(frac=1),\n",
        "                    validation_split = 0.2,\n",
        "                    #validation_data = (X_test, y_test_normalized),\n",
        "                    epochs = 50,\n",
        "                    batch_size = 28,\n",
        "                    callbacks = [early_stopping_monitor],\n",
        "                    verbose = 1) "
      ],
      "execution_count": 227,
      "outputs": [
        {
          "output_type": "stream",
          "text": [
            "Train on 13903 samples, validate on 3476 samples\n",
            "Epoch 1/50\n",
            "13903/13903 [==============================] - 3s 191us/step - loss: 0.0528 - val_loss: 0.0378\n",
            "Epoch 2/50\n",
            "13903/13903 [==============================] - 1s 59us/step - loss: 0.0414 - val_loss: 0.0362\n",
            "Epoch 3/50\n",
            "13903/13903 [==============================] - 1s 59us/step - loss: 0.0391 - val_loss: 0.0357\n",
            "Epoch 4/50\n",
            "13903/13903 [==============================] - 1s 59us/step - loss: 0.0381 - val_loss: 0.0353\n",
            "Epoch 5/50\n",
            "13903/13903 [==============================] - 1s 60us/step - loss: 0.0374 - val_loss: 0.0352\n",
            "Epoch 6/50\n",
            "13903/13903 [==============================] - 1s 59us/step - loss: 0.0366 - val_loss: 0.0350\n",
            "Epoch 7/50\n",
            "13903/13903 [==============================] - 1s 59us/step - loss: 0.0363 - val_loss: 0.0349\n",
            "Epoch 8/50\n",
            "13903/13903 [==============================] - 1s 58us/step - loss: 0.0361 - val_loss: 0.0347\n",
            "Epoch 9/50\n",
            "13903/13903 [==============================] - 1s 59us/step - loss: 0.0360 - val_loss: 0.0347\n",
            "Epoch 10/50\n",
            "13903/13903 [==============================] - 1s 59us/step - loss: 0.0358 - val_loss: 0.0346\n",
            "Epoch 11/50\n",
            "13903/13903 [==============================] - 1s 59us/step - loss: 0.0356 - val_loss: 0.0346\n",
            "Epoch 12/50\n",
            "13903/13903 [==============================] - 1s 59us/step - loss: 0.0356 - val_loss: 0.0346\n",
            "Epoch 13/50\n",
            "13903/13903 [==============================] - 1s 60us/step - loss: 0.0356 - val_loss: 0.0346\n",
            "Epoch 14/50\n",
            "13903/13903 [==============================] - 1s 59us/step - loss: 0.0354 - val_loss: 0.0345\n",
            "Epoch 15/50\n",
            "13903/13903 [==============================] - 1s 60us/step - loss: 0.0354 - val_loss: 0.0345\n",
            "Epoch 16/50\n",
            "13903/13903 [==============================] - 1s 60us/step - loss: 0.0351 - val_loss: 0.0345\n",
            "Epoch 17/50\n",
            "13903/13903 [==============================] - 1s 60us/step - loss: 0.0351 - val_loss: 0.0345\n",
            "Epoch 18/50\n",
            "13903/13903 [==============================] - 1s 60us/step - loss: 0.0351 - val_loss: 0.0344\n",
            "Epoch 19/50\n",
            "13903/13903 [==============================] - 1s 59us/step - loss: 0.0350 - val_loss: 0.0344\n",
            "Epoch 20/50\n",
            "13903/13903 [==============================] - 1s 60us/step - loss: 0.0351 - val_loss: 0.0345\n",
            "Epoch 21/50\n",
            "13903/13903 [==============================] - 1s 59us/step - loss: 0.0351 - val_loss: 0.0344\n",
            "Epoch 22/50\n",
            "13903/13903 [==============================] - 1s 60us/step - loss: 0.0350 - val_loss: 0.0344\n",
            "Epoch 23/50\n",
            "13903/13903 [==============================] - 1s 59us/step - loss: 0.0349 - val_loss: 0.0344\n",
            "Epoch 24/50\n",
            "13903/13903 [==============================] - 1s 60us/step - loss: 0.0349 - val_loss: 0.0344\n",
            "Epoch 25/50\n",
            "13903/13903 [==============================] - 1s 59us/step - loss: 0.0349 - val_loss: 0.0344\n",
            "Epoch 26/50\n",
            "13903/13903 [==============================] - 1s 60us/step - loss: 0.0348 - val_loss: 0.0344\n",
            "Epoch 27/50\n",
            "13903/13903 [==============================] - 1s 59us/step - loss: 0.0348 - val_loss: 0.0344\n",
            "Epoch 28/50\n",
            "13903/13903 [==============================] - 1s 60us/step - loss: 0.0348 - val_loss: 0.0344\n",
            "Epoch 29/50\n",
            "13903/13903 [==============================] - 1s 59us/step - loss: 0.0348 - val_loss: 0.0344\n",
            "Epoch 30/50\n",
            "13903/13903 [==============================] - 1s 59us/step - loss: 0.0347 - val_loss: 0.0344\n",
            "Epoch 31/50\n",
            "13903/13903 [==============================] - 1s 60us/step - loss: 0.0348 - val_loss: 0.0344\n",
            "Epoch 32/50\n",
            "13903/13903 [==============================] - 1s 60us/step - loss: 0.0347 - val_loss: 0.0344\n",
            "Epoch 33/50\n",
            "13903/13903 [==============================] - 1s 60us/step - loss: 0.0347 - val_loss: 0.0344\n",
            "Epoch 34/50\n",
            "13903/13903 [==============================] - 1s 61us/step - loss: 0.0346 - val_loss: 0.0344\n",
            "Epoch 35/50\n",
            "13903/13903 [==============================] - 1s 60us/step - loss: 0.0348 - val_loss: 0.0344\n",
            "Epoch 36/50\n",
            "13903/13903 [==============================] - 1s 60us/step - loss: 0.0346 - val_loss: 0.0344\n",
            "Epoch 37/50\n",
            "13903/13903 [==============================] - 1s 59us/step - loss: 0.0347 - val_loss: 0.0344\n",
            "Epoch 38/50\n",
            "13903/13903 [==============================] - 1s 59us/step - loss: 0.0347 - val_loss: 0.0344\n",
            "Epoch 39/50\n",
            "13903/13903 [==============================] - 1s 60us/step - loss: 0.0346 - val_loss: 0.0344\n",
            "Epoch 40/50\n",
            "13903/13903 [==============================] - 1s 59us/step - loss: 0.0347 - val_loss: 0.0344\n",
            "Epoch 41/50\n",
            "13903/13903 [==============================] - 1s 59us/step - loss: 0.0346 - val_loss: 0.0344\n"
          ],
          "name": "stdout"
        }
      ]
    },
    {
      "cell_type": "code",
      "metadata": {
        "id": "Lm1mCYfGzsEN",
        "colab_type": "code",
        "outputId": "9087067d-e41f-4179-cc3d-3fe4e5847aef",
        "colab": {
          "base_uri": "https://localhost:8080/",
          "height": 287
        }
      },
      "source": [
        "results.history\n",
        "pd.DataFrame.from_dict(results.history).plot()"
      ],
      "execution_count": 228,
      "outputs": [
        {
          "output_type": "execute_result",
          "data": {
            "text/plain": [
              "<matplotlib.axes._subplots.AxesSubplot at 0x7fac24a5b4e0>"
            ]
          },
          "metadata": {
            "tags": []
          },
          "execution_count": 228
        },
        {
          "output_type": "display_data",
          "data": {
            "image/png": "[encoded data removed]",
            "text/plain": [
              "<Figure size 432x288 with 1 Axes>"
            ]
          },
          "metadata": {
            "tags": []
          }
        }
      ]
    },
    {
      "cell_type": "code",
      "metadata": {
        "id": "8S1MsqX3DU0K",
        "colab_type": "code",
        "colab": {}
      },
      "source": [
        ""
      ],
      "execution_count": 0,
      "outputs": []
    }
  ]
}
