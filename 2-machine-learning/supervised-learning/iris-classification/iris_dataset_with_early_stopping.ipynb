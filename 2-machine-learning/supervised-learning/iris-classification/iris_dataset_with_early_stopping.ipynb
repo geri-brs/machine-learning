{
  "nbformat": 4,
  "nbformat_minor": 0,
  "metadata": {
    "colab": {
      "name": "iris_dataset_with_early_stopping.ipynb",
      "version": "0.3.2",
      "provenance": [],
      "collapsed_sections": []
    },
    "kernelspec": {
      "name": "python3",
      "display_name": "Python 3"
    }
  },
  "cells": [
    {
      "cell_type": "code",
      "metadata": {
        "id": "JHIiPgADxDsE",
        "colab_type": "code",
        "outputId": "011b16cd-2e9a-4c78-f75d-86a7d5475f79",
        "colab": {
          "resources": {
            "http://localhost:8080/nbextensions/google.colab/files.js": {
              "data": "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",
              "ok": true,
              "headers": [
                [
                  "content-type",
                  "application/javascript"
                ]
              ],
              "status": 200,
              "status_text": ""
            }
          },
          "base_uri": "https://localhost:8080/",
          "height": 74
        }
      },
      "source": [
        "# Upload dataset\n",
        "from google.colab import files\n",
        "uploaded = files.upload()"
      ],
      "execution_count": 1,
      "outputs": [
        {
          "output_type": "display_data",
          "data": {
            "text/html": [
              "\n",
              "     <input type=\"file\" id=\"files-1086f9af-05b2-4468-8b9a-fab8b306b92b\" name=\"files[]\" multiple disabled />\n",
              "     <output id=\"result-1086f9af-05b2-4468-8b9a-fab8b306b92b\">\n",
              "      Upload widget is only available when the cell has been executed in the\n",
              "      current browser session. Please rerun this cell to enable.\n",
              "      </output>\n",
              "      <script src=\"/nbextensions/google.colab/files.js\"></script> "
            ],
            "text/plain": [
              "<IPython.core.display.HTML object>"
            ]
          },
          "metadata": {
            "tags": []
          }
        },
        {
          "output_type": "stream",
          "text": [
            "Saving data-iris.csv to data-iris.csv\n"
          ],
          "name": "stdout"
        }
      ]
    },
    {
      "cell_type": "code",
      "metadata": {
        "id": "KS0yheob-F2d",
        "colab_type": "code",
        "colab": {}
      },
      "source": [
        "# %matplotlib inline\n",
        "import numpy\n",
        "import pandas            as pd\n",
        "import matplotlib.pyplot as plt\n",
        "import tensorflow        as tf\n",
        "from   tensorflow.keras           import layers\n",
        "from   sklearn.preprocessing      import LabelEncoder, OneHotEncoder\n",
        "from   sklearn.model_selection    import train_test_split\n",
        "from   tensorflow.keras.callbacks import EarlyStopping"
      ],
      "execution_count": 0,
      "outputs": []
    },
    {
      "cell_type": "code",
      "metadata": {
        "id": "C4pEU8B3Do_P",
        "colab_type": "code",
        "outputId": "6a804f53-f839-4361-d5ef-cdda0a78660f",
        "colab": {
          "base_uri": "https://localhost:8080/",
          "height": 68
        }
      },
      "source": [
        "print(\"Versions:\")\n",
        "print(\"Tensorflow:\", tf.VERSION)\n",
        "# 1.14.0-rc1\n",
        "print(\"Keras: \", tf.keras.__version__)\n",
        "#2.2.4-tf"
      ],
      "execution_count": 3,
      "outputs": [
        {
          "output_type": "stream",
          "text": [
            "Versions:\n",
            "Tensorflow: 1.14.0\n",
            "Keras:  2.2.4-tf\n"
          ],
          "name": "stdout"
        }
      ]
    },
    {
      "cell_type": "code",
      "metadata": {
        "id": "GIIHNyinDo35",
        "colab_type": "code",
        "colab": {}
      },
      "source": [
        "# Fix random seed for reproducibility\n",
        "numpy.random.seed(7)"
      ],
      "execution_count": 0,
      "outputs": []
    },
    {
      "cell_type": "code",
      "metadata": {
        "id": "L38-NlO6Doz3",
        "colab_type": "code",
        "colab": {}
      },
      "source": [
        "# Load iris dataset\n",
        "path = \"./data-iris.csv\"\n",
        "dataset = pd.read_csv(path)"
      ],
      "execution_count": 0,
      "outputs": []
    },
    {
      "cell_type": "code",
      "metadata": {
        "id": "dsk63Ah-Dou4",
        "colab_type": "code",
        "colab": {}
      },
      "source": [
        "# print(features)\n",
        "features = list(dataset.columns.values)"
      ],
      "execution_count": 0,
      "outputs": []
    },
    {
      "cell_type": "code",
      "metadata": {
        "id": "qMSlKoGwDoqI",
        "colab_type": "code",
        "colab": {}
      },
      "source": [
        "# Extract output values(y) from dataset, remove unnecessary columns \n",
        "y = dataset.iloc[:, -1:].values\n",
        "features.remove('Species')\n",
        "features.remove('Id')\n",
        "X = dataset[features]"
      ],
      "execution_count": 0,
      "outputs": []
    },
    {
      "cell_type": "code",
      "metadata": {
        "id": "b8WVvNlekjFZ",
        "colab_type": "code",
        "colab": {}
      },
      "source": [
        "# One hot encoding\n",
        "le = LabelEncoder()\n",
        "y[:, 0] = le.fit_transform(y[:, 0])\n",
        "y = pd.Series(y.reshape(150,))"
      ],
      "execution_count": 0,
      "outputs": []
    },
    {
      "cell_type": "code",
      "metadata": {
        "id": "7G5W7ix2Dole",
        "colab_type": "code",
        "colab": {}
      },
      "source": [
        "TESTSIZE = 0.25\n",
        "X_train, X_test, y_train, y_test = train_test_split(X, y, test_size=TESTSIZE, random_state=0)"
      ],
      "execution_count": 0,
      "outputs": []
    },
    {
      "cell_type": "code",
      "metadata": {
        "id": "EfqMeeGPD2GQ",
        "colab_type": "code",
        "colab": {}
      },
      "source": [
        "# Ensure that fieldnames aren't included\n",
        "X_train = X_train.values\n",
        "y_train = y_train.values\n",
        "X_test  = X_test.values\n",
        "y_test  = y_test.values"
      ],
      "execution_count": 0,
      "outputs": []
    },
    {
      "cell_type": "code",
      "metadata": {
        "id": "mnPxlQpzD1_G",
        "colab_type": "code",
        "colab": {}
      },
      "source": [
        "NB_EPOCHS = 150  # num of epochs to test for\n",
        "BATCH_SIZE = 4"
      ],
      "execution_count": 0,
      "outputs": []
    },
    {
      "cell_type": "code",
      "metadata": {
        "id": "PUF6caPeD4lH",
        "colab_type": "code",
        "colab": {}
      },
      "source": [
        "## Create our model\n",
        "model = tf.keras.Sequential()\n",
        "model.add(layers.Dense(6, input_dim=4, activation='elu'))\n",
        "model.add(layers.Dense(6, activation='elu'))\n",
        "model.add(layers.Dense(3, activation='sigmoid' ))"
      ],
      "execution_count": 0,
      "outputs": []
    },
    {
      "cell_type": "code",
      "metadata": {
        "id": "Oha5A-zE3bGP",
        "colab_type": "code",
        "colab": {}
      },
      "source": [
        "# Compile the model\n",
        "model.compile(loss='sparse_categorical_crossentropy', \n",
        "              optimizer='adam',\n",
        "              metrics=['accuracy'])"
      ],
      "execution_count": 0,
      "outputs": []
    },
    {
      "cell_type": "code",
      "metadata": {
        "id": "hare7-lt3e5P",
        "colab_type": "code",
        "colab": {}
      },
      "source": [
        "# checkpoint: store the best model\n",
        "ckpt_model = 'iris-weights.best.hdf5'\n",
        "checkpoint = tf.keras.callbacks.ModelCheckpoint(ckpt_model,\n",
        "                            monitor='val_acc',\n",
        "                            verbose=1,\n",
        "                            save_best_only=True,\n",
        "                            mode='max')\n",
        "callbacks_list = [checkpoint]"
      ],
      "execution_count": 0,
      "outputs": []
    },
    {
      "cell_type": "code",
      "metadata": {
        "id": "2EyCjMkR3guX",
        "colab_type": "code",
        "outputId": "f28c2b6c-3b77-43f6-e2a6-139f386ba68e",
        "colab": {
          "base_uri": "https://localhost:8080/",
          "height": 1000
        }
      },
      "source": [
        "#Set early stopping monitor\n",
        "early_stopping_monitor = EarlyStopping(patience=10)\n",
        "# Train the model, store the results for plotting\n",
        "print('Training...')\n",
        "history = model.fit(X_train,\n",
        "                    y_train,\n",
        "                    validation_split = 0.3,\n",
        "                    nb_epoch=NB_EPOCHS,\n",
        "                    batch_size=BATCH_SIZE,\n",
        "                    callbacks=[early_stopping_monitor])"
      ],
      "execution_count": 67,
      "outputs": [
        {
          "output_type": "stream",
          "text": [
            "W0722 12:48:47.031901 140477747918720 training.py:593] The `nb_epoch` argument in `fit` has been renamed `epochs`.\n"
          ],
          "name": "stderr"
        },
        {
          "output_type": "stream",
          "text": [
            "Training...\n",
            "Train on 78 samples, validate on 34 samples\n",
            "Epoch 1/150\n",
            "78/78 [==============================] - 0s 3ms/sample - loss: 1.1427 - acc: 0.2821 - val_loss: 1.0639 - val_acc: 0.3529\n",
            "Epoch 2/150\n",
            "78/78 [==============================] - 0s 473us/sample - loss: 1.0572 - acc: 0.3333 - val_loss: 1.0174 - val_acc: 0.5000\n",
            "Epoch 3/150\n",
            "78/78 [==============================] - 0s 453us/sample - loss: 1.0054 - acc: 0.4103 - val_loss: 0.9788 - val_acc: 0.3529\n",
            "Epoch 4/150\n",
            "78/78 [==============================] - 0s 468us/sample - loss: 0.9695 - acc: 0.3846 - val_loss: 0.9561 - val_acc: 0.3235\n",
            "Epoch 5/150\n",
            "78/78 [==============================] - 0s 427us/sample - loss: 0.9357 - acc: 0.3846 - val_loss: 0.9351 - val_acc: 0.3235\n",
            "Epoch 6/150\n",
            "78/78 [==============================] - 0s 473us/sample - loss: 0.9089 - acc: 0.4231 - val_loss: 0.9193 - val_acc: 0.3529\n",
            "Epoch 7/150\n",
            "78/78 [==============================] - 0s 426us/sample - loss: 0.8928 - acc: 0.4615 - val_loss: 0.9072 - val_acc: 0.5000\n",
            "Epoch 8/150\n",
            "78/78 [==============================] - 0s 474us/sample - loss: 0.8669 - acc: 0.6154 - val_loss: 0.8797 - val_acc: 0.6471\n",
            "Epoch 9/150\n",
            "78/78 [==============================] - 0s 492us/sample - loss: 0.8495 - acc: 0.7179 - val_loss: 0.8559 - val_acc: 0.6471\n",
            "Epoch 10/150\n",
            "78/78 [==============================] - 0s 468us/sample - loss: 0.8268 - acc: 0.7179 - val_loss: 0.8392 - val_acc: 0.6471\n",
            "Epoch 11/150\n",
            "78/78 [==============================] - 0s 452us/sample - loss: 0.8054 - acc: 0.7179 - val_loss: 0.8207 - val_acc: 0.6471\n",
            "Epoch 12/150\n",
            "78/78 [==============================] - 0s 448us/sample - loss: 0.7813 - acc: 0.7179 - val_loss: 0.8004 - val_acc: 0.6471\n",
            "Epoch 13/150\n",
            "78/78 [==============================] - 0s 564us/sample - loss: 0.7592 - acc: 0.7179 - val_loss: 0.7718 - val_acc: 0.6471\n",
            "Epoch 14/150\n",
            "78/78 [==============================] - 0s 532us/sample - loss: 0.7354 - acc: 0.7179 - val_loss: 0.7470 - val_acc: 0.6471\n",
            "Epoch 15/150\n",
            "78/78 [==============================] - 0s 472us/sample - loss: 0.7182 - acc: 0.7179 - val_loss: 0.7423 - val_acc: 0.6471\n",
            "Epoch 16/150\n",
            "78/78 [==============================] - 0s 424us/sample - loss: 0.6924 - acc: 0.7179 - val_loss: 0.7061 - val_acc: 0.6471\n",
            "Epoch 17/150\n",
            "78/78 [==============================] - 0s 482us/sample - loss: 0.6711 - acc: 0.7308 - val_loss: 0.6752 - val_acc: 0.6765\n",
            "Epoch 18/150\n",
            "78/78 [==============================] - 0s 454us/sample - loss: 0.6473 - acc: 0.7436 - val_loss: 0.6536 - val_acc: 0.6765\n",
            "Epoch 19/150\n",
            "78/78 [==============================] - 0s 460us/sample - loss: 0.6215 - acc: 0.7308 - val_loss: 0.6368 - val_acc: 0.6471\n",
            "Epoch 20/150\n",
            "78/78 [==============================] - 0s 464us/sample - loss: 0.5990 - acc: 0.7179 - val_loss: 0.6131 - val_acc: 0.6471\n",
            "Epoch 21/150\n",
            "78/78 [==============================] - 0s 453us/sample - loss: 0.5760 - acc: 0.7308 - val_loss: 0.5832 - val_acc: 0.6765\n",
            "Epoch 22/150\n",
            "78/78 [==============================] - 0s 455us/sample - loss: 0.5511 - acc: 0.7436 - val_loss: 0.5603 - val_acc: 0.7059\n",
            "Epoch 23/150\n",
            "78/78 [==============================] - 0s 472us/sample - loss: 0.5319 - acc: 0.7564 - val_loss: 0.5396 - val_acc: 0.7059\n",
            "Epoch 24/150\n",
            "78/78 [==============================] - 0s 452us/sample - loss: 0.5104 - acc: 0.7436 - val_loss: 0.5211 - val_acc: 0.7059\n",
            "Epoch 25/150\n",
            "78/78 [==============================] - 0s 472us/sample - loss: 0.4946 - acc: 0.7564 - val_loss: 0.5070 - val_acc: 0.7059\n",
            "Epoch 26/150\n",
            "78/78 [==============================] - 0s 546us/sample - loss: 0.4759 - acc: 0.7436 - val_loss: 0.4896 - val_acc: 0.7353\n",
            "Epoch 27/150\n",
            "78/78 [==============================] - 0s 457us/sample - loss: 0.4666 - acc: 0.8718 - val_loss: 0.4623 - val_acc: 0.8235\n",
            "Epoch 28/150\n",
            "78/78 [==============================] - 0s 464us/sample - loss: 0.4453 - acc: 0.8205 - val_loss: 0.4599 - val_acc: 0.7353\n",
            "Epoch 29/150\n",
            "78/78 [==============================] - 0s 451us/sample - loss: 0.4331 - acc: 0.7692 - val_loss: 0.4478 - val_acc: 0.7647\n",
            "Epoch 30/150\n",
            "78/78 [==============================] - 0s 451us/sample - loss: 0.4289 - acc: 0.7692 - val_loss: 0.4357 - val_acc: 0.7647\n",
            "Epoch 31/150\n",
            "78/78 [==============================] - 0s 466us/sample - loss: 0.4106 - acc: 0.8462 - val_loss: 0.4155 - val_acc: 0.8529\n",
            "Epoch 32/150\n",
            "78/78 [==============================] - 0s 474us/sample - loss: 0.4017 - acc: 0.8590 - val_loss: 0.4133 - val_acc: 0.8235\n",
            "Epoch 33/150\n",
            "78/78 [==============================] - 0s 436us/sample - loss: 0.3949 - acc: 0.8718 - val_loss: 0.3982 - val_acc: 0.8529\n",
            "Epoch 34/150\n",
            "78/78 [==============================] - 0s 435us/sample - loss: 0.3932 - acc: 0.7564 - val_loss: 0.4058 - val_acc: 0.7647\n",
            "Epoch 35/150\n",
            "78/78 [==============================] - 0s 586us/sample - loss: 0.3838 - acc: 0.8846 - val_loss: 0.3779 - val_acc: 0.8824\n",
            "Epoch 36/150\n",
            "78/78 [==============================] - 0s 503us/sample - loss: 0.3644 - acc: 0.8846 - val_loss: 0.3714 - val_acc: 0.8824\n",
            "Epoch 37/150\n",
            "78/78 [==============================] - 0s 448us/sample - loss: 0.3570 - acc: 0.8846 - val_loss: 0.3662 - val_acc: 0.8824\n",
            "Epoch 38/150\n",
            "78/78 [==============================] - 0s 464us/sample - loss: 0.3538 - acc: 0.8718 - val_loss: 0.3740 - val_acc: 0.8235\n",
            "Epoch 39/150\n",
            "78/78 [==============================] - 0s 460us/sample - loss: 0.3434 - acc: 0.8462 - val_loss: 0.3519 - val_acc: 0.8824\n",
            "Epoch 40/150\n",
            "78/78 [==============================] - 0s 460us/sample - loss: 0.3373 - acc: 0.9103 - val_loss: 0.3494 - val_acc: 0.8824\n",
            "Epoch 41/150\n",
            "78/78 [==============================] - 0s 433us/sample - loss: 0.3356 - acc: 0.9231 - val_loss: 0.3358 - val_acc: 0.9118\n",
            "Epoch 42/150\n",
            "78/78 [==============================] - 0s 439us/sample - loss: 0.3215 - acc: 0.8974 - val_loss: 0.3457 - val_acc: 0.8824\n",
            "Epoch 43/150\n",
            "78/78 [==============================] - 0s 444us/sample - loss: 0.3159 - acc: 0.8974 - val_loss: 0.3266 - val_acc: 0.9118\n",
            "Epoch 44/150\n",
            "78/78 [==============================] - 0s 440us/sample - loss: 0.3123 - acc: 0.8974 - val_loss: 0.3134 - val_acc: 0.9118\n",
            "Epoch 45/150\n",
            "78/78 [==============================] - 0s 444us/sample - loss: 0.3054 - acc: 0.9615 - val_loss: 0.3125 - val_acc: 0.9118\n",
            "Epoch 46/150\n",
            "78/78 [==============================] - 0s 471us/sample - loss: 0.2955 - acc: 0.9487 - val_loss: 0.3086 - val_acc: 0.9118\n",
            "Epoch 47/150\n",
            "78/78 [==============================] - 0s 450us/sample - loss: 0.2871 - acc: 0.9103 - val_loss: 0.3064 - val_acc: 0.9118\n",
            "Epoch 48/150\n",
            "78/78 [==============================] - 0s 444us/sample - loss: 0.2797 - acc: 0.9615 - val_loss: 0.2908 - val_acc: 0.9118\n",
            "Epoch 49/150\n",
            "78/78 [==============================] - 0s 451us/sample - loss: 0.2737 - acc: 0.9872 - val_loss: 0.2834 - val_acc: 0.9118\n",
            "Epoch 50/150\n",
            "78/78 [==============================] - 0s 462us/sample - loss: 0.2658 - acc: 0.9487 - val_loss: 0.2830 - val_acc: 0.9118\n",
            "Epoch 51/150\n",
            "78/78 [==============================] - 0s 489us/sample - loss: 0.2600 - acc: 0.9487 - val_loss: 0.2763 - val_acc: 0.9118\n",
            "Epoch 52/150\n",
            "78/78 [==============================] - 0s 491us/sample - loss: 0.2534 - acc: 0.9744 - val_loss: 0.2666 - val_acc: 0.9118\n",
            "Epoch 53/150\n",
            "78/78 [==============================] - 0s 424us/sample - loss: 0.2452 - acc: 0.9872 - val_loss: 0.2650 - val_acc: 0.9118\n",
            "Epoch 54/150\n",
            "78/78 [==============================] - 0s 443us/sample - loss: 0.2396 - acc: 0.9744 - val_loss: 0.2630 - val_acc: 0.9118\n",
            "Epoch 55/150\n",
            "78/78 [==============================] - 0s 438us/sample - loss: 0.2319 - acc: 0.9872 - val_loss: 0.2471 - val_acc: 0.9118\n",
            "Epoch 56/150\n",
            "78/78 [==============================] - 0s 454us/sample - loss: 0.2302 - acc: 1.0000 - val_loss: 0.2500 - val_acc: 0.9118\n",
            "Epoch 57/150\n",
            "78/78 [==============================] - 0s 481us/sample - loss: 0.2246 - acc: 0.9744 - val_loss: 0.2392 - val_acc: 0.9118\n",
            "Epoch 58/150\n",
            "78/78 [==============================] - 0s 454us/sample - loss: 0.2144 - acc: 0.9744 - val_loss: 0.2376 - val_acc: 0.9118\n",
            "Epoch 59/150\n",
            "78/78 [==============================] - 0s 453us/sample - loss: 0.2103 - acc: 0.9872 - val_loss: 0.2282 - val_acc: 0.9118\n",
            "Epoch 60/150\n",
            "78/78 [==============================] - 0s 461us/sample - loss: 0.2049 - acc: 0.9872 - val_loss: 0.2257 - val_acc: 0.9118\n",
            "Epoch 61/150\n",
            "78/78 [==============================] - 0s 471us/sample - loss: 0.2049 - acc: 0.9744 - val_loss: 0.2144 - val_acc: 0.9412\n",
            "Epoch 62/150\n",
            "78/78 [==============================] - 0s 460us/sample - loss: 0.1951 - acc: 1.0000 - val_loss: 0.2233 - val_acc: 0.9118\n",
            "Epoch 63/150\n",
            "78/78 [==============================] - 0s 511us/sample - loss: 0.1932 - acc: 0.9872 - val_loss: 0.2101 - val_acc: 0.9118\n",
            "Epoch 64/150\n",
            "78/78 [==============================] - 0s 491us/sample - loss: 0.1942 - acc: 0.9872 - val_loss: 0.2076 - val_acc: 0.9118\n",
            "Epoch 65/150\n",
            "78/78 [==============================] - 0s 449us/sample - loss: 0.1877 - acc: 1.0000 - val_loss: 0.2051 - val_acc: 0.9118\n",
            "Epoch 66/150\n",
            "78/78 [==============================] - 0s 438us/sample - loss: 0.1790 - acc: 0.9872 - val_loss: 0.2030 - val_acc: 0.9118\n",
            "Epoch 67/150\n",
            "78/78 [==============================] - 0s 486us/sample - loss: 0.1823 - acc: 0.9744 - val_loss: 0.2000 - val_acc: 0.9118\n",
            "Epoch 68/150\n",
            "78/78 [==============================] - 0s 555us/sample - loss: 0.1705 - acc: 0.9872 - val_loss: 0.1902 - val_acc: 0.9412\n",
            "Epoch 69/150\n",
            "78/78 [==============================] - 0s 479us/sample - loss: 0.1667 - acc: 1.0000 - val_loss: 0.1923 - val_acc: 0.9118\n",
            "Epoch 70/150\n",
            "78/78 [==============================] - 0s 439us/sample - loss: 0.1611 - acc: 0.9872 - val_loss: 0.1891 - val_acc: 0.9118\n",
            "Epoch 71/150\n",
            "78/78 [==============================] - 0s 436us/sample - loss: 0.1576 - acc: 0.9872 - val_loss: 0.1856 - val_acc: 0.9118\n",
            "Epoch 72/150\n",
            "78/78 [==============================] - 0s 437us/sample - loss: 0.1571 - acc: 1.0000 - val_loss: 0.1860 - val_acc: 0.9118\n",
            "Epoch 73/150\n",
            "78/78 [==============================] - 0s 477us/sample - loss: 0.1559 - acc: 0.9872 - val_loss: 0.1894 - val_acc: 0.9118\n",
            "Epoch 74/150\n",
            "78/78 [==============================] - 0s 448us/sample - loss: 0.1595 - acc: 0.9872 - val_loss: 0.1758 - val_acc: 0.9412\n",
            "Epoch 75/150\n",
            "78/78 [==============================] - 0s 470us/sample - loss: 0.1604 - acc: 0.9744 - val_loss: 0.1986 - val_acc: 0.9118\n",
            "Epoch 76/150\n",
            "78/78 [==============================] - 0s 476us/sample - loss: 0.1476 - acc: 1.0000 - val_loss: 0.1662 - val_acc: 0.9412\n",
            "Epoch 77/150\n",
            "78/78 [==============================] - 0s 436us/sample - loss: 0.1393 - acc: 0.9872 - val_loss: 0.1944 - val_acc: 0.9118\n",
            "Epoch 78/150\n",
            "78/78 [==============================] - 0s 463us/sample - loss: 0.1386 - acc: 0.9872 - val_loss: 0.1726 - val_acc: 0.9118\n",
            "Epoch 79/150\n",
            "78/78 [==============================] - 0s 462us/sample - loss: 0.1387 - acc: 1.0000 - val_loss: 0.1686 - val_acc: 0.9118\n",
            "Epoch 80/150\n",
            "78/78 [==============================] - 0s 561us/sample - loss: 0.1332 - acc: 0.9872 - val_loss: 0.1727 - val_acc: 0.9118\n",
            "Epoch 81/150\n",
            "78/78 [==============================] - 0s 451us/sample - loss: 0.1295 - acc: 0.9872 - val_loss: 0.1641 - val_acc: 0.9118\n",
            "Epoch 82/150\n",
            "78/78 [==============================] - 0s 460us/sample - loss: 0.1284 - acc: 0.9872 - val_loss: 0.1660 - val_acc: 0.9118\n",
            "Epoch 83/150\n",
            "78/78 [==============================] - 0s 409us/sample - loss: 0.1261 - acc: 0.9872 - val_loss: 0.1677 - val_acc: 0.9118\n",
            "Epoch 84/150\n",
            "78/78 [==============================] - 0s 474us/sample - loss: 0.1240 - acc: 0.9872 - val_loss: 0.1639 - val_acc: 0.9118\n",
            "Epoch 85/150\n",
            "78/78 [==============================] - 0s 434us/sample - loss: 0.1227 - acc: 0.9872 - val_loss: 0.1551 - val_acc: 0.9412\n",
            "Epoch 86/150\n",
            "78/78 [==============================] - 0s 506us/sample - loss: 0.1178 - acc: 0.9872 - val_loss: 0.1605 - val_acc: 0.9118\n",
            "Epoch 87/150\n",
            "78/78 [==============================] - 0s 443us/sample - loss: 0.1156 - acc: 0.9872 - val_loss: 0.1627 - val_acc: 0.9118\n",
            "Epoch 88/150\n",
            "78/78 [==============================] - 0s 466us/sample - loss: 0.1114 - acc: 0.9872 - val_loss: 0.1465 - val_acc: 0.9412\n",
            "Epoch 89/150\n",
            "78/78 [==============================] - 0s 469us/sample - loss: 0.1159 - acc: 0.9872 - val_loss: 0.1626 - val_acc: 0.9118\n",
            "Epoch 90/150\n",
            "78/78 [==============================] - 0s 430us/sample - loss: 0.1207 - acc: 0.9872 - val_loss: 0.1541 - val_acc: 0.9118\n",
            "Epoch 91/150\n",
            "78/78 [==============================] - 0s 447us/sample - loss: 0.1128 - acc: 0.9872 - val_loss: 0.1497 - val_acc: 0.9118\n",
            "Epoch 92/150\n",
            "78/78 [==============================] - 0s 457us/sample - loss: 0.1074 - acc: 0.9872 - val_loss: 0.1477 - val_acc: 0.9412\n",
            "Epoch 93/150\n",
            "78/78 [==============================] - 0s 476us/sample - loss: 0.1029 - acc: 0.9872 - val_loss: 0.1441 - val_acc: 0.9412\n",
            "Epoch 94/150\n",
            "78/78 [==============================] - 0s 456us/sample - loss: 0.1047 - acc: 0.9872 - val_loss: 0.1480 - val_acc: 0.9118\n",
            "Epoch 95/150\n",
            "78/78 [==============================] - 0s 431us/sample - loss: 0.1009 - acc: 0.9872 - val_loss: 0.1531 - val_acc: 0.9118\n",
            "Epoch 96/150\n",
            "78/78 [==============================] - 0s 484us/sample - loss: 0.0985 - acc: 0.9872 - val_loss: 0.1428 - val_acc: 0.9412\n",
            "Epoch 97/150\n",
            "78/78 [==============================] - 0s 443us/sample - loss: 0.0967 - acc: 0.9872 - val_loss: 0.1418 - val_acc: 0.9412\n",
            "Epoch 98/150\n",
            "78/78 [==============================] - 0s 455us/sample - loss: 0.0973 - acc: 0.9872 - val_loss: 0.1366 - val_acc: 0.9412\n",
            "Epoch 99/150\n",
            "78/78 [==============================] - 0s 490us/sample - loss: 0.0958 - acc: 0.9872 - val_loss: 0.1428 - val_acc: 0.9118\n",
            "Epoch 100/150\n",
            "78/78 [==============================] - 0s 444us/sample - loss: 0.0947 - acc: 0.9872 - val_loss: 0.1318 - val_acc: 0.9412\n",
            "Epoch 101/150\n",
            "78/78 [==============================] - 0s 447us/sample - loss: 0.0922 - acc: 0.9872 - val_loss: 0.1426 - val_acc: 0.9118\n",
            "Epoch 102/150\n",
            "78/78 [==============================] - 0s 505us/sample - loss: 0.0901 - acc: 0.9872 - val_loss: 0.1326 - val_acc: 0.9412\n",
            "Epoch 103/150\n",
            "78/78 [==============================] - 0s 458us/sample - loss: 0.0895 - acc: 0.9872 - val_loss: 0.1344 - val_acc: 0.9412\n",
            "Epoch 104/150\n",
            "78/78 [==============================] - 0s 469us/sample - loss: 0.0893 - acc: 0.9872 - val_loss: 0.1266 - val_acc: 0.9412\n",
            "Epoch 105/150\n",
            "78/78 [==============================] - 0s 437us/sample - loss: 0.0871 - acc: 0.9872 - val_loss: 0.1436 - val_acc: 0.9118\n",
            "Epoch 106/150\n",
            "78/78 [==============================] - 0s 480us/sample - loss: 0.0907 - acc: 0.9872 - val_loss: 0.1443 - val_acc: 0.9118\n",
            "Epoch 107/150\n",
            "78/78 [==============================] - 0s 436us/sample - loss: 0.0849 - acc: 0.9872 - val_loss: 0.1318 - val_acc: 0.9412\n",
            "Epoch 108/150\n",
            "78/78 [==============================] - 0s 493us/sample - loss: 0.0841 - acc: 0.9872 - val_loss: 0.1276 - val_acc: 0.9412\n",
            "Epoch 109/150\n",
            "78/78 [==============================] - 0s 509us/sample - loss: 0.0844 - acc: 0.9872 - val_loss: 0.1292 - val_acc: 0.9412\n",
            "Epoch 110/150\n",
            "78/78 [==============================] - 0s 420us/sample - loss: 0.0859 - acc: 0.9872 - val_loss: 0.1362 - val_acc: 0.9118\n",
            "Epoch 111/150\n",
            "78/78 [==============================] - 0s 452us/sample - loss: 0.0812 - acc: 1.0000 - val_loss: 0.1199 - val_acc: 0.9706\n",
            "Epoch 112/150\n",
            "78/78 [==============================] - 0s 462us/sample - loss: 0.0823 - acc: 0.9872 - val_loss: 0.1336 - val_acc: 0.9118\n",
            "Epoch 113/150\n",
            "78/78 [==============================] - 0s 480us/sample - loss: 0.0794 - acc: 0.9872 - val_loss: 0.1350 - val_acc: 0.9118\n",
            "Epoch 114/150\n",
            "78/78 [==============================] - 0s 459us/sample - loss: 0.0812 - acc: 0.9872 - val_loss: 0.1310 - val_acc: 0.9412\n",
            "Epoch 115/150\n",
            "78/78 [==============================] - 0s 404us/sample - loss: 0.0752 - acc: 0.9872 - val_loss: 0.1205 - val_acc: 0.9412\n",
            "Epoch 116/150\n",
            "78/78 [==============================] - 0s 461us/sample - loss: 0.0750 - acc: 0.9872 - val_loss: 0.1301 - val_acc: 0.9412\n",
            "Epoch 117/150\n",
            "78/78 [==============================] - 0s 469us/sample - loss: 0.0744 - acc: 0.9872 - val_loss: 0.1205 - val_acc: 0.9412\n",
            "Epoch 118/150\n",
            "78/78 [==============================] - 0s 463us/sample - loss: 0.0815 - acc: 0.9872 - val_loss: 0.1321 - val_acc: 0.9118\n",
            "Epoch 119/150\n",
            "78/78 [==============================] - 0s 441us/sample - loss: 0.0760 - acc: 0.9872 - val_loss: 0.1309 - val_acc: 0.9118\n",
            "Epoch 120/150\n",
            "78/78 [==============================] - 0s 441us/sample - loss: 0.0722 - acc: 0.9872 - val_loss: 0.1193 - val_acc: 0.9412\n",
            "Epoch 121/150\n",
            "78/78 [==============================] - 0s 465us/sample - loss: 0.0735 - acc: 0.9872 - val_loss: 0.1409 - val_acc: 0.9118\n",
            "Epoch 122/150\n",
            "78/78 [==============================] - 0s 443us/sample - loss: 0.0756 - acc: 0.9872 - val_loss: 0.1189 - val_acc: 0.9412\n",
            "Epoch 123/150\n",
            "78/78 [==============================] - 0s 510us/sample - loss: 0.0689 - acc: 0.9872 - val_loss: 0.1218 - val_acc: 0.9412\n",
            "Epoch 124/150\n",
            "78/78 [==============================] - 0s 428us/sample - loss: 0.0674 - acc: 0.9872 - val_loss: 0.1220 - val_acc: 0.9412\n",
            "Epoch 125/150\n",
            "78/78 [==============================] - 0s 520us/sample - loss: 0.0704 - acc: 0.9872 - val_loss: 0.1235 - val_acc: 0.9412\n",
            "Epoch 126/150\n",
            "78/78 [==============================] - 0s 488us/sample - loss: 0.0728 - acc: 0.9872 - val_loss: 0.1308 - val_acc: 0.9118\n",
            "Epoch 127/150\n",
            "78/78 [==============================] - 0s 434us/sample - loss: 0.0674 - acc: 0.9872 - val_loss: 0.1166 - val_acc: 0.9412\n",
            "Epoch 128/150\n",
            "78/78 [==============================] - 0s 472us/sample - loss: 0.0693 - acc: 0.9872 - val_loss: 0.1220 - val_acc: 0.9412\n",
            "Epoch 129/150\n",
            "78/78 [==============================] - 0s 453us/sample - loss: 0.0639 - acc: 0.9872 - val_loss: 0.1212 - val_acc: 0.9412\n",
            "Epoch 130/150\n",
            "78/78 [==============================] - 0s 490us/sample - loss: 0.0662 - acc: 0.9872 - val_loss: 0.1192 - val_acc: 0.9412\n",
            "Epoch 131/150\n",
            "78/78 [==============================] - 0s 491us/sample - loss: 0.0641 - acc: 0.9872 - val_loss: 0.1203 - val_acc: 0.9412\n",
            "Epoch 132/150\n",
            "78/78 [==============================] - 0s 422us/sample - loss: 0.0667 - acc: 0.9872 - val_loss: 0.1137 - val_acc: 0.9412\n",
            "Epoch 133/150\n",
            "78/78 [==============================] - 0s 449us/sample - loss: 0.0650 - acc: 0.9872 - val_loss: 0.1198 - val_acc: 0.9412\n",
            "Epoch 134/150\n",
            "78/78 [==============================] - 0s 436us/sample - loss: 0.0622 - acc: 0.9872 - val_loss: 0.1227 - val_acc: 0.9412\n",
            "Epoch 135/150\n",
            "78/78 [==============================] - 0s 472us/sample - loss: 0.0603 - acc: 0.9872 - val_loss: 0.1121 - val_acc: 0.9412\n",
            "Epoch 136/150\n",
            "78/78 [==============================] - 0s 436us/sample - loss: 0.0596 - acc: 0.9872 - val_loss: 0.1311 - val_acc: 0.9118\n",
            "Epoch 137/150\n",
            "78/78 [==============================] - 0s 488us/sample - loss: 0.0640 - acc: 0.9872 - val_loss: 0.1160 - val_acc: 0.9412\n",
            "Epoch 138/150\n",
            "78/78 [==============================] - 0s 445us/sample - loss: 0.0597 - acc: 0.9872 - val_loss: 0.1125 - val_acc: 0.9412\n",
            "Epoch 139/150\n",
            "78/78 [==============================] - 0s 479us/sample - loss: 0.0599 - acc: 0.9872 - val_loss: 0.1145 - val_acc: 0.9412\n",
            "Epoch 140/150\n",
            "78/78 [==============================] - 0s 453us/sample - loss: 0.0573 - acc: 0.9872 - val_loss: 0.1268 - val_acc: 0.9118\n",
            "Epoch 141/150\n",
            "78/78 [==============================] - 0s 486us/sample - loss: 0.0582 - acc: 0.9872 - val_loss: 0.1101 - val_acc: 0.9412\n",
            "Epoch 142/150\n",
            "78/78 [==============================] - 0s 486us/sample - loss: 0.0568 - acc: 0.9872 - val_loss: 0.1211 - val_acc: 0.9412\n",
            "Epoch 143/150\n",
            "78/78 [==============================] - 0s 409us/sample - loss: 0.0572 - acc: 0.9872 - val_loss: 0.1106 - val_acc: 0.9412\n",
            "Epoch 144/150\n",
            "78/78 [==============================] - 0s 505us/sample - loss: 0.0575 - acc: 0.9872 - val_loss: 0.1247 - val_acc: 0.9118\n",
            "Epoch 145/150\n",
            "78/78 [==============================] - 0s 436us/sample - loss: 0.0569 - acc: 0.9872 - val_loss: 0.1103 - val_acc: 0.9412\n",
            "Epoch 146/150\n",
            "78/78 [==============================] - 0s 439us/sample - loss: 0.0560 - acc: 0.9872 - val_loss: 0.1187 - val_acc: 0.9412\n",
            "Epoch 147/150\n",
            "78/78 [==============================] - 0s 503us/sample - loss: 0.0621 - acc: 0.9872 - val_loss: 0.1341 - val_acc: 0.9118\n",
            "Epoch 148/150\n",
            "78/78 [==============================] - 0s 511us/sample - loss: 0.0525 - acc: 0.9872 - val_loss: 0.1031 - val_acc: 0.9706\n",
            "Epoch 149/150\n",
            "78/78 [==============================] - 0s 457us/sample - loss: 0.0552 - acc: 0.9872 - val_loss: 0.1178 - val_acc: 0.9412\n",
            "Epoch 150/150\n",
            "78/78 [==============================] - 0s 430us/sample - loss: 0.0550 - acc: 0.9872 - val_loss: 0.1201 - val_acc: 0.9412\n"
          ],
          "name": "stdout"
        },
        {
          "output_type": "execute_result",
          "data": {
            "text/plain": [
              "'\\nhistory = model.fit(X_train,\\n                    y_train,\\n                    validation_data=(X_test, y_test),\\n                    nb_epoch=NB_EPOCHS,\\n                    batch_size=BATCH_SIZE,\\n                    callbacks=callbacks_list,\\n                    verbose=0)\\n'"
            ]
          },
          "metadata": {
            "tags": []
          },
          "execution_count": 67
        }
      ]
    },
    {
      "cell_type": "code",
      "metadata": {
        "id": "W0UbbpyL3kJ4",
        "colab_type": "code",
        "outputId": "b22be2a5-23f7-4712-d399-122b652572d9",
        "colab": {
          "base_uri": "https://localhost:8080/",
          "height": 295
        }
      },
      "source": [
        "# Model accuracy\n",
        "plt.plot(history.history['acc'])\n",
        "plt.plot(history.history['val_acc'])\n",
        "plt.title('Model Accuracy')\n",
        "plt.ylabel('accuracy')\n",
        "plt.xlabel('epoch')\n",
        "plt.legend(['train', 'test'])\n",
        "plt.show()"
      ],
      "execution_count": 68,
      "outputs": [
        {
          "output_type": "display_data",
          "data": {
            "image/png": "[encoded data removed]",
            "text/plain": [
              "<Figure size 432x288 with 1 Axes>"
            ]
          },
          "metadata": {
            "tags": []
          }
        }
      ]
    },
    {
      "cell_type": "code",
      "metadata": {
        "id": "6kS2JSjH3yJH",
        "colab_type": "code",
        "outputId": "f8bc56f4-eeb4-4051-e1ea-121922471b21",
        "colab": {
          "base_uri": "https://localhost:8080/",
          "height": 295
        }
      },
      "source": [
        "# Model Loss\n",
        "plt.plot(history.history['loss'])\n",
        "plt.plot(history.history['val_loss'])\n",
        "plt.title('Model Loss')\n",
        "plt.ylabel('loss')\n",
        "plt.xlabel('epoch')\n",
        "plt.legend(['train', 'test'])\n",
        "plt.show()"
      ],
      "execution_count": 69,
      "outputs": [
        {
          "output_type": "display_data",
          "data": {
            "image/png": "[encoded data removed]",
            "text/plain": [
              "<Figure size 432x288 with 1 Axes>"
            ]
          },
          "metadata": {
            "tags": []
          }
        }
      ]
    },
    {
      "cell_type": "code",
      "metadata": {
        "id": "WowyGVWS3y1X",
        "colab_type": "code",
        "colab": {}
      },
      "source": [
        "# load model\n",
        "model = tf.keras.models.load_model('iris-weights.best.hdf5')\n",
        "# summarize model.\n",
        "model.summary()"
      ],
      "execution_count": 0,
      "outputs": []
    },
    {
      "cell_type": "code",
      "metadata": {
        "id": "GICEuNO433v4",
        "colab_type": "code",
        "outputId": "a0f33358-90ec-4006-c6cd-df4a722b647f",
        "colab": {
          "base_uri": "https://localhost:8080/",
          "height": 34
        }
      },
      "source": [
        "# evaluate the model\n",
        "score = model.evaluate(X_test, y_test, verbose=0)\n",
        "print(\"%s: %.2f%%\" % (model.metrics_names[1], score[1]*100))"
      ],
      "execution_count": 70,
      "outputs": [
        {
          "output_type": "stream",
          "text": [
            "acc: 97.37%\n"
          ],
          "name": "stdout"
        }
      ]
    }
  ]
}