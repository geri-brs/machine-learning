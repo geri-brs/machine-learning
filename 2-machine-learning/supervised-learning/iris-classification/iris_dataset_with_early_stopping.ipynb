{
  "nbformat": 4,
  "nbformat_minor": 0,
  "metadata": {
    "colab": {
      "name": "iris_dataset_with_early_stopping.ipynb",
      "version": "0.3.2",
      "provenance": [],
      "collapsed_sections": []
    },
    "kernelspec": {
      "name": "python3",
      "display_name": "Python 3"
    }
  },
  "cells": [
    {
      "cell_type": "code",
      "metadata": {
        "id": "JHIiPgADxDsE",
        "colab_type": "code",
        "outputId": "f57aa7a0-136d-4b4a-e422-9644cc9d75c9",
        "colab": {
          "resources": {
            "http://localhost:8080/nbextensions/google.colab/files.js": {
              "data": "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",
              "ok": true,
              "headers": [
                [
                  "content-type",
                  "application/javascript"
                ]
              ],
              "status": 200,
              "status_text": ""
            }
          },
          "base_uri": "https://localhost:8080/",
          "height": 110
        }
      },
      "source": [
        "# Upload dataset\n",
        "from google.colab import files\n",
        "uploaded = files.upload()"
      ],
      "execution_count": 1,
      "outputs": [
        {
          "output_type": "display_data",
          "data": {
            "text/html": [
              "\n",
              "     <input type=\"file\" id=\"files-debc8d4c-c9d5-487d-80cf-12e14280e032\" name=\"files[]\" multiple disabled />\n",
              "     <output id=\"result-debc8d4c-c9d5-487d-80cf-12e14280e032\">\n",
              "      Upload widget is only available when the cell has been executed in the\n",
              "      current browser session. Please rerun this cell to enable.\n",
              "      </output>\n",
              "      <script src=\"/nbextensions/google.colab/files.js\"></script> "
            ],
            "text/plain": [
              "<IPython.core.display.HTML object>"
            ]
          },
          "metadata": {
            "tags": []
          }
        },
        {
          "output_type": "stream",
          "text": [
            "Saving data-iris.csv to data-iris.csv\n",
            "Saving data-iris-values.csv to data-iris-values.csv\n"
          ],
          "name": "stdout"
        }
      ]
    },
    {
      "cell_type": "code",
      "metadata": {
        "id": "KS0yheob-F2d",
        "colab_type": "code",
        "colab": {}
      },
      "source": [
        "# %matplotlib inline\n",
        "import numpy\n",
        "import pandas            as pd\n",
        "import matplotlib.pyplot as plt\n",
        "import tensorflow        as tf\n",
        "from   tensorflow.keras           import layers\n",
        "from   sklearn.preprocessing      import LabelEncoder, OneHotEncoder\n",
        "from   sklearn.model_selection    import train_test_split\n",
        "from   tensorflow.keras.callbacks import EarlyStopping"
      ],
      "execution_count": 0,
      "outputs": []
    },
    {
      "cell_type": "code",
      "metadata": {
        "id": "C4pEU8B3Do_P",
        "colab_type": "code",
        "outputId": "62a34e47-3ddc-47eb-bc30-10a5a16c5684",
        "colab": {
          "base_uri": "https://localhost:8080/",
          "height": 71
        }
      },
      "source": [
        "print(\"Versions:\")\n",
        "print(\"Tensorflow:\", tf.VERSION)\n",
        "# 1.14.0-rc1\n",
        "print(\"Keras: \", tf.keras.__version__)\n",
        "#2.2.4-tf"
      ],
      "execution_count": 34,
      "outputs": [
        {
          "output_type": "stream",
          "text": [
            "Versions:\n",
            "Tensorflow: 1.14.0-rc1\n",
            "Keras:  2.2.4-tf\n"
          ],
          "name": "stdout"
        }
      ]
    },
    {
      "cell_type": "code",
      "metadata": {
        "id": "GIIHNyinDo35",
        "colab_type": "code",
        "colab": {}
      },
      "source": [
        "# Fix random seed for reproducibility\n",
        "numpy.random.seed(7)"
      ],
      "execution_count": 0,
      "outputs": []
    },
    {
      "cell_type": "code",
      "metadata": {
        "id": "L38-NlO6Doz3",
        "colab_type": "code",
        "colab": {}
      },
      "source": [
        "# Load iris dataset\n",
        "path = \"./data-iris.csv\"\n",
        "dataset = pd.read_csv(path)"
      ],
      "execution_count": 0,
      "outputs": []
    },
    {
      "cell_type": "code",
      "metadata": {
        "id": "dsk63Ah-Dou4",
        "colab_type": "code",
        "colab": {}
      },
      "source": [
        "# print(features)\n",
        "features = list(dataset.columns.values)"
      ],
      "execution_count": 0,
      "outputs": []
    },
    {
      "cell_type": "code",
      "metadata": {
        "id": "qMSlKoGwDoqI",
        "colab_type": "code",
        "colab": {}
      },
      "source": [
        "# Extract output values(y) from dataset, remove unnecessary columns \n",
        "y = dataset.iloc[:, -1:].values\n",
        "features.remove('Species')\n",
        "features.remove('Id')\n",
        "X = dataset[features]"
      ],
      "execution_count": 0,
      "outputs": []
    },
    {
      "cell_type": "code",
      "metadata": {
        "id": "b8WVvNlekjFZ",
        "colab_type": "code",
        "colab": {}
      },
      "source": [
        "# One hot encoding\n",
        "le = LabelEncoder()\n",
        "y[:, 0] = le.fit_transform(y[:, 0])\n",
        "y = pd.Series(y.reshape(150,))"
      ],
      "execution_count": 0,
      "outputs": []
    },
    {
      "cell_type": "code",
      "metadata": {
        "id": "7G5W7ix2Dole",
        "colab_type": "code",
        "colab": {}
      },
      "source": [
        "TESTSIZE = 0.25\n",
        "X_train, X_test, y_train, y_test = train_test_split(X, y, test_size=TESTSIZE, random_state=0)"
      ],
      "execution_count": 0,
      "outputs": []
    },
    {
      "cell_type": "code",
      "metadata": {
        "id": "EfqMeeGPD2GQ",
        "colab_type": "code",
        "colab": {}
      },
      "source": [
        "# Ensure that fieldnames aren't included\n",
        "X_train = X_train.values\n",
        "y_train = y_train.values\n",
        "X_test  = X_test.values\n",
        "y_test  = y_test.values"
      ],
      "execution_count": 0,
      "outputs": []
    },
    {
      "cell_type": "code",
      "metadata": {
        "id": "mnPxlQpzD1_G",
        "colab_type": "code",
        "colab": {}
      },
      "source": [
        "NB_EPOCHS = 500  # num of epochs to test for\n",
        "BATCH_SIZE = 8"
      ],
      "execution_count": 0,
      "outputs": []
    },
    {
      "cell_type": "code",
      "metadata": {
        "id": "PUF6caPeD4lH",
        "colab_type": "code",
        "colab": {}
      },
      "source": [
        "## Create our model\n",
        "model = tf.keras.Sequential()\n",
        "model.add(layers.Dense(6, input_dim=4, activation='elu'))\n",
        "model.add(layers.Dense(6, activation='elu'))\n",
        "model.add(layers.Dense(3, activation='sigmoid' ))"
      ],
      "execution_count": 0,
      "outputs": []
    },
    {
      "cell_type": "code",
      "metadata": {
        "id": "Oha5A-zE3bGP",
        "colab_type": "code",
        "colab": {}
      },
      "source": [
        "# Compile the model\n",
        "model.compile(loss='sparse_categorical_crossentropy', \n",
        "              optimizer='adam',\n",
        "              metrics=['accuracy'])"
      ],
      "execution_count": 0,
      "outputs": []
    },
    {
      "cell_type": "code",
      "metadata": {
        "id": "hare7-lt3e5P",
        "colab_type": "code",
        "colab": {}
      },
      "source": [
        "# checkpoint: store the best model\n",
        "ckpt_model = 'iris-weights.best.hdf5'\n",
        "checkpoint = tf.keras.callbacks.ModelCheckpoint(ckpt_model,\n",
        "                            monitor='val_acc',\n",
        "                            verbose=1,\n",
        "                            save_best_only=True,\n",
        "                            mode='max')\n",
        "callbacks_list = [checkpoint]"
      ],
      "execution_count": 0,
      "outputs": []
    },
    {
      "cell_type": "code",
      "metadata": {
        "id": "2EyCjMkR3guX",
        "colab_type": "code",
        "outputId": "ccdb8dfc-1fc0-4331-a73b-8cd51cbddc7e",
        "colab": {
          "base_uri": "https://localhost:8080/",
          "height": 1945
        }
      },
      "source": [
        "#Set early stopping monitor\n",
        "early_stopping_monitor = EarlyStopping(patience=3)\n",
        "# Train the model, store the results for plotting\n",
        "print('Training...')\n",
        "history = model.fit(X_train,\n",
        "                    y_train,\n",
        "                    validation_data=(X_test, y_test),\n",
        "                    nb_epoch=NB_EPOCHS,\n",
        "                    batch_size=BATCH_SIZE,\n",
        "                    callbacks=[early_stopping_monitor])\n",
        "'''\n",
        "history = model.fit(X_train,\n",
        "                    y_train,\n",
        "                    validation_data=(X_test, y_test),\n",
        "                    nb_epoch=NB_EPOCHS,\n",
        "                    batch_size=BATCH_SIZE,\n",
        "                    callbacks=callbacks_list,\n",
        "                    verbose=0)\n",
        "'''"
      ],
      "execution_count": 63,
      "outputs": [
        {
          "output_type": "stream",
          "text": [
            "W0622 13:51:19.746889 140362295035776 training.py:593] The `nb_epoch` argument in `fit` has been renamed `epochs`.\n"
          ],
          "name": "stderr"
        },
        {
          "output_type": "stream",
          "text": [
            "Training...\n",
            "Train on 112 samples, validate on 38 samples\n",
            "Epoch 1/500\n",
            "112/112 [==============================] - 0s 1ms/sample - loss: 2.1374 - acc: 0.3661 - val_loss: 2.2139 - val_acc: 0.2368\n",
            "Epoch 2/500\n",
            "112/112 [==============================] - 0s 219us/sample - loss: 1.8448 - acc: 0.3661 - val_loss: 1.8751 - val_acc: 0.2368\n",
            "Epoch 3/500\n",
            "112/112 [==============================] - 0s 242us/sample - loss: 1.5455 - acc: 0.3661 - val_loss: 1.5389 - val_acc: 0.2368\n",
            "Epoch 4/500\n",
            "112/112 [==============================] - 0s 225us/sample - loss: 1.2665 - acc: 0.3661 - val_loss: 1.2568 - val_acc: 0.2632\n",
            "Epoch 5/500\n",
            "112/112 [==============================] - 0s 217us/sample - loss: 1.0757 - acc: 0.4286 - val_loss: 1.0566 - val_acc: 0.3421\n",
            "Epoch 6/500\n",
            "112/112 [==============================] - 0s 220us/sample - loss: 0.9526 - acc: 0.5268 - val_loss: 0.9447 - val_acc: 0.5263\n",
            "Epoch 7/500\n",
            "112/112 [==============================] - 0s 211us/sample - loss: 0.8780 - acc: 0.7321 - val_loss: 0.9203 - val_acc: 0.5789\n",
            "Epoch 8/500\n",
            "112/112 [==============================] - 0s 228us/sample - loss: 0.8274 - acc: 0.6875 - val_loss: 0.8971 - val_acc: 0.5789\n",
            "Epoch 9/500\n",
            "112/112 [==============================] - 0s 236us/sample - loss: 0.7816 - acc: 0.6964 - val_loss: 0.8458 - val_acc: 0.6053\n",
            "Epoch 10/500\n",
            "112/112 [==============================] - 0s 216us/sample - loss: 0.7406 - acc: 0.7768 - val_loss: 0.7814 - val_acc: 0.6316\n",
            "Epoch 11/500\n",
            "112/112 [==============================] - 0s 240us/sample - loss: 0.7041 - acc: 0.7589 - val_loss: 0.7716 - val_acc: 0.6053\n",
            "Epoch 12/500\n",
            "112/112 [==============================] - 0s 225us/sample - loss: 0.6652 - acc: 0.7589 - val_loss: 0.7148 - val_acc: 0.6316\n",
            "Epoch 13/500\n",
            "112/112 [==============================] - 0s 245us/sample - loss: 0.6337 - acc: 0.7768 - val_loss: 0.6954 - val_acc: 0.6316\n",
            "Epoch 14/500\n",
            "112/112 [==============================] - 0s 256us/sample - loss: 0.6054 - acc: 0.8125 - val_loss: 0.6607 - val_acc: 0.6579\n",
            "Epoch 15/500\n",
            "112/112 [==============================] - 0s 218us/sample - loss: 0.5787 - acc: 0.7946 - val_loss: 0.6440 - val_acc: 0.6316\n",
            "Epoch 16/500\n",
            "112/112 [==============================] - 0s 209us/sample - loss: 0.5609 - acc: 0.7679 - val_loss: 0.6328 - val_acc: 0.6316\n",
            "Epoch 17/500\n",
            "112/112 [==============================] - 0s 219us/sample - loss: 0.5360 - acc: 0.8125 - val_loss: 0.5922 - val_acc: 0.7105\n",
            "Epoch 18/500\n",
            "112/112 [==============================] - 0s 214us/sample - loss: 0.5212 - acc: 0.8929 - val_loss: 0.5660 - val_acc: 0.7632\n",
            "Epoch 19/500\n",
            "112/112 [==============================] - 0s 223us/sample - loss: 0.5056 - acc: 0.8304 - val_loss: 0.5678 - val_acc: 0.6579\n",
            "Epoch 20/500\n",
            "112/112 [==============================] - 0s 222us/sample - loss: 0.4872 - acc: 0.8214 - val_loss: 0.5503 - val_acc: 0.6842\n",
            "Epoch 21/500\n",
            "112/112 [==============================] - 0s 213us/sample - loss: 0.4747 - acc: 0.8929 - val_loss: 0.5252 - val_acc: 0.7632\n",
            "Epoch 22/500\n",
            "112/112 [==============================] - 0s 237us/sample - loss: 0.4618 - acc: 0.9196 - val_loss: 0.5123 - val_acc: 0.7632\n",
            "Epoch 23/500\n",
            "112/112 [==============================] - 0s 213us/sample - loss: 0.4501 - acc: 0.8661 - val_loss: 0.5198 - val_acc: 0.6842\n",
            "Epoch 24/500\n",
            "112/112 [==============================] - 0s 217us/sample - loss: 0.4385 - acc: 0.8839 - val_loss: 0.4904 - val_acc: 0.7632\n",
            "Epoch 25/500\n",
            "112/112 [==============================] - 0s 223us/sample - loss: 0.4280 - acc: 0.9196 - val_loss: 0.4792 - val_acc: 0.7895\n",
            "Epoch 26/500\n",
            "112/112 [==============================] - 0s 205us/sample - loss: 0.4181 - acc: 0.9196 - val_loss: 0.4800 - val_acc: 0.7368\n",
            "Epoch 27/500\n",
            "112/112 [==============================] - 0s 227us/sample - loss: 0.4082 - acc: 0.9018 - val_loss: 0.4620 - val_acc: 0.8158\n",
            "Epoch 28/500\n",
            "112/112 [==============================] - 0s 212us/sample - loss: 0.4004 - acc: 0.9554 - val_loss: 0.4469 - val_acc: 0.8684\n",
            "Epoch 29/500\n",
            "112/112 [==============================] - 0s 204us/sample - loss: 0.3922 - acc: 0.9286 - val_loss: 0.4568 - val_acc: 0.7368\n",
            "Epoch 30/500\n",
            "112/112 [==============================] - 0s 234us/sample - loss: 0.3845 - acc: 0.9107 - val_loss: 0.4443 - val_acc: 0.7895\n",
            "Epoch 31/500\n",
            "112/112 [==============================] - 0s 212us/sample - loss: 0.3733 - acc: 0.9464 - val_loss: 0.4206 - val_acc: 0.9211\n",
            "Epoch 32/500\n",
            "112/112 [==============================] - 0s 219us/sample - loss: 0.3675 - acc: 0.9643 - val_loss: 0.4159 - val_acc: 0.9211\n",
            "Epoch 33/500\n",
            "112/112 [==============================] - 0s 219us/sample - loss: 0.3603 - acc: 0.9375 - val_loss: 0.4148 - val_acc: 0.8684\n",
            "Epoch 34/500\n",
            "112/112 [==============================] - 0s 241us/sample - loss: 0.3536 - acc: 0.9464 - val_loss: 0.4104 - val_acc: 0.8684\n",
            "Epoch 35/500\n",
            "112/112 [==============================] - 0s 219us/sample - loss: 0.3459 - acc: 0.9464 - val_loss: 0.3971 - val_acc: 0.9211\n",
            "Epoch 36/500\n",
            "112/112 [==============================] - 0s 223us/sample - loss: 0.3393 - acc: 0.9643 - val_loss: 0.3892 - val_acc: 0.9211\n",
            "Epoch 37/500\n",
            "112/112 [==============================] - 0s 222us/sample - loss: 0.3355 - acc: 0.9732 - val_loss: 0.3840 - val_acc: 0.9211\n",
            "Epoch 38/500\n",
            "112/112 [==============================] - 0s 228us/sample - loss: 0.3283 - acc: 0.9375 - val_loss: 0.3889 - val_acc: 0.8684\n",
            "Epoch 39/500\n",
            "112/112 [==============================] - 0s 219us/sample - loss: 0.3213 - acc: 0.9643 - val_loss: 0.3690 - val_acc: 0.9211\n",
            "Epoch 40/500\n",
            "112/112 [==============================] - 0s 211us/sample - loss: 0.3147 - acc: 0.9732 - val_loss: 0.3735 - val_acc: 0.9211\n",
            "Epoch 41/500\n",
            "112/112 [==============================] - 0s 226us/sample - loss: 0.3115 - acc: 0.9732 - val_loss: 0.3556 - val_acc: 0.9474\n",
            "Epoch 42/500\n",
            "112/112 [==============================] - 0s 221us/sample - loss: 0.3028 - acc: 0.9732 - val_loss: 0.3577 - val_acc: 0.9211\n",
            "Epoch 43/500\n",
            "112/112 [==============================] - 0s 244us/sample - loss: 0.3036 - acc: 0.9375 - val_loss: 0.3758 - val_acc: 0.8684\n",
            "Epoch 44/500\n",
            "112/112 [==============================] - 0s 258us/sample - loss: 0.2919 - acc: 0.9732 - val_loss: 0.3374 - val_acc: 0.9474\n",
            "Epoch 45/500\n",
            "112/112 [==============================] - 0s 216us/sample - loss: 0.2895 - acc: 0.9821 - val_loss: 0.3333 - val_acc: 0.9474\n",
            "Epoch 46/500\n",
            "112/112 [==============================] - 0s 226us/sample - loss: 0.2836 - acc: 0.9643 - val_loss: 0.3562 - val_acc: 0.8947\n",
            "Epoch 47/500\n",
            "112/112 [==============================] - 0s 244us/sample - loss: 0.2780 - acc: 0.9643 - val_loss: 0.3303 - val_acc: 0.9474\n",
            "Epoch 48/500\n",
            "112/112 [==============================] - 0s 231us/sample - loss: 0.2733 - acc: 0.9821 - val_loss: 0.3114 - val_acc: 0.9737\n",
            "Epoch 49/500\n",
            "112/112 [==============================] - 0s 224us/sample - loss: 0.2682 - acc: 0.9821 - val_loss: 0.3356 - val_acc: 0.9211\n",
            "Epoch 50/500\n",
            "112/112 [==============================] - 0s 206us/sample - loss: 0.2627 - acc: 0.9643 - val_loss: 0.3157 - val_acc: 0.9474\n",
            "Epoch 51/500\n",
            "112/112 [==============================] - 0s 253us/sample - loss: 0.2585 - acc: 0.9732 - val_loss: 0.3158 - val_acc: 0.9211\n"
          ],
          "name": "stdout"
        },
        {
          "output_type": "execute_result",
          "data": {
            "text/plain": [
              "'\\nhistory = model.fit(X_train,\\n                    y_train,\\n                    validation_data=(X_test, y_test),\\n                    nb_epoch=NB_EPOCHS,\\n                    batch_size=BATCH_SIZE,\\n                    callbacks=callbacks_list,\\n                    verbose=0)\\n'"
            ]
          },
          "metadata": {
            "tags": []
          },
          "execution_count": 63
        }
      ]
    },
    {
      "cell_type": "code",
      "metadata": {
        "id": "W0UbbpyL3kJ4",
        "colab_type": "code",
        "outputId": "bd502b07-a12d-4306-9dc7-b413f9b36bdf",
        "colab": {
          "base_uri": "https://localhost:8080/",
          "height": 295
        }
      },
      "source": [
        "# Model accuracy\n",
        "plt.plot(history.history['acc'])\n",
        "plt.plot(history.history['val_acc'])\n",
        "plt.title('Model Accuracy')\n",
        "plt.ylabel('accuracy')\n",
        "plt.xlabel('epoch')\n",
        "plt.legend(['train', 'test'])\n",
        "plt.show()"
      ],
      "execution_count": 64,
      "outputs": [
        {
          "output_type": "display_data",
          "data": {
            "image/png": "[encoded data removed]",
            "text/plain": [
              "<Figure size 432x288 with 1 Axes>"
            ]
          },
          "metadata": {
            "tags": []
          }
        }
      ]
    },
    {
      "cell_type": "code",
      "metadata": {
        "id": "6kS2JSjH3yJH",
        "colab_type": "code",
        "outputId": "28295af3-08ea-4afd-b482-c0e496e042fb",
        "colab": {
          "base_uri": "https://localhost:8080/",
          "height": 295
        }
      },
      "source": [
        "# Model Loss\n",
        "plt.plot(history.history['loss'])\n",
        "plt.plot(history.history['val_loss'])\n",
        "plt.title('Model Loss')\n",
        "plt.ylabel('loss')\n",
        "plt.xlabel('epoch')\n",
        "plt.legend(['train', 'test'])\n",
        "plt.show()"
      ],
      "execution_count": 65,
      "outputs": [
        {
          "output_type": "display_data",
          "data": {
            "image/png": "[encoded data removed]",
            "text/plain": [
              "<Figure size 432x288 with 1 Axes>"
            ]
          },
          "metadata": {
            "tags": []
          }
        }
      ]
    },
    {
      "cell_type": "code",
      "metadata": {
        "id": "WowyGVWS3y1X",
        "colab_type": "code",
        "colab": {}
      },
      "source": [
        "# load model\n",
        "model = tf.keras.models.load_model('iris-weights.best.hdf5')\n",
        "# summarize model.\n",
        "model.summary()"
      ],
      "execution_count": 0,
      "outputs": []
    },
    {
      "cell_type": "code",
      "metadata": {
        "id": "GICEuNO433v4",
        "colab_type": "code",
        "outputId": "6e90ab56-3d7c-42eb-8026-710920325d4b",
        "colab": {
          "base_uri": "https://localhost:8080/",
          "height": 35
        }
      },
      "source": [
        "# evaluate the model\n",
        "score = model.evaluate(X_test, y_test, verbose=0)\n",
        "print(\"%s: %.2f%%\" % (model.metrics_names[1], score[1]*100))"
      ],
      "execution_count": 66,
      "outputs": [
        {
          "output_type": "stream",
          "text": [
            "acc: 92.11%\n"
          ],
          "name": "stdout"
        }
      ]
    }
  ]
}
